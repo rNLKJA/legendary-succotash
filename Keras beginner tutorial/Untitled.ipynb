{
 "cells": [
  {
   "cell_type": "markdown",
   "id": "b11ec6e5-6f79-4879-82d7-adb602ec4254",
   "metadata": {},
   "source": [
    "# Tensorflow Beginner Tutorial\n",
    "\n",
    "This tutorial is based on this youtube link https://www.youtube.com/watch?v=qFJeN9V1ZsI.\n",
    "\n",
    "Check out the blog post and other resources for this course https://www.youtube.com/redirect?event=video_description&redir_token=QUFFLUhqbkdudlB0TFZSWldWbDNVOFpyVjhQLVlPRHpaZ3xBQ3Jtc0tucW1xU2VVdFpBa0lDck43aUlqalhZQ2hNSDZXLWxMbVZEcFB0eWowSmF3ZkJzcXAtTHBzOUVGN3gydi00aUd1LWFwSVNCWXdTYXo1TjFZUnJvSTJ1QzdnOTZRYmRGTlBkcVpURjdFVHUzcUxnU3I5Yw&q=https%3A%2F%2Fdeeplizard.com%2Flearn%2Fvideo%2FRznKVRTFkBY"
   ]
  },
  {
   "cell_type": "markdown",
   "id": "8222d137-9ecc-49f4-99a8-ef8d7b80f96c",
   "metadata": {},
   "source": [
    "## Tensorflow develop requirement"
   ]
  },
  {
   "cell_type": "code",
   "execution_count": null,
   "id": "47e70f95-d03a-4ece-bf95-b75714f8120c",
   "metadata": {
    "execution": {
     "iopub.execute_input": "2022-03-11T13:56:15.410919Z",
     "iopub.status.busy": "2022-03-11T13:56:15.410557Z"
    },
    "scrolled": true,
    "tags": []
   },
   "outputs": [
    {
     "name": "stdout",
     "output_type": "stream",
     "text": [
      "Requirement already satisfied: tensorflow==2.8 in /Users/huangsunchuangyu/opt/anaconda3/lib/python3.8/site-packages (2.8.0)\n",
      "Requirement already satisfied: numpy>=1.20 in /Users/huangsunchuangyu/.local/lib/python3.8/site-packages (from tensorflow==2.8) (1.20.3)\n",
      "Requirement already satisfied: termcolor>=1.1.0 in /Users/huangsunchuangyu/opt/anaconda3/lib/python3.8/site-packages (from tensorflow==2.8) (1.1.0)\n",
      "Requirement already satisfied: google-pasta>=0.1.1 in /Users/huangsunchuangyu/opt/anaconda3/lib/python3.8/site-packages (from tensorflow==2.8) (0.2.0)\n",
      "Requirement already satisfied: libclang>=9.0.1 in /Users/huangsunchuangyu/opt/anaconda3/lib/python3.8/site-packages (from tensorflow==2.8) (13.0.0)\n",
      "Requirement already satisfied: tf-estimator-nightly==2.8.0.dev2021122109 in /Users/huangsunchuangyu/opt/anaconda3/lib/python3.8/site-packages (from tensorflow==2.8) (2.8.0.dev2021122109)\n",
      "Requirement already satisfied: keras<2.9,>=2.8.0rc0 in /Users/huangsunchuangyu/opt/anaconda3/lib/python3.8/site-packages (from tensorflow==2.8) (2.8.0)\n",
      "Requirement already satisfied: six>=1.12.0 in /Users/huangsunchuangyu/opt/anaconda3/lib/python3.8/site-packages (from tensorflow==2.8) (1.16.0)\n",
      "Requirement already satisfied: flatbuffers>=1.12 in /Users/huangsunchuangyu/opt/anaconda3/lib/python3.8/site-packages (from tensorflow==2.8) (2.0)\n",
      "Requirement already satisfied: astunparse>=1.6.0 in /Users/huangsunchuangyu/opt/anaconda3/lib/python3.8/site-packages (from tensorflow==2.8) (1.6.3)\n",
      "Requirement already satisfied: wrapt>=1.11.0 in /Users/huangsunchuangyu/opt/anaconda3/lib/python3.8/site-packages (from tensorflow==2.8) (1.12.1)\n",
      "Requirement already satisfied: absl-py>=0.4.0 in /Users/huangsunchuangyu/opt/anaconda3/lib/python3.8/site-packages (from tensorflow==2.8) (1.0.0)\n",
      "Requirement already satisfied: protobuf>=3.9.2 in /Users/huangsunchuangyu/opt/anaconda3/lib/python3.8/site-packages (from tensorflow==2.8) (3.19.4)\n",
      "Requirement already satisfied: keras-preprocessing>=1.1.1 in /Users/huangsunchuangyu/opt/anaconda3/lib/python3.8/site-packages (from tensorflow==2.8) (1.1.2)\n",
      "Requirement already satisfied: grpcio<2.0,>=1.24.3 in /Users/huangsunchuangyu/opt/anaconda3/lib/python3.8/site-packages (from tensorflow==2.8) (1.44.0)\n",
      "Requirement already satisfied: typing-extensions>=3.6.6 in /Users/huangsunchuangyu/opt/anaconda3/lib/python3.8/site-packages (from tensorflow==2.8) (3.10.0.2)\n",
      "Requirement already satisfied: h5py>=2.9.0 in /Users/huangsunchuangyu/opt/anaconda3/lib/python3.8/site-packages (from tensorflow==2.8) (2.10.0)\n",
      "Requirement already satisfied: setuptools in /Users/huangsunchuangyu/.local/lib/python3.8/site-packages (from tensorflow==2.8) (58.2.0)\n",
      "Requirement already satisfied: tensorboard<2.9,>=2.8 in /Users/huangsunchuangyu/opt/anaconda3/lib/python3.8/site-packages (from tensorflow==2.8) (2.8.0)\n",
      "Requirement already satisfied: opt-einsum>=2.3.2 in /Users/huangsunchuangyu/opt/anaconda3/lib/python3.8/site-packages (from tensorflow==2.8) (3.3.0)\n",
      "Requirement already satisfied: gast>=0.2.1 in /Users/huangsunchuangyu/opt/anaconda3/lib/python3.8/site-packages (from tensorflow==2.8) (0.5.3)\n",
      "Requirement already satisfied: tensorflow-io-gcs-filesystem>=0.23.1 in /Users/huangsunchuangyu/opt/anaconda3/lib/python3.8/site-packages (from tensorflow==2.8) (0.24.0)\n",
      "Requirement already satisfied: wheel<1.0,>=0.23.0 in /Users/huangsunchuangyu/opt/anaconda3/lib/python3.8/site-packages (from astunparse>=1.6.0->tensorflow==2.8) (0.37.1)\n",
      "Requirement already satisfied: requests<3,>=2.21.0 in /Users/huangsunchuangyu/opt/anaconda3/lib/python3.8/site-packages (from tensorboard<2.9,>=2.8->tensorflow==2.8) (2.27.1)\n",
      "Requirement already satisfied: google-auth<3,>=1.6.3 in /Users/huangsunchuangyu/opt/anaconda3/lib/python3.8/site-packages (from tensorboard<2.9,>=2.8->tensorflow==2.8) (2.6.0)\n",
      "Requirement already satisfied: google-auth-oauthlib<0.5,>=0.4.1 in /Users/huangsunchuangyu/opt/anaconda3/lib/python3.8/site-packages (from tensorboard<2.9,>=2.8->tensorflow==2.8) (0.4.6)\n",
      "Requirement already satisfied: markdown>=2.6.8 in /Users/huangsunchuangyu/opt/anaconda3/lib/python3.8/site-packages (from tensorboard<2.9,>=2.8->tensorflow==2.8) (3.3.6)\n",
      "Requirement already satisfied: werkzeug>=0.11.15 in /Users/huangsunchuangyu/opt/anaconda3/lib/python3.8/site-packages (from tensorboard<2.9,>=2.8->tensorflow==2.8) (2.0.3)\n",
      "Requirement already satisfied: tensorboard-data-server<0.7.0,>=0.6.0 in /Users/huangsunchuangyu/opt/anaconda3/lib/python3.8/site-packages (from tensorboard<2.9,>=2.8->tensorflow==2.8) (0.6.1)\n",
      "Requirement already satisfied: tensorboard-plugin-wit>=1.6.0 in /Users/huangsunchuangyu/opt/anaconda3/lib/python3.8/site-packages (from tensorboard<2.9,>=2.8->tensorflow==2.8) (1.8.1)\n",
      "Requirement already satisfied: pyasn1-modules>=0.2.1 in /Users/huangsunchuangyu/opt/anaconda3/lib/python3.8/site-packages (from google-auth<3,>=1.6.3->tensorboard<2.9,>=2.8->tensorflow==2.8) (0.2.8)\n",
      "Requirement already satisfied: cachetools<6.0,>=2.0.0 in /Users/huangsunchuangyu/opt/anaconda3/lib/python3.8/site-packages (from google-auth<3,>=1.6.3->tensorboard<2.9,>=2.8->tensorflow==2.8) (5.0.0)\n",
      "Requirement already satisfied: rsa<5,>=3.1.4 in /Users/huangsunchuangyu/opt/anaconda3/lib/python3.8/site-packages (from google-auth<3,>=1.6.3->tensorboard<2.9,>=2.8->tensorflow==2.8) (4.8)\n",
      "Requirement already satisfied: requests-oauthlib>=0.7.0 in /Users/huangsunchuangyu/opt/anaconda3/lib/python3.8/site-packages (from google-auth-oauthlib<0.5,>=0.4.1->tensorboard<2.9,>=2.8->tensorflow==2.8) (1.3.1)\n",
      "Requirement already satisfied: importlib-metadata>=4.4 in /Users/huangsunchuangyu/opt/anaconda3/lib/python3.8/site-packages (from markdown>=2.6.8->tensorboard<2.9,>=2.8->tensorflow==2.8) (4.8.2)\n",
      "Requirement already satisfied: zipp>=0.5 in /Users/huangsunchuangyu/opt/anaconda3/lib/python3.8/site-packages (from importlib-metadata>=4.4->markdown>=2.6.8->tensorboard<2.9,>=2.8->tensorflow==2.8) (3.7.0)\n",
      "Requirement already satisfied: pyasn1<0.5.0,>=0.4.6 in /Users/huangsunchuangyu/opt/anaconda3/lib/python3.8/site-packages (from pyasn1-modules>=0.2.1->google-auth<3,>=1.6.3->tensorboard<2.9,>=2.8->tensorflow==2.8) (0.4.8)\n",
      "Requirement already satisfied: charset-normalizer~=2.0.0 in /Users/huangsunchuangyu/opt/anaconda3/lib/python3.8/site-packages (from requests<3,>=2.21.0->tensorboard<2.9,>=2.8->tensorflow==2.8) (2.0.4)\n",
      "Requirement already satisfied: idna<4,>=2.5 in /Users/huangsunchuangyu/opt/anaconda3/lib/python3.8/site-packages (from requests<3,>=2.21.0->tensorboard<2.9,>=2.8->tensorflow==2.8) (3.3)\n",
      "Requirement already satisfied: urllib3<1.27,>=1.21.1 in /Users/huangsunchuangyu/opt/anaconda3/lib/python3.8/site-packages (from requests<3,>=2.21.0->tensorboard<2.9,>=2.8->tensorflow==2.8) (1.26.8)\n",
      "Requirement already satisfied: certifi>=2017.4.17 in /Users/huangsunchuangyu/opt/anaconda3/lib/python3.8/site-packages (from requests<3,>=2.21.0->tensorboard<2.9,>=2.8->tensorflow==2.8) (2021.10.8)\n",
      "Requirement already satisfied: oauthlib>=3.0.0 in /Users/huangsunchuangyu/opt/anaconda3/lib/python3.8/site-packages (from requests-oauthlib>=0.7.0->google-auth-oauthlib<0.5,>=0.4.1->tensorboard<2.9,>=2.8->tensorflow==2.8) (3.2.0)\n",
      "Collecting package metadata (current_repodata.json): done\n",
      "Solving environment: - \n",
      "The environment is inconsistent, please check the package plan carefully\n",
      "The following packages are causing the inconsistency:\n",
      "\n",
      "  - defaults/noarch::python-language-server==0.36.2=pyhd3eb1b0_0\n",
      "  - defaults/noarch::pyls-black==0.4.6=hd3eb1b0_0\n",
      "failed with initial frozen solve. Retrying with flexible solve.\n",
      "Solving environment: failed with repodata from current_repodata.json, will retry with next repodata source.\n",
      "Collecting package metadata (repodata.json): done\n",
      "Solving environment: - \n",
      "The environment is inconsistent, please check the package plan carefully\n",
      "The following packages are causing the inconsistency:\n",
      "\n",
      "  - defaults/noarch::python-language-server==0.36.2=pyhd3eb1b0_0\n",
      "  - defaults/noarch::pyls-black==0.4.6=hd3eb1b0_0\n",
      "\\ "
     ]
    }
   ],
   "source": [
    "# install tensorflow\n",
    "!pip3 install tensorflow==2.8 # or\n",
    "!conda install -c conda-forge tensorflow -y"
   ]
  },
  {
   "cell_type": "code",
   "execution_count": 5,
   "id": "4a8f69ec-411a-43e9-8a2b-40acda68245c",
   "metadata": {
    "execution": {
     "iopub.execute_input": "2022-03-11T13:54:01.719998Z",
     "iopub.status.busy": "2022-03-11T13:54:01.719612Z",
     "iopub.status.idle": "2022-03-11T13:54:01.728395Z",
     "shell.execute_reply": "2022-03-11T13:54:01.726493Z",
     "shell.execute_reply.started": "2022-03-11T13:54:01.719967Z"
    },
    "tags": []
   },
   "outputs": [
    {
     "data": {
      "text/plain": [
       "'2.5.0'"
      ]
     },
     "execution_count": 5,
     "metadata": {},
     "output_type": "execute_result"
    }
   ],
   "source": [
    "# check tensorflow version\n",
    "import tensorflow as tf\n",
    "tf.__version__"
   ]
  },
  {
   "cell_type": "markdown",
   "id": "aecbc305-cf6c-4a8a-8d5d-cdd74ae1da02",
   "metadata": {},
   "source": [
    "## Keras with TensorFlow - Data Processing for Neural Network Training"
   ]
  },
  {
   "cell_type": "code",
   "execution_count": 1,
   "id": "d1460cb2-2aec-4d04-a8f1-1b46fa4df979",
   "metadata": {
    "execution": {
     "iopub.execute_input": "2022-03-11T14:06:57.067038Z",
     "iopub.status.busy": "2022-03-11T14:06:57.066725Z",
     "iopub.status.idle": "2022-03-11T14:06:57.911783Z",
     "shell.execute_reply": "2022-03-11T14:06:57.911141Z",
     "shell.execute_reply.started": "2022-03-11T14:06:57.066997Z"
    },
    "tags": []
   },
   "outputs": [],
   "source": [
    "# import required libraries\n",
    "import numpy as np\n",
    "from random import randint\n",
    "from sklearn.utils import shuffle\n",
    "from sklearn.preprocessing import MinMaxScaler"
   ]
  },
  {
   "cell_type": "code",
   "execution_count": 11,
   "id": "87a19890-f74f-4490-8c4d-e5416d1cc885",
   "metadata": {
    "execution": {
     "iopub.execute_input": "2022-03-11T14:10:34.541074Z",
     "iopub.status.busy": "2022-03-11T14:10:34.540812Z",
     "iopub.status.idle": "2022-03-11T14:10:34.545466Z",
     "shell.execute_reply": "2022-03-11T14:10:34.544622Z",
     "shell.execute_reply.started": "2022-03-11T14:10:34.541048Z"
    },
    "tags": []
   },
   "outputs": [],
   "source": [
    "train_labels, train_samples = [], []"
   ]
  },
  {
   "cell_type": "markdown",
   "id": "8da7eb86-ffde-4223-af2c-ab6967f7c828",
   "metadata": {},
   "source": [
    "**Example data**\n",
    "- An experiemental drug was tested on individuals from ages 13 to 100 in a clinical trail\n",
    "- The trail had 2100 participants. Half were under 65 years old, half were 65 years or older\n",
    "- Around 95% of patients 65 or older experienced side effects\n",
    "- Around 95% of patients under 65 experienced no side effects"
   ]
  },
  {
   "cell_type": "code",
   "execution_count": 12,
   "id": "4e468cec-5508-4b32-beb2-5329c139e770",
   "metadata": {
    "execution": {
     "iopub.execute_input": "2022-03-11T14:10:34.910538Z",
     "iopub.status.busy": "2022-03-11T14:10:34.910245Z",
     "iopub.status.idle": "2022-03-11T14:10:34.919780Z",
     "shell.execute_reply": "2022-03-11T14:10:34.918987Z",
     "shell.execute_reply.started": "2022-03-11T14:10:34.910509Z"
    },
    "tags": []
   },
   "outputs": [],
   "source": [
    "for i in range(50):\n",
    "    # the ~5% of younger individuals who did experience side effects\n",
    "    random_younger = randint(13, 64)\n",
    "    train_samples.append(random_younger)\n",
    "    train_labels.append(1)\n",
    "    \n",
    "    # the ~5% of older individuals who did not experience side effects\n",
    "    random_older = randint(65, 100)\n",
    "    train_samples.append(random_older)\n",
    "    train_labels.append(0)\n",
    "\n",
    "for i in range(1000):\n",
    "    # the ~95% of younger individuals who did not experience side effects\n",
    "    random_younger = randint(13, 64)\n",
    "    train_samples.append(random_younger)\n",
    "    train_labels.append(0)\n",
    "    \n",
    "    # the ~95% of older individuals who did experience side effects\n",
    "    random_older = randint(65, 100)\n",
    "    train_samples.append(random_older)\n",
    "    train_labels.append(1)"
   ]
  },
  {
   "cell_type": "code",
   "execution_count": 13,
   "id": "c5467389-b03d-44dd-bc90-cdd8bb2715ba",
   "metadata": {
    "execution": {
     "iopub.execute_input": "2022-03-11T14:10:35.291182Z",
     "iopub.status.busy": "2022-03-11T14:10:35.290919Z",
     "iopub.status.idle": "2022-03-11T14:10:35.295705Z",
     "shell.execute_reply": "2022-03-11T14:10:35.294942Z",
     "shell.execute_reply.started": "2022-03-11T14:10:35.291157Z"
    },
    "tags": []
   },
   "outputs": [],
   "source": [
    "# convert data into a pandas array\n",
    "train_labels = np.array(train_labels)\n",
    "train_samples = np.array(train_samples)\n",
    "train_labels, train_samples = shuffle(train_labels, train_samples)"
   ]
  },
  {
   "cell_type": "code",
   "execution_count": 14,
   "id": "576a7a13-954a-4274-ae96-2c448b84ecb2",
   "metadata": {
    "execution": {
     "iopub.execute_input": "2022-03-11T14:11:27.077142Z",
     "iopub.status.busy": "2022-03-11T14:11:27.076852Z",
     "iopub.status.idle": "2022-03-11T14:11:27.082514Z",
     "shell.execute_reply": "2022-03-11T14:11:27.081375Z",
     "shell.execute_reply.started": "2022-03-11T14:11:27.077116Z"
    }
   },
   "outputs": [],
   "source": [
    "# normalise data use min-max scaler\n",
    "scaler = MinMaxScaler(feature_range=(0, 1))\n",
    "scaled_train_samples = scaler.fit_transform(train_samples.reshape(-1, 1))"
   ]
  },
  {
   "cell_type": "code",
   "execution_count": 15,
   "id": "4e6957a1-b93c-4778-8562-fd07c2ba0fce",
   "metadata": {
    "execution": {
     "iopub.execute_input": "2022-03-11T14:11:41.548687Z",
     "iopub.status.busy": "2022-03-11T14:11:41.548386Z",
     "iopub.status.idle": "2022-03-11T14:11:41.554435Z",
     "shell.execute_reply": "2022-03-11T14:11:41.553538Z",
     "shell.execute_reply.started": "2022-03-11T14:11:41.548660Z"
    }
   },
   "outputs": [
    {
     "data": {
      "text/plain": [
       "array([[0.65517241],\n",
       "       [0.40229885],\n",
       "       [0.72413793],\n",
       "       [0.49425287],\n",
       "       [0.11494253]])"
      ]
     },
     "execution_count": 15,
     "metadata": {},
     "output_type": "execute_result"
    }
   ],
   "source": [
    "scaled_train_samples[:5]"
   ]
  },
  {
   "cell_type": "markdown",
   "id": "e82005bc-4654-4876-9162-a926690383f3",
   "metadata": {},
   "source": [
    "## Create an Artificial Neural Network with TensorFlow's Keras API"
   ]
  },
  {
   "cell_type": "code",
   "execution_count": 17,
   "id": "7fe7b3e8-2746-4634-a764-bf708c9579ce",
   "metadata": {
    "execution": {
     "iopub.execute_input": "2022-03-11T14:14:12.405468Z",
     "iopub.status.busy": "2022-03-11T14:14:12.405160Z",
     "iopub.status.idle": "2022-03-11T14:14:12.409530Z",
     "shell.execute_reply": "2022-03-11T14:14:12.408686Z",
     "shell.execute_reply.started": "2022-03-11T14:14:12.405443Z"
    },
    "tags": []
   },
   "outputs": [],
   "source": [
    "# import required libraries\n",
    "import tensorflow as tf\n",
    "from tensorflow import keras\n",
    "from tensorflow.keras.models import Sequential\n",
    "from tensorflow.keras.layers import Activation, Dense\n",
    "from tensorflow.keras.optimizers import Adam\n",
    "from tensorflow.keras.metrics import categorical_crossentropy"
   ]
  },
  {
   "cell_type": "code",
   "execution_count": 19,
   "id": "cc463bc4-677f-4ea1-85d4-a373cc72a920",
   "metadata": {
    "collapsed": true,
    "execution": {
     "iopub.execute_input": "2022-03-11T14:16:22.440400Z",
     "iopub.status.busy": "2022-03-11T14:16:22.440113Z",
     "iopub.status.idle": "2022-03-11T14:16:22.464721Z",
     "shell.execute_reply": "2022-03-11T14:16:22.460462Z",
     "shell.execute_reply.started": "2022-03-11T14:16:22.440369Z"
    },
    "jupyter": {
     "outputs_hidden": true
    },
    "tags": []
   },
   "outputs": [
    {
     "name": "stdout",
     "output_type": "stream",
     "text": [
      "Num GPUs Available:  0\n"
     ]
    },
    {
     "ename": "IndexError",
     "evalue": "list index out of range",
     "output_type": "error",
     "traceback": [
      "\u001b[0;31m---------------------------------------------------------------------------\u001b[0m",
      "\u001b[0;31mIndexError\u001b[0m                                Traceback (most recent call last)",
      "\u001b[0;32m/var/folders/zq/9h3tvlbn68nd_zjmj39zc0xc0000gn/T/ipykernel_5733/13017840.py\u001b[0m in \u001b[0;36m<module>\u001b[0;34m\u001b[0m\n\u001b[1;32m      1\u001b[0m \u001b[0mphysical_devices\u001b[0m \u001b[0;34m=\u001b[0m \u001b[0mtf\u001b[0m\u001b[0;34m.\u001b[0m\u001b[0mconfig\u001b[0m\u001b[0;34m.\u001b[0m\u001b[0mexperimental\u001b[0m\u001b[0;34m.\u001b[0m\u001b[0mlist_physical_devices\u001b[0m\u001b[0;34m(\u001b[0m\u001b[0;34m'GPU'\u001b[0m\u001b[0;34m)\u001b[0m\u001b[0;34m\u001b[0m\u001b[0;34m\u001b[0m\u001b[0m\n\u001b[1;32m      2\u001b[0m \u001b[0mprint\u001b[0m\u001b[0;34m(\u001b[0m\u001b[0;34m'Num GPUs Available: '\u001b[0m\u001b[0;34m,\u001b[0m \u001b[0mlen\u001b[0m\u001b[0;34m(\u001b[0m\u001b[0mphysical_devices\u001b[0m\u001b[0;34m)\u001b[0m\u001b[0;34m)\u001b[0m\u001b[0;34m\u001b[0m\u001b[0;34m\u001b[0m\u001b[0m\n\u001b[0;32m----> 3\u001b[0;31m \u001b[0mtf\u001b[0m\u001b[0;34m.\u001b[0m\u001b[0mconfig\u001b[0m\u001b[0;34m.\u001b[0m\u001b[0mexperimental\u001b[0m\u001b[0;34m.\u001b[0m\u001b[0mset_memory_growth\u001b[0m\u001b[0;34m(\u001b[0m\u001b[0mphysical_devices\u001b[0m\u001b[0;34m[\u001b[0m\u001b[0;36m0\u001b[0m\u001b[0;34m]\u001b[0m\u001b[0;34m,\u001b[0m \u001b[0;32mTrue\u001b[0m\u001b[0;34m)\u001b[0m\u001b[0;34m\u001b[0m\u001b[0;34m\u001b[0m\u001b[0m\n\u001b[0m",
      "\u001b[0;31mIndexError\u001b[0m: list index out of range"
     ]
    }
   ],
   "source": [
    "# check GPU availability\n",
    "physical_devices = tf.config.experimental.list_physical_devices('GPU')\n",
    "print('Num GPUs Available: ', len(physical_devices))\n",
    "tf.config.experimental.set_memory_growth(physical_devices[0], True)"
   ]
  },
  {
   "cell_type": "markdown",
   "id": "8661f650-af68-4cf5-98d0-a345d5507b23",
   "metadata": {},
   "source": [
    "### Sample tf.keras Sequential Model"
   ]
  },
  {
   "cell_type": "code",
   "execution_count": 29,
   "id": "541139a5-4d44-40ea-8ce8-3b2f22868425",
   "metadata": {
    "execution": {
     "iopub.execute_input": "2022-03-11T14:21:29.633581Z",
     "iopub.status.busy": "2022-03-11T14:21:29.633054Z",
     "iopub.status.idle": "2022-03-11T14:21:29.707000Z",
     "shell.execute_reply": "2022-03-11T14:21:29.705223Z",
     "shell.execute_reply.started": "2022-03-11T14:21:29.633548Z"
    },
    "tags": []
   },
   "outputs": [
    {
     "name": "stdout",
     "output_type": "stream",
     "text": [
      "Model: \"sequential_1\"\n",
      "_________________________________________________________________\n",
      "Layer (type)                 Output Shape              Param #   \n",
      "=================================================================\n",
      "dense (Dense)                (None, 16)                32        \n",
      "_________________________________________________________________\n",
      "dense_1 (Dense)              (None, 32)                544       \n",
      "_________________________________________________________________\n",
      "dense_2 (Dense)              (None, 2)                 66        \n",
      "=================================================================\n",
      "Total params: 642\n",
      "Trainable params: 642\n",
      "Non-trainable params: 0\n",
      "_________________________________________________________________\n"
     ]
    }
   ],
   "source": [
    "# construct a sequential model\n",
    "model = Sequential([\n",
    "    Dense(units=16, input_shape=(1,a), activation='relu'),\n",
    "    Dense(units=32, activation='relu'),\n",
    "    Dense(units=2, activation='softmax'),\n",
    "])\n",
    "\n",
    "# print model summary information\n",
    "model.summary()"
   ]
  },
  {
   "cell_type": "code",
   "execution_count": null,
   "id": "58e39bf1-cb8d-433c-90d5-2702d8450518",
   "metadata": {},
   "outputs": [],
   "source": []
  }
 ],
 "metadata": {
  "kernelspec": {
   "display_name": "Python 3",
   "language": "python",
   "name": "python3"
  },
  "language_info": {
   "codemirror_mode": {
    "name": "ipython",
    "version": 3
   },
   "file_extension": ".py",
   "mimetype": "text/x-python",
   "name": "python",
   "nbconvert_exporter": "python",
   "pygments_lexer": "ipython3",
   "version": "3.9.2"
  },
  "widgets": {
   "application/vnd.jupyter.widget-state+json": {
    "state": {},
    "version_major": 2,
    "version_minor": 0
   }
  }
 },
 "nbformat": 4,
 "nbformat_minor": 5
}
