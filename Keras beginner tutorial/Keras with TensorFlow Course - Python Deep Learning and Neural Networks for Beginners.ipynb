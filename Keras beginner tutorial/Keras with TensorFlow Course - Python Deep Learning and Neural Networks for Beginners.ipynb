{
 "cells": [
  {
   "cell_type": "markdown",
   "id": "b11ec6e5-6f79-4879-82d7-adb602ec4254",
   "metadata": {},
   "source": [
    "# Tensorflow Beginner Tutorial\n",
    "\n",
    "This tutorial is based on this youtube link https://www.youtube.com/watch?v=qFJeN9V1ZsI.\n",
    "\n",
    "Check out the blog post and other resources for [this course](https://www.youtube.com/redirect?event=video_description&redir_token=QUFFLUhqbkdudlB0TFZSWldWbDNVOFpyVjhQLVlPRHpaZ3xBQ3Jtc0tucW1xU2VVdFpBa0lDck43aUlqalhZQ2hNSDZXLWxMbVZEcFB0eWowSmF3ZkJzcXAtTHBzOUVGN3gydi00aUd1LWFwSVNCWXdTYXo1TjFZUnJvSTJ1QzdnOTZRYmRGTlBkcVpURjdFVHUzcUxnU3I5Yw&q=https%3A%2F%2Fdeeplizard.com%2Flearn%2Fvideo%2FRznKVRTFkBY)."
   ]
  },
  {
   "cell_type": "markdown",
   "id": "8222d137-9ecc-49f4-99a8-ef8d7b80f96c",
   "metadata": {},
   "source": [
    "## Tensorflow develop requirement"
   ]
  },
  {
   "cell_type": "code",
   "execution_count": null,
   "id": "47e70f95-d03a-4ece-bf95-b75714f8120c",
   "metadata": {
    "execution": {
     "iopub.execute_input": "2022-03-11T13:56:15.410919Z",
     "iopub.status.busy": "2022-03-11T13:56:15.410557Z"
    },
    "scrolled": true,
    "tags": []
   },
   "outputs": [
    {
     "name": "stdout",
     "output_type": "stream",
     "text": [
      "Requirement already satisfied: tensorflow==2.8 in /Users/huangsunchuangyu/opt/anaconda3/lib/python3.8/site-packages (2.8.0)\n",
      "Requirement already satisfied: numpy>=1.20 in /Users/huangsunchuangyu/.local/lib/python3.8/site-packages (from tensorflow==2.8) (1.20.3)\n",
      "Requirement already satisfied: termcolor>=1.1.0 in /Users/huangsunchuangyu/opt/anaconda3/lib/python3.8/site-packages (from tensorflow==2.8) (1.1.0)\n",
      "Requirement already satisfied: google-pasta>=0.1.1 in /Users/huangsunchuangyu/opt/anaconda3/lib/python3.8/site-packages (from tensorflow==2.8) (0.2.0)\n",
      "Requirement already satisfied: libclang>=9.0.1 in /Users/huangsunchuangyu/opt/anaconda3/lib/python3.8/site-packages (from tensorflow==2.8) (13.0.0)\n",
      "Requirement already satisfied: tf-estimator-nightly==2.8.0.dev2021122109 in /Users/huangsunchuangyu/opt/anaconda3/lib/python3.8/site-packages (from tensorflow==2.8) (2.8.0.dev2021122109)\n",
      "Requirement already satisfied: keras<2.9,>=2.8.0rc0 in /Users/huangsunchuangyu/opt/anaconda3/lib/python3.8/site-packages (from tensorflow==2.8) (2.8.0)\n",
      "Requirement already satisfied: six>=1.12.0 in /Users/huangsunchuangyu/opt/anaconda3/lib/python3.8/site-packages (from tensorflow==2.8) (1.16.0)\n",
      "Requirement already satisfied: flatbuffers>=1.12 in /Users/huangsunchuangyu/opt/anaconda3/lib/python3.8/site-packages (from tensorflow==2.8) (2.0)\n",
      "Requirement already satisfied: astunparse>=1.6.0 in /Users/huangsunchuangyu/opt/anaconda3/lib/python3.8/site-packages (from tensorflow==2.8) (1.6.3)\n",
      "Requirement already satisfied: wrapt>=1.11.0 in /Users/huangsunchuangyu/opt/anaconda3/lib/python3.8/site-packages (from tensorflow==2.8) (1.12.1)\n",
      "Requirement already satisfied: absl-py>=0.4.0 in /Users/huangsunchuangyu/opt/anaconda3/lib/python3.8/site-packages (from tensorflow==2.8) (1.0.0)\n",
      "Requirement already satisfied: protobuf>=3.9.2 in /Users/huangsunchuangyu/opt/anaconda3/lib/python3.8/site-packages (from tensorflow==2.8) (3.19.4)\n",
      "Requirement already satisfied: keras-preprocessing>=1.1.1 in /Users/huangsunchuangyu/opt/anaconda3/lib/python3.8/site-packages (from tensorflow==2.8) (1.1.2)\n",
      "Requirement already satisfied: grpcio<2.0,>=1.24.3 in /Users/huangsunchuangyu/opt/anaconda3/lib/python3.8/site-packages (from tensorflow==2.8) (1.44.0)\n",
      "Requirement already satisfied: typing-extensions>=3.6.6 in /Users/huangsunchuangyu/opt/anaconda3/lib/python3.8/site-packages (from tensorflow==2.8) (3.10.0.2)\n",
      "Requirement already satisfied: h5py>=2.9.0 in /Users/huangsunchuangyu/opt/anaconda3/lib/python3.8/site-packages (from tensorflow==2.8) (2.10.0)\n",
      "Requirement already satisfied: setuptools in /Users/huangsunchuangyu/.local/lib/python3.8/site-packages (from tensorflow==2.8) (58.2.0)\n",
      "Requirement already satisfied: tensorboard<2.9,>=2.8 in /Users/huangsunchuangyu/opt/anaconda3/lib/python3.8/site-packages (from tensorflow==2.8) (2.8.0)\n",
      "Requirement already satisfied: opt-einsum>=2.3.2 in /Users/huangsunchuangyu/opt/anaconda3/lib/python3.8/site-packages (from tensorflow==2.8) (3.3.0)\n",
      "Requirement already satisfied: gast>=0.2.1 in /Users/huangsunchuangyu/opt/anaconda3/lib/python3.8/site-packages (from tensorflow==2.8) (0.5.3)\n",
      "Requirement already satisfied: tensorflow-io-gcs-filesystem>=0.23.1 in /Users/huangsunchuangyu/opt/anaconda3/lib/python3.8/site-packages (from tensorflow==2.8) (0.24.0)\n",
      "Requirement already satisfied: wheel<1.0,>=0.23.0 in /Users/huangsunchuangyu/opt/anaconda3/lib/python3.8/site-packages (from astunparse>=1.6.0->tensorflow==2.8) (0.37.1)\n",
      "Requirement already satisfied: requests<3,>=2.21.0 in /Users/huangsunchuangyu/opt/anaconda3/lib/python3.8/site-packages (from tensorboard<2.9,>=2.8->tensorflow==2.8) (2.27.1)\n",
      "Requirement already satisfied: google-auth<3,>=1.6.3 in /Users/huangsunchuangyu/opt/anaconda3/lib/python3.8/site-packages (from tensorboard<2.9,>=2.8->tensorflow==2.8) (2.6.0)\n",
      "Requirement already satisfied: google-auth-oauthlib<0.5,>=0.4.1 in /Users/huangsunchuangyu/opt/anaconda3/lib/python3.8/site-packages (from tensorboard<2.9,>=2.8->tensorflow==2.8) (0.4.6)\n",
      "Requirement already satisfied: markdown>=2.6.8 in /Users/huangsunchuangyu/opt/anaconda3/lib/python3.8/site-packages (from tensorboard<2.9,>=2.8->tensorflow==2.8) (3.3.6)\n",
      "Requirement already satisfied: werkzeug>=0.11.15 in /Users/huangsunchuangyu/opt/anaconda3/lib/python3.8/site-packages (from tensorboard<2.9,>=2.8->tensorflow==2.8) (2.0.3)\n",
      "Requirement already satisfied: tensorboard-data-server<0.7.0,>=0.6.0 in /Users/huangsunchuangyu/opt/anaconda3/lib/python3.8/site-packages (from tensorboard<2.9,>=2.8->tensorflow==2.8) (0.6.1)\n",
      "Requirement already satisfied: tensorboard-plugin-wit>=1.6.0 in /Users/huangsunchuangyu/opt/anaconda3/lib/python3.8/site-packages (from tensorboard<2.9,>=2.8->tensorflow==2.8) (1.8.1)\n",
      "Requirement already satisfied: pyasn1-modules>=0.2.1 in /Users/huangsunchuangyu/opt/anaconda3/lib/python3.8/site-packages (from google-auth<3,>=1.6.3->tensorboard<2.9,>=2.8->tensorflow==2.8) (0.2.8)\n",
      "Requirement already satisfied: cachetools<6.0,>=2.0.0 in /Users/huangsunchuangyu/opt/anaconda3/lib/python3.8/site-packages (from google-auth<3,>=1.6.3->tensorboard<2.9,>=2.8->tensorflow==2.8) (5.0.0)\n",
      "Requirement already satisfied: rsa<5,>=3.1.4 in /Users/huangsunchuangyu/opt/anaconda3/lib/python3.8/site-packages (from google-auth<3,>=1.6.3->tensorboard<2.9,>=2.8->tensorflow==2.8) (4.8)\n",
      "Requirement already satisfied: requests-oauthlib>=0.7.0 in /Users/huangsunchuangyu/opt/anaconda3/lib/python3.8/site-packages (from google-auth-oauthlib<0.5,>=0.4.1->tensorboard<2.9,>=2.8->tensorflow==2.8) (1.3.1)\n",
      "Requirement already satisfied: importlib-metadata>=4.4 in /Users/huangsunchuangyu/opt/anaconda3/lib/python3.8/site-packages (from markdown>=2.6.8->tensorboard<2.9,>=2.8->tensorflow==2.8) (4.8.2)\n",
      "Requirement already satisfied: zipp>=0.5 in /Users/huangsunchuangyu/opt/anaconda3/lib/python3.8/site-packages (from importlib-metadata>=4.4->markdown>=2.6.8->tensorboard<2.9,>=2.8->tensorflow==2.8) (3.7.0)\n",
      "Requirement already satisfied: pyasn1<0.5.0,>=0.4.6 in /Users/huangsunchuangyu/opt/anaconda3/lib/python3.8/site-packages (from pyasn1-modules>=0.2.1->google-auth<3,>=1.6.3->tensorboard<2.9,>=2.8->tensorflow==2.8) (0.4.8)\n",
      "Requirement already satisfied: charset-normalizer~=2.0.0 in /Users/huangsunchuangyu/opt/anaconda3/lib/python3.8/site-packages (from requests<3,>=2.21.0->tensorboard<2.9,>=2.8->tensorflow==2.8) (2.0.4)\n",
      "Requirement already satisfied: idna<4,>=2.5 in /Users/huangsunchuangyu/opt/anaconda3/lib/python3.8/site-packages (from requests<3,>=2.21.0->tensorboard<2.9,>=2.8->tensorflow==2.8) (3.3)\n",
      "Requirement already satisfied: urllib3<1.27,>=1.21.1 in /Users/huangsunchuangyu/opt/anaconda3/lib/python3.8/site-packages (from requests<3,>=2.21.0->tensorboard<2.9,>=2.8->tensorflow==2.8) (1.26.8)\n",
      "Requirement already satisfied: certifi>=2017.4.17 in /Users/huangsunchuangyu/opt/anaconda3/lib/python3.8/site-packages (from requests<3,>=2.21.0->tensorboard<2.9,>=2.8->tensorflow==2.8) (2021.10.8)\n",
      "Requirement already satisfied: oauthlib>=3.0.0 in /Users/huangsunchuangyu/opt/anaconda3/lib/python3.8/site-packages (from requests-oauthlib>=0.7.0->google-auth-oauthlib<0.5,>=0.4.1->tensorboard<2.9,>=2.8->tensorflow==2.8) (3.2.0)\n",
      "Collecting package metadata (current_repodata.json): done\n",
      "Solving environment: - \n",
      "The environment is inconsistent, please check the package plan carefully\n",
      "The following packages are causing the inconsistency:\n",
      "\n",
      "  - defaults/noarch::python-language-server==0.36.2=pyhd3eb1b0_0\n",
      "  - defaults/noarch::pyls-black==0.4.6=hd3eb1b0_0\n",
      "failed with initial frozen solve. Retrying with flexible solve.\n",
      "Solving environment: failed with repodata from current_repodata.json, will retry with next repodata source.\n",
      "Collecting package metadata (repodata.json): done\n",
      "Solving environment: - \n",
      "The environment is inconsistent, please check the package plan carefully\n",
      "The following packages are causing the inconsistency:\n",
      "\n",
      "  - defaults/noarch::python-language-server==0.36.2=pyhd3eb1b0_0\n",
      "  - defaults/noarch::pyls-black==0.4.6=hd3eb1b0_0\n",
      "\\ "
     ]
    }
   ],
   "source": [
    "# install tensorflow\n",
    "!pip3 install tensorflow==2.8 # or\n",
    "!conda install -c conda-forge tensorflow -y"
   ]
  },
  {
   "cell_type": "code",
   "execution_count": 5,
   "id": "4a8f69ec-411a-43e9-8a2b-40acda68245c",
   "metadata": {
    "execution": {
     "iopub.execute_input": "2022-03-11T13:54:01.719998Z",
     "iopub.status.busy": "2022-03-11T13:54:01.719612Z",
     "iopub.status.idle": "2022-03-11T13:54:01.728395Z",
     "shell.execute_reply": "2022-03-11T13:54:01.726493Z",
     "shell.execute_reply.started": "2022-03-11T13:54:01.719967Z"
    },
    "tags": []
   },
   "outputs": [
    {
     "data": {
      "text/plain": [
       "'2.5.0'"
      ]
     },
     "execution_count": 5,
     "metadata": {},
     "output_type": "execute_result"
    }
   ],
   "source": [
    "# check tensorflow version\n",
    "import tensorflow as tf\n",
    "tf.__version__"
   ]
  },
  {
   "cell_type": "markdown",
   "id": "aecbc305-cf6c-4a8a-8d5d-cdd74ae1da02",
   "metadata": {},
   "source": [
    "## Keras with TensorFlow - Data Processing for Neural Network Training"
   ]
  },
  {
   "cell_type": "code",
   "execution_count": 10,
   "id": "d1460cb2-2aec-4d04-a8f1-1b46fa4df979",
   "metadata": {
    "execution": {
     "iopub.execute_input": "2022-03-11T16:48:22.447504Z",
     "iopub.status.busy": "2022-03-11T16:48:22.447170Z",
     "iopub.status.idle": "2022-03-11T16:48:24.729503Z",
     "shell.execute_reply": "2022-03-11T16:48:24.728787Z",
     "shell.execute_reply.started": "2022-03-11T16:48:22.447475Z"
    },
    "tags": []
   },
   "outputs": [],
   "source": [
    "# import required libraries\n",
    "import numpy as np\n",
    "from random import randint\n",
    "from sklearn.utils import shuffle\n",
    "from sklearn.preprocessing import MinMaxScaler"
   ]
  },
  {
   "cell_type": "markdown",
   "id": "8da7eb86-ffde-4223-af2c-ab6967f7c828",
   "metadata": {},
   "source": [
    "**Example data**\n",
    "- An experiemental drug was tested on individuals from ages 13 to 100 in a clinical trail\n",
    "- The trail had 2100 participants. Half were under 65 years old, half were 65 years or older\n",
    "- Around 95% of patients 65 or older experienced side effects\n",
    "- Around 95% of patients under 65 experienced no side effects"
   ]
  },
  {
   "cell_type": "code",
   "execution_count": 11,
   "id": "87a19890-f74f-4490-8c4d-e5416d1cc885",
   "metadata": {
    "execution": {
     "iopub.execute_input": "2022-03-11T16:48:24.731820Z",
     "iopub.status.busy": "2022-03-11T16:48:24.731351Z",
     "iopub.status.idle": "2022-03-11T16:48:24.736522Z",
     "shell.execute_reply": "2022-03-11T16:48:24.735652Z",
     "shell.execute_reply.started": "2022-03-11T16:48:24.731754Z"
    },
    "tags": []
   },
   "outputs": [],
   "source": [
    "train_labels, train_samples = [], []"
   ]
  },
  {
   "cell_type": "code",
   "execution_count": 12,
   "id": "4e468cec-5508-4b32-beb2-5329c139e770",
   "metadata": {
    "execution": {
     "iopub.execute_input": "2022-03-11T16:48:24.738636Z",
     "iopub.status.busy": "2022-03-11T16:48:24.738165Z",
     "iopub.status.idle": "2022-03-11T16:48:24.750957Z",
     "shell.execute_reply": "2022-03-11T16:48:24.750068Z",
     "shell.execute_reply.started": "2022-03-11T16:48:24.738589Z"
    },
    "tags": []
   },
   "outputs": [],
   "source": [
    "for i in range(50):\n",
    "    # the ~5% of younger individuals who did experience side effects\n",
    "    random_younger = randint(13, 64)\n",
    "    train_samples.append(random_younger)\n",
    "    train_labels.append(1)\n",
    "    \n",
    "    # the ~5% of older individuals who did not experience side effects\n",
    "    random_older = randint(65, 100)\n",
    "    train_samples.append(random_older)\n",
    "    train_labels.append(0)\n",
    "\n",
    "for i in range(1000):\n",
    "    # the ~95% of younger individuals who did not experience side effects\n",
    "    random_younger = randint(13, 64)\n",
    "    train_samples.append(random_younger)\n",
    "    train_labels.append(0)\n",
    "    \n",
    "    # the ~95% of older individuals who did experience side effects\n",
    "    random_older = randint(65, 100)\n",
    "    train_samples.append(random_older)\n",
    "    train_labels.append(1)"
   ]
  },
  {
   "cell_type": "code",
   "execution_count": 13,
   "id": "c5467389-b03d-44dd-bc90-cdd8bb2715ba",
   "metadata": {
    "execution": {
     "iopub.execute_input": "2022-03-11T16:48:25.160450Z",
     "iopub.status.busy": "2022-03-11T16:48:25.160152Z",
     "iopub.status.idle": "2022-03-11T16:48:25.165946Z",
     "shell.execute_reply": "2022-03-11T16:48:25.164809Z",
     "shell.execute_reply.started": "2022-03-11T16:48:25.160420Z"
    },
    "tags": []
   },
   "outputs": [],
   "source": [
    "# convert data into a pandas array\n",
    "train_labels = np.array(train_labels)\n",
    "train_samples = np.array(train_samples)\n",
    "train_labels, train_samples = shuffle(train_labels, train_samples)"
   ]
  },
  {
   "cell_type": "code",
   "execution_count": 14,
   "id": "576a7a13-954a-4274-ae96-2c448b84ecb2",
   "metadata": {
    "execution": {
     "iopub.execute_input": "2022-03-11T16:48:26.461151Z",
     "iopub.status.busy": "2022-03-11T16:48:26.460844Z",
     "iopub.status.idle": "2022-03-11T16:48:26.466630Z",
     "shell.execute_reply": "2022-03-11T16:48:26.465789Z",
     "shell.execute_reply.started": "2022-03-11T16:48:26.461119Z"
    },
    "tags": []
   },
   "outputs": [],
   "source": [
    "# normalise data use min-max scaler\n",
    "scaler = MinMaxScaler(feature_range=(0, 1))\n",
    "scaled_train_samples = scaler.fit_transform(train_samples.reshape(-1, 1))"
   ]
  },
  {
   "cell_type": "code",
   "execution_count": 15,
   "id": "4e6957a1-b93c-4778-8562-fd07c2ba0fce",
   "metadata": {
    "execution": {
     "iopub.execute_input": "2022-03-11T16:48:27.671543Z",
     "iopub.status.busy": "2022-03-11T16:48:27.671240Z",
     "iopub.status.idle": "2022-03-11T16:48:27.685326Z",
     "shell.execute_reply": "2022-03-11T16:48:27.684525Z",
     "shell.execute_reply.started": "2022-03-11T16:48:27.671511Z"
    },
    "tags": []
   },
   "outputs": [
    {
     "data": {
      "text/plain": [
       "array([[0.94252874],\n",
       "       [0.79310345],\n",
       "       [0.42528736],\n",
       "       [0.65517241],\n",
       "       [0.51724138]])"
      ]
     },
     "execution_count": 15,
     "metadata": {},
     "output_type": "execute_result"
    }
   ],
   "source": [
    "scaled_train_samples[:5]"
   ]
  },
  {
   "cell_type": "markdown",
   "id": "e82005bc-4654-4876-9162-a926690383f3",
   "metadata": {},
   "source": [
    "## Create an Artificial Neural Network with TensorFlow's Keras API"
   ]
  },
  {
   "cell_type": "code",
   "execution_count": 1,
   "id": "7fe7b3e8-2746-4634-a764-bf708c9579ce",
   "metadata": {
    "execution": {
     "iopub.execute_input": "2022-03-11T16:44:10.171831Z",
     "iopub.status.busy": "2022-03-11T16:44:10.171411Z",
     "iopub.status.idle": "2022-03-11T16:44:35.676186Z",
     "shell.execute_reply": "2022-03-11T16:44:35.675562Z",
     "shell.execute_reply.started": "2022-03-11T16:44:10.171745Z"
    },
    "tags": []
   },
   "outputs": [],
   "source": [
    "# import required libraries\n",
    "import tensorflow as tf\n",
    "from tensorflow import keras\n",
    "from tensorflow.keras.models import Sequential\n",
    "from tensorflow.keras.layers import Activation, Dense\n",
    "from tensorflow.keras.optimizers import Adam\n",
    "from tensorflow.keras.metrics import categorical_crossentropy"
   ]
  },
  {
   "cell_type": "code",
   "execution_count": 2,
   "id": "cc463bc4-677f-4ea1-85d4-a373cc72a920",
   "metadata": {
    "collapsed": true,
    "execution": {
     "iopub.execute_input": "2022-03-11T16:44:35.678565Z",
     "iopub.status.busy": "2022-03-11T16:44:35.678081Z",
     "iopub.status.idle": "2022-03-11T16:44:36.031389Z",
     "shell.execute_reply": "2022-03-11T16:44:36.030226Z",
     "shell.execute_reply.started": "2022-03-11T16:44:35.678502Z"
    },
    "jupyter": {
     "outputs_hidden": true
    },
    "tags": []
   },
   "outputs": [
    {
     "name": "stdout",
     "output_type": "stream",
     "text": [
      "Num GPUs Available:  0\n"
     ]
    },
    {
     "ename": "IndexError",
     "evalue": "list index out of range",
     "output_type": "error",
     "traceback": [
      "\u001b[0;31m---------------------------------------------------------------------------\u001b[0m",
      "\u001b[0;31mIndexError\u001b[0m                                Traceback (most recent call last)",
      "\u001b[0;32m/var/folders/zq/9h3tvlbn68nd_zjmj39zc0xc0000gn/T/ipykernel_4261/1851935616.py\u001b[0m in \u001b[0;36m<module>\u001b[0;34m\u001b[0m\n\u001b[1;32m      2\u001b[0m \u001b[0mphysical_devices\u001b[0m \u001b[0;34m=\u001b[0m \u001b[0mtf\u001b[0m\u001b[0;34m.\u001b[0m\u001b[0mconfig\u001b[0m\u001b[0;34m.\u001b[0m\u001b[0mexperimental\u001b[0m\u001b[0;34m.\u001b[0m\u001b[0mlist_physical_devices\u001b[0m\u001b[0;34m(\u001b[0m\u001b[0;34m'GPU'\u001b[0m\u001b[0;34m)\u001b[0m\u001b[0;34m\u001b[0m\u001b[0;34m\u001b[0m\u001b[0m\n\u001b[1;32m      3\u001b[0m \u001b[0mprint\u001b[0m\u001b[0;34m(\u001b[0m\u001b[0;34m'Num GPUs Available: '\u001b[0m\u001b[0;34m,\u001b[0m \u001b[0mlen\u001b[0m\u001b[0;34m(\u001b[0m\u001b[0mphysical_devices\u001b[0m\u001b[0;34m)\u001b[0m\u001b[0;34m)\u001b[0m\u001b[0;34m\u001b[0m\u001b[0;34m\u001b[0m\u001b[0m\n\u001b[0;32m----> 4\u001b[0;31m \u001b[0mtf\u001b[0m\u001b[0;34m.\u001b[0m\u001b[0mconfig\u001b[0m\u001b[0;34m.\u001b[0m\u001b[0mexperimental\u001b[0m\u001b[0;34m.\u001b[0m\u001b[0mset_memory_growth\u001b[0m\u001b[0;34m(\u001b[0m\u001b[0mphysical_devices\u001b[0m\u001b[0;34m[\u001b[0m\u001b[0;36m0\u001b[0m\u001b[0;34m]\u001b[0m\u001b[0;34m,\u001b[0m \u001b[0;32mTrue\u001b[0m\u001b[0;34m)\u001b[0m\u001b[0;34m\u001b[0m\u001b[0;34m\u001b[0m\u001b[0m\n\u001b[0m",
      "\u001b[0;31mIndexError\u001b[0m: list index out of range"
     ]
    }
   ],
   "source": [
    "# check GPU availability\n",
    "physical_devices = tf.config.experimental.list_physical_devices('GPU')\n",
    "print('Num GPUs Available: ', len(physical_devices))\n",
    "\n",
    "# there should be error if there is no GPU detected\n",
    "tf.config.experimental.set_memory_growth(physical_devices[0], True)"
   ]
  },
  {
   "cell_type": "markdown",
   "id": "8661f650-af68-4cf5-98d0-a345d5507b23",
   "metadata": {},
   "source": [
    "### Sample tf.keras Sequential Model"
   ]
  },
  {
   "cell_type": "markdown",
   "id": "50bf8e36-79e3-4b64-8bb2-8c3c9bfc9c6e",
   "metadata": {},
   "source": [
    "Model without validation set."
   ]
  },
  {
   "cell_type": "code",
   "execution_count": 19,
   "id": "19408202-e400-4814-86cf-4767ee47e9d9",
   "metadata": {
    "execution": {
     "iopub.execute_input": "2022-03-11T16:57:35.616858Z",
     "iopub.status.busy": "2022-03-11T16:57:35.616424Z",
     "iopub.status.idle": "2022-03-11T16:57:39.184768Z",
     "shell.execute_reply": "2022-03-11T16:57:39.184068Z",
     "shell.execute_reply.started": "2022-03-11T16:57:35.616827Z"
    },
    "scrolled": true,
    "tags": []
   },
   "outputs": [
    {
     "name": "stdout",
     "output_type": "stream",
     "text": [
      "Model: \"sequential_3\"\n",
      "_________________________________________________________________\n",
      "Layer (type)                 Output Shape              Param #   \n",
      "=================================================================\n",
      "dense_9 (Dense)              (None, 16)                32        \n",
      "_________________________________________________________________\n",
      "dense_10 (Dense)             (None, 32)                544       \n",
      "_________________________________________________________________\n",
      "dense_11 (Dense)             (None, 2)                 66        \n",
      "=================================================================\n",
      "Total params: 642\n",
      "Trainable params: 642\n",
      "Non-trainable params: 0\n",
      "_________________________________________________________________\n",
      "Epoch 1/30\n",
      "210/210 - 0s - loss: 0.6758 - accuracy: 0.5881\n",
      "Epoch 2/30\n",
      "210/210 - 0s - loss: 0.6449 - accuracy: 0.6229\n",
      "Epoch 3/30\n",
      "210/210 - 0s - loss: 0.6092 - accuracy: 0.6957\n",
      "Epoch 4/30\n",
      "210/210 - 0s - loss: 0.5706 - accuracy: 0.7619\n",
      "Epoch 5/30\n",
      "210/210 - 0s - loss: 0.5358 - accuracy: 0.7967\n",
      "Epoch 6/30\n",
      "210/210 - 0s - loss: 0.5009 - accuracy: 0.8357\n",
      "Epoch 7/30\n",
      "210/210 - 0s - loss: 0.4668 - accuracy: 0.8519\n",
      "Epoch 8/30\n",
      "210/210 - 0s - loss: 0.4347 - accuracy: 0.8781\n",
      "Epoch 9/30\n",
      "210/210 - 0s - loss: 0.4056 - accuracy: 0.8848\n",
      "Epoch 10/30\n",
      "210/210 - 0s - loss: 0.3804 - accuracy: 0.9010\n",
      "Epoch 11/30\n",
      "210/210 - 0s - loss: 0.3591 - accuracy: 0.9043\n",
      "Epoch 12/30\n",
      "210/210 - 0s - loss: 0.3413 - accuracy: 0.9138\n",
      "Epoch 13/30\n",
      "210/210 - 0s - loss: 0.3270 - accuracy: 0.9190\n",
      "Epoch 14/30\n",
      "210/210 - 0s - loss: 0.3154 - accuracy: 0.9214\n",
      "Epoch 15/30\n",
      "210/210 - 0s - loss: 0.3057 - accuracy: 0.9243\n",
      "Epoch 16/30\n",
      "210/210 - 0s - loss: 0.2977 - accuracy: 0.9276\n",
      "Epoch 17/30\n",
      "210/210 - 0s - loss: 0.2912 - accuracy: 0.9295\n",
      "Epoch 18/30\n",
      "210/210 - 0s - loss: 0.2855 - accuracy: 0.9305\n",
      "Epoch 19/30\n",
      "210/210 - 0s - loss: 0.2807 - accuracy: 0.9305\n",
      "Epoch 20/30\n",
      "210/210 - 0s - loss: 0.2768 - accuracy: 0.9357\n",
      "Epoch 21/30\n",
      "210/210 - 0s - loss: 0.2734 - accuracy: 0.9324\n",
      "Epoch 22/30\n",
      "210/210 - 0s - loss: 0.2705 - accuracy: 0.9333\n",
      "Epoch 23/30\n",
      "210/210 - 0s - loss: 0.2677 - accuracy: 0.9338\n",
      "Epoch 24/30\n",
      "210/210 - 0s - loss: 0.2653 - accuracy: 0.9348\n",
      "Epoch 25/30\n",
      "210/210 - 0s - loss: 0.2632 - accuracy: 0.9338\n",
      "Epoch 26/30\n",
      "210/210 - 0s - loss: 0.2613 - accuracy: 0.9338\n",
      "Epoch 27/30\n",
      "210/210 - 0s - loss: 0.2594 - accuracy: 0.9386\n",
      "Epoch 28/30\n",
      "210/210 - 0s - loss: 0.2579 - accuracy: 0.9429\n",
      "Epoch 29/30\n",
      "210/210 - 0s - loss: 0.2565 - accuracy: 0.9348\n",
      "Epoch 30/30\n",
      "210/210 - 0s - loss: 0.2550 - accuracy: 0.9395\n"
     ]
    },
    {
     "data": {
      "text/plain": [
       "<tensorflow.python.keras.callbacks.History at 0x7fad9864c070>"
      ]
     },
     "execution_count": 19,
     "metadata": {},
     "output_type": "execute_result"
    }
   ],
   "source": [
    "# construct a sequential model\n",
    "model = Sequential([\n",
    "    Dense(units=16, input_shape=(1,), activation='relu'),\n",
    "    Dense(units=32, activation='relu'),\n",
    "    Dense(units=2, activation='softmax'),\n",
    "])\n",
    "\n",
    "# print model summary information\n",
    "model.summary()\n",
    "\n",
    "# compile the above model \n",
    "# optimizer: gradient descent algorithm to approximate the answer with faster mathematical approach\n",
    "# loss: calculate the loss on information, less loss = better model\n",
    "# metrics: evaluation metric\n",
    "model.compile(optimizer=Adam(learning_rate=0.0001), loss='sparse_categorical_crossentropy', metrics=['accuracy'])\n",
    "\n",
    "# fit the data\n",
    "model.fit(x=scaled_train_samples,\n",
    "          y=train_labels, \n",
    "          batch_size=10, # how many sample in one batch at one time it will be passed to network \n",
    "          epochs=30, # model will train all data 30 times\n",
    "          shuffle=True, # shuffle dataset\n",
    "          verbose=2 # 0, 1, 2\n",
    "         )"
   ]
  },
  {
   "cell_type": "markdown",
   "id": "8100b00e-2e38-4ec8-81f0-ffda06fce608",
   "metadata": {},
   "source": [
    "Model with validation set = 0.1"
   ]
  },
  {
   "cell_type": "code",
   "execution_count": 18,
   "id": "dcf9cb41-4789-400f-92c7-08d02833fdf6",
   "metadata": {
    "execution": {
     "iopub.execute_input": "2022-03-11T16:57:03.747447Z",
     "iopub.status.busy": "2022-03-11T16:57:03.747010Z",
     "iopub.status.idle": "2022-03-11T16:57:08.165177Z",
     "shell.execute_reply": "2022-03-11T16:57:08.164386Z",
     "shell.execute_reply.started": "2022-03-11T16:57:03.747415Z"
    },
    "scrolled": true,
    "tags": []
   },
   "outputs": [
    {
     "name": "stdout",
     "output_type": "stream",
     "text": [
      "Model: \"sequential_2\"\n",
      "_________________________________________________________________\n",
      "Layer (type)                 Output Shape              Param #   \n",
      "=================================================================\n",
      "dense_6 (Dense)              (None, 16)                32        \n",
      "_________________________________________________________________\n",
      "dense_7 (Dense)              (None, 32)                544       \n",
      "_________________________________________________________________\n",
      "dense_8 (Dense)              (None, 2)                 66        \n",
      "=================================================================\n",
      "Total params: 642\n",
      "Trainable params: 642\n",
      "Non-trainable params: 0\n",
      "_________________________________________________________________\n",
      "Epoch 1/30\n",
      "189/189 - 1s - loss: 0.7003 - accuracy: 0.4529 - val_loss: 0.6833 - val_accuracy: 0.5762\n",
      "Epoch 2/30\n",
      "189/189 - 0s - loss: 0.6716 - accuracy: 0.5767 - val_loss: 0.6514 - val_accuracy: 0.6429\n",
      "Epoch 3/30\n",
      "189/189 - 0s - loss: 0.6401 - accuracy: 0.6783 - val_loss: 0.6156 - val_accuracy: 0.7190\n",
      "Epoch 4/30\n",
      "189/189 - 0s - loss: 0.6073 - accuracy: 0.7418 - val_loss: 0.5815 - val_accuracy: 0.7714\n",
      "Epoch 5/30\n",
      "189/189 - 0s - loss: 0.5740 - accuracy: 0.7841 - val_loss: 0.5495 - val_accuracy: 0.7952\n",
      "Epoch 6/30\n",
      "189/189 - 0s - loss: 0.5447 - accuracy: 0.8058 - val_loss: 0.5206 - val_accuracy: 0.8190\n",
      "Epoch 7/30\n",
      "189/189 - 0s - loss: 0.5165 - accuracy: 0.8217 - val_loss: 0.4932 - val_accuracy: 0.8381\n",
      "Epoch 8/30\n",
      "189/189 - 0s - loss: 0.4886 - accuracy: 0.8508 - val_loss: 0.4651 - val_accuracy: 0.8381\n",
      "Epoch 9/30\n",
      "189/189 - 0s - loss: 0.4615 - accuracy: 0.8614 - val_loss: 0.4389 - val_accuracy: 0.8667\n",
      "Epoch 10/30\n",
      "189/189 - 0s - loss: 0.4359 - accuracy: 0.8751 - val_loss: 0.4154 - val_accuracy: 0.8857\n",
      "Epoch 11/30\n",
      "189/189 - 0s - loss: 0.4126 - accuracy: 0.8857 - val_loss: 0.3936 - val_accuracy: 0.9048\n",
      "Epoch 12/30\n",
      "189/189 - 0s - loss: 0.3918 - accuracy: 0.8921 - val_loss: 0.3749 - val_accuracy: 0.9143\n",
      "Epoch 13/30\n",
      "189/189 - 0s - loss: 0.3732 - accuracy: 0.9042 - val_loss: 0.3574 - val_accuracy: 0.9143\n",
      "Epoch 14/30\n",
      "189/189 - 0s - loss: 0.3572 - accuracy: 0.9079 - val_loss: 0.3432 - val_accuracy: 0.9286\n",
      "Epoch 15/30\n",
      "189/189 - 0s - loss: 0.3431 - accuracy: 0.9138 - val_loss: 0.3307 - val_accuracy: 0.9143\n",
      "Epoch 16/30\n",
      "189/189 - 0s - loss: 0.3312 - accuracy: 0.9148 - val_loss: 0.3200 - val_accuracy: 0.9286\n",
      "Epoch 17/30\n",
      "189/189 - 0s - loss: 0.3208 - accuracy: 0.9212 - val_loss: 0.3110 - val_accuracy: 0.9381\n",
      "Epoch 18/30\n",
      "189/189 - 0s - loss: 0.3119 - accuracy: 0.9228 - val_loss: 0.3034 - val_accuracy: 0.9286\n",
      "Epoch 19/30\n",
      "189/189 - 0s - loss: 0.3045 - accuracy: 0.9222 - val_loss: 0.2968 - val_accuracy: 0.9381\n",
      "Epoch 20/30\n",
      "189/189 - 0s - loss: 0.2981 - accuracy: 0.9259 - val_loss: 0.2911 - val_accuracy: 0.9381\n",
      "Epoch 21/30\n",
      "189/189 - 0s - loss: 0.2922 - accuracy: 0.9291 - val_loss: 0.2864 - val_accuracy: 0.9381\n",
      "Epoch 22/30\n",
      "189/189 - 0s - loss: 0.2872 - accuracy: 0.9333 - val_loss: 0.2823 - val_accuracy: 0.9381\n",
      "Epoch 23/30\n",
      "189/189 - 0s - loss: 0.2832 - accuracy: 0.9296 - val_loss: 0.2790 - val_accuracy: 0.9381\n",
      "Epoch 24/30\n",
      "189/189 - 0s - loss: 0.2791 - accuracy: 0.9354 - val_loss: 0.2759 - val_accuracy: 0.9381\n",
      "Epoch 25/30\n",
      "189/189 - 0s - loss: 0.2762 - accuracy: 0.9333 - val_loss: 0.2732 - val_accuracy: 0.9381\n",
      "Epoch 26/30\n",
      "189/189 - 0s - loss: 0.2730 - accuracy: 0.9349 - val_loss: 0.2712 - val_accuracy: 0.9476\n",
      "Epoch 27/30\n",
      "189/189 - 0s - loss: 0.2706 - accuracy: 0.9360 - val_loss: 0.2686 - val_accuracy: 0.9381\n",
      "Epoch 28/30\n",
      "189/189 - 0s - loss: 0.2681 - accuracy: 0.9333 - val_loss: 0.2667 - val_accuracy: 0.9381\n",
      "Epoch 29/30\n",
      "189/189 - 0s - loss: 0.2661 - accuracy: 0.9381 - val_loss: 0.2648 - val_accuracy: 0.9476\n",
      "Epoch 30/30\n",
      "189/189 - 0s - loss: 0.2641 - accuracy: 0.9354 - val_loss: 0.2631 - val_accuracy: 0.9476\n"
     ]
    },
    {
     "data": {
      "text/plain": [
       "<tensorflow.python.keras.callbacks.History at 0x7fad986e2790>"
      ]
     },
     "execution_count": 18,
     "metadata": {},
     "output_type": "execute_result"
    }
   ],
   "source": [
    "# construct a sequential model\n",
    "model = Sequential([\n",
    "    Dense(units=16, input_shape=(1,), activation='relu'),\n",
    "    Dense(units=32, activation='relu'),\n",
    "    Dense(units=2, activation='softmax'),\n",
    "])\n",
    "\n",
    "# print model summary information\n",
    "model.summary()\n",
    "\n",
    "# compile the above model \n",
    "# optimizer: gradient descent algorithm to approximate the answer with faster mathematical approach\n",
    "# loss: calculate the loss on information, less loss = better model\n",
    "# metrics: evaluation metric\n",
    "model.compile(optimizer=Adam(learning_rate=0.0001), loss='sparse_categorical_crossentropy', metrics=['accuracy'])\n",
    "\n",
    "# fit the data\n",
    "model.fit(x=scaled_train_samples,\n",
    "          y=train_labels, \n",
    "          validation_split=0.1, # set the proportion for validation, these won't be trained by tensorflow\n",
    "          batch_size=10, # how many sample in one batch at one time it will be passed to network \n",
    "          epochs=30, # model will train all data 30 times\n",
    "          shuffle=True, # shuffle dataset\n",
    "          verbose=2 # 0, 1, 2\n",
    "         )"
   ]
  },
  {
   "cell_type": "code",
   "execution_count": null,
   "id": "455d54d1-c3f4-40b4-a3cc-63a20b74c455",
   "metadata": {},
   "outputs": [],
   "source": []
  }
 ],
 "metadata": {
  "kernelspec": {
   "display_name": "Python 3",
   "language": "python",
   "name": "python3"
  },
  "language_info": {
   "codemirror_mode": {
    "name": "ipython",
    "version": 3
   },
   "file_extension": ".py",
   "mimetype": "text/x-python",
   "name": "python",
   "nbconvert_exporter": "python",
   "pygments_lexer": "ipython3",
   "version": "3.9.2"
  },
  "widgets": {
   "application/vnd.jupyter.widget-state+json": {
    "state": {},
    "version_major": 2,
    "version_minor": 0
   }
  }
 },
 "nbformat": 4,
 "nbformat_minor": 5
}
