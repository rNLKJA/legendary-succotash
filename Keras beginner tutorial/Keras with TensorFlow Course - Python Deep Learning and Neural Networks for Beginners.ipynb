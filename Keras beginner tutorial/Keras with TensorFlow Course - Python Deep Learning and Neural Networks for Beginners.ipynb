{
 "cells": [
  {
   "cell_type": "markdown",
   "id": "b11ec6e5-6f79-4879-82d7-adb602ec4254",
   "metadata": {},
   "source": [
    "# Tensorflow Beginner Tutorial\n",
    "\n",
    "This tutorial is based on this youtube link https://www.youtube.com/watch?v=qFJeN9V1ZsI.\n",
    "\n",
    "Check out the blog post and other resources for [this course](https://www.youtube.com/redirect?event=video_description&redir_token=QUFFLUhqbkdudlB0TFZSWldWbDNVOFpyVjhQLVlPRHpaZ3xBQ3Jtc0tucW1xU2VVdFpBa0lDck43aUlqalhZQ2hNSDZXLWxMbVZEcFB0eWowSmF3ZkJzcXAtTHBzOUVGN3gydi00aUd1LWFwSVNCWXdTYXo1TjFZUnJvSTJ1QzdnOTZRYmRGTlBkcVpURjdFVHUzcUxnU3I5Yw&q=https%3A%2F%2Fdeeplizard.com%2Flearn%2Fvideo%2FRznKVRTFkBY)."
   ]
  },
  {
   "cell_type": "markdown",
   "id": "8222d137-9ecc-49f4-99a8-ef8d7b80f96c",
   "metadata": {},
   "source": [
    "## Tensorflow develop requirement"
   ]
  },
  {
   "cell_type": "code",
   "execution_count": null,
   "id": "47e70f95-d03a-4ece-bf95-b75714f8120c",
   "metadata": {
    "execution": {
     "iopub.execute_input": "2022-03-11T13:56:15.410919Z",
     "iopub.status.busy": "2022-03-11T13:56:15.410557Z"
    },
    "scrolled": true,
    "tags": []
   },
   "outputs": [
    {
     "name": "stdout",
     "output_type": "stream",
     "text": [
      "Requirement already satisfied: tensorflow==2.8 in /Users/huangsunchuangyu/opt/anaconda3/lib/python3.8/site-packages (2.8.0)\n",
      "Requirement already satisfied: numpy>=1.20 in /Users/huangsunchuangyu/.local/lib/python3.8/site-packages (from tensorflow==2.8) (1.20.3)\n",
      "Requirement already satisfied: termcolor>=1.1.0 in /Users/huangsunchuangyu/opt/anaconda3/lib/python3.8/site-packages (from tensorflow==2.8) (1.1.0)\n",
      "Requirement already satisfied: google-pasta>=0.1.1 in /Users/huangsunchuangyu/opt/anaconda3/lib/python3.8/site-packages (from tensorflow==2.8) (0.2.0)\n",
      "Requirement already satisfied: libclang>=9.0.1 in /Users/huangsunchuangyu/opt/anaconda3/lib/python3.8/site-packages (from tensorflow==2.8) (13.0.0)\n",
      "Requirement already satisfied: tf-estimator-nightly==2.8.0.dev2021122109 in /Users/huangsunchuangyu/opt/anaconda3/lib/python3.8/site-packages (from tensorflow==2.8) (2.8.0.dev2021122109)\n",
      "Requirement already satisfied: keras<2.9,>=2.8.0rc0 in /Users/huangsunchuangyu/opt/anaconda3/lib/python3.8/site-packages (from tensorflow==2.8) (2.8.0)\n",
      "Requirement already satisfied: six>=1.12.0 in /Users/huangsunchuangyu/opt/anaconda3/lib/python3.8/site-packages (from tensorflow==2.8) (1.16.0)\n",
      "Requirement already satisfied: flatbuffers>=1.12 in /Users/huangsunchuangyu/opt/anaconda3/lib/python3.8/site-packages (from tensorflow==2.8) (2.0)\n",
      "Requirement already satisfied: astunparse>=1.6.0 in /Users/huangsunchuangyu/opt/anaconda3/lib/python3.8/site-packages (from tensorflow==2.8) (1.6.3)\n",
      "Requirement already satisfied: wrapt>=1.11.0 in /Users/huangsunchuangyu/opt/anaconda3/lib/python3.8/site-packages (from tensorflow==2.8) (1.12.1)\n",
      "Requirement already satisfied: absl-py>=0.4.0 in /Users/huangsunchuangyu/opt/anaconda3/lib/python3.8/site-packages (from tensorflow==2.8) (1.0.0)\n",
      "Requirement already satisfied: protobuf>=3.9.2 in /Users/huangsunchuangyu/opt/anaconda3/lib/python3.8/site-packages (from tensorflow==2.8) (3.19.4)\n",
      "Requirement already satisfied: keras-preprocessing>=1.1.1 in /Users/huangsunchuangyu/opt/anaconda3/lib/python3.8/site-packages (from tensorflow==2.8) (1.1.2)\n",
      "Requirement already satisfied: grpcio<2.0,>=1.24.3 in /Users/huangsunchuangyu/opt/anaconda3/lib/python3.8/site-packages (from tensorflow==2.8) (1.44.0)\n",
      "Requirement already satisfied: typing-extensions>=3.6.6 in /Users/huangsunchuangyu/opt/anaconda3/lib/python3.8/site-packages (from tensorflow==2.8) (3.10.0.2)\n",
      "Requirement already satisfied: h5py>=2.9.0 in /Users/huangsunchuangyu/opt/anaconda3/lib/python3.8/site-packages (from tensorflow==2.8) (2.10.0)\n",
      "Requirement already satisfied: setuptools in /Users/huangsunchuangyu/.local/lib/python3.8/site-packages (from tensorflow==2.8) (58.2.0)\n",
      "Requirement already satisfied: tensorboard<2.9,>=2.8 in /Users/huangsunchuangyu/opt/anaconda3/lib/python3.8/site-packages (from tensorflow==2.8) (2.8.0)\n",
      "Requirement already satisfied: opt-einsum>=2.3.2 in /Users/huangsunchuangyu/opt/anaconda3/lib/python3.8/site-packages (from tensorflow==2.8) (3.3.0)\n",
      "Requirement already satisfied: gast>=0.2.1 in /Users/huangsunchuangyu/opt/anaconda3/lib/python3.8/site-packages (from tensorflow==2.8) (0.5.3)\n",
      "Requirement already satisfied: tensorflow-io-gcs-filesystem>=0.23.1 in /Users/huangsunchuangyu/opt/anaconda3/lib/python3.8/site-packages (from tensorflow==2.8) (0.24.0)\n",
      "Requirement already satisfied: wheel<1.0,>=0.23.0 in /Users/huangsunchuangyu/opt/anaconda3/lib/python3.8/site-packages (from astunparse>=1.6.0->tensorflow==2.8) (0.37.1)\n",
      "Requirement already satisfied: requests<3,>=2.21.0 in /Users/huangsunchuangyu/opt/anaconda3/lib/python3.8/site-packages (from tensorboard<2.9,>=2.8->tensorflow==2.8) (2.27.1)\n",
      "Requirement already satisfied: google-auth<3,>=1.6.3 in /Users/huangsunchuangyu/opt/anaconda3/lib/python3.8/site-packages (from tensorboard<2.9,>=2.8->tensorflow==2.8) (2.6.0)\n",
      "Requirement already satisfied: google-auth-oauthlib<0.5,>=0.4.1 in /Users/huangsunchuangyu/opt/anaconda3/lib/python3.8/site-packages (from tensorboard<2.9,>=2.8->tensorflow==2.8) (0.4.6)\n",
      "Requirement already satisfied: markdown>=2.6.8 in /Users/huangsunchuangyu/opt/anaconda3/lib/python3.8/site-packages (from tensorboard<2.9,>=2.8->tensorflow==2.8) (3.3.6)\n",
      "Requirement already satisfied: werkzeug>=0.11.15 in /Users/huangsunchuangyu/opt/anaconda3/lib/python3.8/site-packages (from tensorboard<2.9,>=2.8->tensorflow==2.8) (2.0.3)\n",
      "Requirement already satisfied: tensorboard-data-server<0.7.0,>=0.6.0 in /Users/huangsunchuangyu/opt/anaconda3/lib/python3.8/site-packages (from tensorboard<2.9,>=2.8->tensorflow==2.8) (0.6.1)\n",
      "Requirement already satisfied: tensorboard-plugin-wit>=1.6.0 in /Users/huangsunchuangyu/opt/anaconda3/lib/python3.8/site-packages (from tensorboard<2.9,>=2.8->tensorflow==2.8) (1.8.1)\n",
      "Requirement already satisfied: pyasn1-modules>=0.2.1 in /Users/huangsunchuangyu/opt/anaconda3/lib/python3.8/site-packages (from google-auth<3,>=1.6.3->tensorboard<2.9,>=2.8->tensorflow==2.8) (0.2.8)\n",
      "Requirement already satisfied: cachetools<6.0,>=2.0.0 in /Users/huangsunchuangyu/opt/anaconda3/lib/python3.8/site-packages (from google-auth<3,>=1.6.3->tensorboard<2.9,>=2.8->tensorflow==2.8) (5.0.0)\n",
      "Requirement already satisfied: rsa<5,>=3.1.4 in /Users/huangsunchuangyu/opt/anaconda3/lib/python3.8/site-packages (from google-auth<3,>=1.6.3->tensorboard<2.9,>=2.8->tensorflow==2.8) (4.8)\n",
      "Requirement already satisfied: requests-oauthlib>=0.7.0 in /Users/huangsunchuangyu/opt/anaconda3/lib/python3.8/site-packages (from google-auth-oauthlib<0.5,>=0.4.1->tensorboard<2.9,>=2.8->tensorflow==2.8) (1.3.1)\n",
      "Requirement already satisfied: importlib-metadata>=4.4 in /Users/huangsunchuangyu/opt/anaconda3/lib/python3.8/site-packages (from markdown>=2.6.8->tensorboard<2.9,>=2.8->tensorflow==2.8) (4.8.2)\n",
      "Requirement already satisfied: zipp>=0.5 in /Users/huangsunchuangyu/opt/anaconda3/lib/python3.8/site-packages (from importlib-metadata>=4.4->markdown>=2.6.8->tensorboard<2.9,>=2.8->tensorflow==2.8) (3.7.0)\n",
      "Requirement already satisfied: pyasn1<0.5.0,>=0.4.6 in /Users/huangsunchuangyu/opt/anaconda3/lib/python3.8/site-packages (from pyasn1-modules>=0.2.1->google-auth<3,>=1.6.3->tensorboard<2.9,>=2.8->tensorflow==2.8) (0.4.8)\n",
      "Requirement already satisfied: charset-normalizer~=2.0.0 in /Users/huangsunchuangyu/opt/anaconda3/lib/python3.8/site-packages (from requests<3,>=2.21.0->tensorboard<2.9,>=2.8->tensorflow==2.8) (2.0.4)\n",
      "Requirement already satisfied: idna<4,>=2.5 in /Users/huangsunchuangyu/opt/anaconda3/lib/python3.8/site-packages (from requests<3,>=2.21.0->tensorboard<2.9,>=2.8->tensorflow==2.8) (3.3)\n",
      "Requirement already satisfied: urllib3<1.27,>=1.21.1 in /Users/huangsunchuangyu/opt/anaconda3/lib/python3.8/site-packages (from requests<3,>=2.21.0->tensorboard<2.9,>=2.8->tensorflow==2.8) (1.26.8)\n",
      "Requirement already satisfied: certifi>=2017.4.17 in /Users/huangsunchuangyu/opt/anaconda3/lib/python3.8/site-packages (from requests<3,>=2.21.0->tensorboard<2.9,>=2.8->tensorflow==2.8) (2021.10.8)\n",
      "Requirement already satisfied: oauthlib>=3.0.0 in /Users/huangsunchuangyu/opt/anaconda3/lib/python3.8/site-packages (from requests-oauthlib>=0.7.0->google-auth-oauthlib<0.5,>=0.4.1->tensorboard<2.9,>=2.8->tensorflow==2.8) (3.2.0)\n",
      "Collecting package metadata (current_repodata.json): done\n",
      "Solving environment: - \n",
      "The environment is inconsistent, please check the package plan carefully\n",
      "The following packages are causing the inconsistency:\n",
      "\n",
      "  - defaults/noarch::python-language-server==0.36.2=pyhd3eb1b0_0\n",
      "  - defaults/noarch::pyls-black==0.4.6=hd3eb1b0_0\n",
      "failed with initial frozen solve. Retrying with flexible solve.\n",
      "Solving environment: failed with repodata from current_repodata.json, will retry with next repodata source.\n",
      "Collecting package metadata (repodata.json): done\n",
      "Solving environment: - \n",
      "The environment is inconsistent, please check the package plan carefully\n",
      "The following packages are causing the inconsistency:\n",
      "\n",
      "  - defaults/noarch::python-language-server==0.36.2=pyhd3eb1b0_0\n",
      "  - defaults/noarch::pyls-black==0.4.6=hd3eb1b0_0\n",
      "\\ "
     ]
    }
   ],
   "source": [
    "# install tensorflow\n",
    "!pip3 install tensorflow==2.8 # or\n",
    "!conda install -c conda-forge tensorflow -y"
   ]
  },
  {
   "cell_type": "code",
   "execution_count": 5,
   "id": "4a8f69ec-411a-43e9-8a2b-40acda68245c",
   "metadata": {
    "execution": {
     "iopub.execute_input": "2022-03-11T13:54:01.719998Z",
     "iopub.status.busy": "2022-03-11T13:54:01.719612Z",
     "iopub.status.idle": "2022-03-11T13:54:01.728395Z",
     "shell.execute_reply": "2022-03-11T13:54:01.726493Z",
     "shell.execute_reply.started": "2022-03-11T13:54:01.719967Z"
    },
    "tags": []
   },
   "outputs": [
    {
     "data": {
      "text/plain": [
       "'2.5.0'"
      ]
     },
     "execution_count": 5,
     "metadata": {},
     "output_type": "execute_result"
    }
   ],
   "source": [
    "# check tensorflow version\n",
    "import tensorflow as tf\n",
    "tf.__version__"
   ]
  },
  {
   "cell_type": "markdown",
   "id": "aecbc305-cf6c-4a8a-8d5d-cdd74ae1da02",
   "metadata": {},
   "source": [
    "## Keras with TensorFlow - Data Processing for Neural Network Training"
   ]
  },
  {
   "cell_type": "code",
   "execution_count": 10,
   "id": "d1460cb2-2aec-4d04-a8f1-1b46fa4df979",
   "metadata": {
    "execution": {
     "iopub.execute_input": "2022-03-11T16:48:22.447504Z",
     "iopub.status.busy": "2022-03-11T16:48:22.447170Z",
     "iopub.status.idle": "2022-03-11T16:48:24.729503Z",
     "shell.execute_reply": "2022-03-11T16:48:24.728787Z",
     "shell.execute_reply.started": "2022-03-11T16:48:22.447475Z"
    },
    "tags": []
   },
   "outputs": [],
   "source": [
    "# import required libraries\n",
    "import numpy as np\n",
    "from random import randint\n",
    "from sklearn.utils import shuffle\n",
    "from sklearn.preprocessing import MinMaxScaler"
   ]
  },
  {
   "cell_type": "markdown",
   "id": "8da7eb86-ffde-4223-af2c-ab6967f7c828",
   "metadata": {},
   "source": [
    "**Example data**\n",
    "- An experiemental drug was tested on individuals from ages 13 to 100 in a clinical trail\n",
    "- The trail had 2100 participants. Half were under 65 years old, half were 65 years or older\n",
    "- Around 95% of patients 65 or older experienced side effects\n",
    "- Around 95% of patients under 65 experienced no side effects"
   ]
  },
  {
   "cell_type": "code",
   "execution_count": 11,
   "id": "87a19890-f74f-4490-8c4d-e5416d1cc885",
   "metadata": {
    "execution": {
     "iopub.execute_input": "2022-03-11T16:48:24.731820Z",
     "iopub.status.busy": "2022-03-11T16:48:24.731351Z",
     "iopub.status.idle": "2022-03-11T16:48:24.736522Z",
     "shell.execute_reply": "2022-03-11T16:48:24.735652Z",
     "shell.execute_reply.started": "2022-03-11T16:48:24.731754Z"
    },
    "tags": []
   },
   "outputs": [],
   "source": [
    "train_labels, train_samples = [], []"
   ]
  },
  {
   "cell_type": "code",
   "execution_count": 12,
   "id": "4e468cec-5508-4b32-beb2-5329c139e770",
   "metadata": {
    "execution": {
     "iopub.execute_input": "2022-03-11T16:48:24.738636Z",
     "iopub.status.busy": "2022-03-11T16:48:24.738165Z",
     "iopub.status.idle": "2022-03-11T16:48:24.750957Z",
     "shell.execute_reply": "2022-03-11T16:48:24.750068Z",
     "shell.execute_reply.started": "2022-03-11T16:48:24.738589Z"
    },
    "tags": []
   },
   "outputs": [],
   "source": [
    "for i in range(50):\n",
    "    # the ~5% of younger individuals who did experience side effects\n",
    "    random_younger = randint(13, 64)\n",
    "    train_samples.append(random_younger)\n",
    "    train_labels.append(1)\n",
    "    \n",
    "    # the ~5% of older individuals who did not experience side effects\n",
    "    random_older = randint(65, 100)\n",
    "    train_samples.append(random_older)\n",
    "    train_labels.append(0)\n",
    "\n",
    "for i in range(1000):\n",
    "    # the ~95% of younger individuals who did not experience side effects\n",
    "    random_younger = randint(13, 64)\n",
    "    train_samples.append(random_younger)\n",
    "    train_labels.append(0)\n",
    "    \n",
    "    # the ~95% of older individuals who did experience side effects\n",
    "    random_older = randint(65, 100)\n",
    "    train_samples.append(random_older)\n",
    "    train_labels.append(1)"
   ]
  },
  {
   "cell_type": "code",
   "execution_count": 13,
   "id": "c5467389-b03d-44dd-bc90-cdd8bb2715ba",
   "metadata": {
    "execution": {
     "iopub.execute_input": "2022-03-11T16:48:25.160450Z",
     "iopub.status.busy": "2022-03-11T16:48:25.160152Z",
     "iopub.status.idle": "2022-03-11T16:48:25.165946Z",
     "shell.execute_reply": "2022-03-11T16:48:25.164809Z",
     "shell.execute_reply.started": "2022-03-11T16:48:25.160420Z"
    },
    "tags": []
   },
   "outputs": [],
   "source": [
    "# convert data into a pandas array\n",
    "train_labels = np.array(train_labels)\n",
    "train_samples = np.array(train_samples)\n",
    "train_labels, train_samples = shuffle(train_labels, train_samples)"
   ]
  },
  {
   "cell_type": "code",
   "execution_count": 14,
   "id": "576a7a13-954a-4274-ae96-2c448b84ecb2",
   "metadata": {
    "execution": {
     "iopub.execute_input": "2022-03-11T16:48:26.461151Z",
     "iopub.status.busy": "2022-03-11T16:48:26.460844Z",
     "iopub.status.idle": "2022-03-11T16:48:26.466630Z",
     "shell.execute_reply": "2022-03-11T16:48:26.465789Z",
     "shell.execute_reply.started": "2022-03-11T16:48:26.461119Z"
    },
    "tags": []
   },
   "outputs": [],
   "source": [
    "# normalise data use min-max scaler\n",
    "scaler = MinMaxScaler(feature_range=(0, 1))\n",
    "scaled_train_samples = scaler.fit_transform(train_samples.reshape(-1, 1))"
   ]
  },
  {
   "cell_type": "code",
   "execution_count": 15,
   "id": "4e6957a1-b93c-4778-8562-fd07c2ba0fce",
   "metadata": {
    "execution": {
     "iopub.execute_input": "2022-03-11T16:48:27.671543Z",
     "iopub.status.busy": "2022-03-11T16:48:27.671240Z",
     "iopub.status.idle": "2022-03-11T16:48:27.685326Z",
     "shell.execute_reply": "2022-03-11T16:48:27.684525Z",
     "shell.execute_reply.started": "2022-03-11T16:48:27.671511Z"
    },
    "tags": []
   },
   "outputs": [
    {
     "data": {
      "text/plain": [
       "array([[0.94252874],\n",
       "       [0.79310345],\n",
       "       [0.42528736],\n",
       "       [0.65517241],\n",
       "       [0.51724138]])"
      ]
     },
     "execution_count": 15,
     "metadata": {},
     "output_type": "execute_result"
    }
   ],
   "source": [
    "scaled_train_samples[:5]"
   ]
  },
  {
   "cell_type": "markdown",
   "id": "e82005bc-4654-4876-9162-a926690383f3",
   "metadata": {},
   "source": [
    "## Create an Artificial Neural Network with TensorFlow's Keras API"
   ]
  },
  {
   "cell_type": "code",
   "execution_count": 1,
   "id": "7fe7b3e8-2746-4634-a764-bf708c9579ce",
   "metadata": {
    "execution": {
     "iopub.execute_input": "2022-03-11T16:44:10.171831Z",
     "iopub.status.busy": "2022-03-11T16:44:10.171411Z",
     "iopub.status.idle": "2022-03-11T16:44:35.676186Z",
     "shell.execute_reply": "2022-03-11T16:44:35.675562Z",
     "shell.execute_reply.started": "2022-03-11T16:44:10.171745Z"
    },
    "tags": []
   },
   "outputs": [],
   "source": [
    "# import required libraries\n",
    "import tensorflow as tf\n",
    "from tensorflow import keras\n",
    "from tensorflow.keras.models import Sequential\n",
    "from tensorflow.keras.layers import Activation, Dense\n",
    "from tensorflow.keras.optimizers import Adam\n",
    "from tensorflow.keras.metrics import categorical_crossentropy"
   ]
  },
  {
   "cell_type": "code",
   "execution_count": 2,
   "id": "cc463bc4-677f-4ea1-85d4-a373cc72a920",
   "metadata": {
    "collapsed": true,
    "execution": {
     "iopub.execute_input": "2022-03-11T16:44:35.678565Z",
     "iopub.status.busy": "2022-03-11T16:44:35.678081Z",
     "iopub.status.idle": "2022-03-11T16:44:36.031389Z",
     "shell.execute_reply": "2022-03-11T16:44:36.030226Z",
     "shell.execute_reply.started": "2022-03-11T16:44:35.678502Z"
    },
    "jupyter": {
     "outputs_hidden": true
    },
    "tags": []
   },
   "outputs": [
    {
     "name": "stdout",
     "output_type": "stream",
     "text": [
      "Num GPUs Available:  0\n"
     ]
    },
    {
     "ename": "IndexError",
     "evalue": "list index out of range",
     "output_type": "error",
     "traceback": [
      "\u001b[0;31m---------------------------------------------------------------------------\u001b[0m",
      "\u001b[0;31mIndexError\u001b[0m                                Traceback (most recent call last)",
      "\u001b[0;32m/var/folders/zq/9h3tvlbn68nd_zjmj39zc0xc0000gn/T/ipykernel_4261/1851935616.py\u001b[0m in \u001b[0;36m<module>\u001b[0;34m\u001b[0m\n\u001b[1;32m      2\u001b[0m \u001b[0mphysical_devices\u001b[0m \u001b[0;34m=\u001b[0m \u001b[0mtf\u001b[0m\u001b[0;34m.\u001b[0m\u001b[0mconfig\u001b[0m\u001b[0;34m.\u001b[0m\u001b[0mexperimental\u001b[0m\u001b[0;34m.\u001b[0m\u001b[0mlist_physical_devices\u001b[0m\u001b[0;34m(\u001b[0m\u001b[0;34m'GPU'\u001b[0m\u001b[0;34m)\u001b[0m\u001b[0;34m\u001b[0m\u001b[0;34m\u001b[0m\u001b[0m\n\u001b[1;32m      3\u001b[0m \u001b[0mprint\u001b[0m\u001b[0;34m(\u001b[0m\u001b[0;34m'Num GPUs Available: '\u001b[0m\u001b[0;34m,\u001b[0m \u001b[0mlen\u001b[0m\u001b[0;34m(\u001b[0m\u001b[0mphysical_devices\u001b[0m\u001b[0;34m)\u001b[0m\u001b[0;34m)\u001b[0m\u001b[0;34m\u001b[0m\u001b[0;34m\u001b[0m\u001b[0m\n\u001b[0;32m----> 4\u001b[0;31m \u001b[0mtf\u001b[0m\u001b[0;34m.\u001b[0m\u001b[0mconfig\u001b[0m\u001b[0;34m.\u001b[0m\u001b[0mexperimental\u001b[0m\u001b[0;34m.\u001b[0m\u001b[0mset_memory_growth\u001b[0m\u001b[0;34m(\u001b[0m\u001b[0mphysical_devices\u001b[0m\u001b[0;34m[\u001b[0m\u001b[0;36m0\u001b[0m\u001b[0;34m]\u001b[0m\u001b[0;34m,\u001b[0m \u001b[0;32mTrue\u001b[0m\u001b[0;34m)\u001b[0m\u001b[0;34m\u001b[0m\u001b[0;34m\u001b[0m\u001b[0m\n\u001b[0m",
      "\u001b[0;31mIndexError\u001b[0m: list index out of range"
     ]
    }
   ],
   "source": [
    "# check GPU availability\n",
    "physical_devices = tf.config.experimental.list_physical_devices('GPU')\n",
    "print('Num GPUs Available: ', len(physical_devices))\n",
    "\n",
    "# there should be error if there is no GPU detected\n",
    "tf.config.experimental.set_memory_growth(physical_devices[0], True)"
   ]
  },
  {
   "cell_type": "markdown",
   "id": "8661f650-af68-4cf5-98d0-a345d5507b23",
   "metadata": {},
   "source": [
    "### Sample tf.keras Sequential Model"
   ]
  },
  {
   "cell_type": "markdown",
   "id": "50bf8e36-79e3-4b64-8bb2-8c3c9bfc9c6e",
   "metadata": {},
   "source": [
    "Model without validation set."
   ]
  },
  {
   "cell_type": "code",
   "execution_count": 19,
   "id": "19408202-e400-4814-86cf-4767ee47e9d9",
   "metadata": {
    "execution": {
     "iopub.execute_input": "2022-03-11T16:57:35.616858Z",
     "iopub.status.busy": "2022-03-11T16:57:35.616424Z",
     "iopub.status.idle": "2022-03-11T16:57:39.184768Z",
     "shell.execute_reply": "2022-03-11T16:57:39.184068Z",
     "shell.execute_reply.started": "2022-03-11T16:57:35.616827Z"
    },
    "scrolled": true,
    "tags": []
   },
   "outputs": [
    {
     "name": "stdout",
     "output_type": "stream",
     "text": [
      "Model: \"sequential_3\"\n",
      "_________________________________________________________________\n",
      "Layer (type)                 Output Shape              Param #   \n",
      "=================================================================\n",
      "dense_9 (Dense)              (None, 16)                32        \n",
      "_________________________________________________________________\n",
      "dense_10 (Dense)             (None, 32)                544       \n",
      "_________________________________________________________________\n",
      "dense_11 (Dense)             (None, 2)                 66        \n",
      "=================================================================\n",
      "Total params: 642\n",
      "Trainable params: 642\n",
      "Non-trainable params: 0\n",
      "_________________________________________________________________\n",
      "Epoch 1/30\n",
      "210/210 - 0s - loss: 0.6758 - accuracy: 0.5881\n",
      "Epoch 2/30\n",
      "210/210 - 0s - loss: 0.6449 - accuracy: 0.6229\n",
      "Epoch 3/30\n",
      "210/210 - 0s - loss: 0.6092 - accuracy: 0.6957\n",
      "Epoch 4/30\n",
      "210/210 - 0s - loss: 0.5706 - accuracy: 0.7619\n",
      "Epoch 5/30\n",
      "210/210 - 0s - loss: 0.5358 - accuracy: 0.7967\n",
      "Epoch 6/30\n",
      "210/210 - 0s - loss: 0.5009 - accuracy: 0.8357\n",
      "Epoch 7/30\n",
      "210/210 - 0s - loss: 0.4668 - accuracy: 0.8519\n",
      "Epoch 8/30\n",
      "210/210 - 0s - loss: 0.4347 - accuracy: 0.8781\n",
      "Epoch 9/30\n",
      "210/210 - 0s - loss: 0.4056 - accuracy: 0.8848\n",
      "Epoch 10/30\n",
      "210/210 - 0s - loss: 0.3804 - accuracy: 0.9010\n",
      "Epoch 11/30\n",
      "210/210 - 0s - loss: 0.3591 - accuracy: 0.9043\n",
      "Epoch 12/30\n",
      "210/210 - 0s - loss: 0.3413 - accuracy: 0.9138\n",
      "Epoch 13/30\n",
      "210/210 - 0s - loss: 0.3270 - accuracy: 0.9190\n",
      "Epoch 14/30\n",
      "210/210 - 0s - loss: 0.3154 - accuracy: 0.9214\n",
      "Epoch 15/30\n",
      "210/210 - 0s - loss: 0.3057 - accuracy: 0.9243\n",
      "Epoch 16/30\n",
      "210/210 - 0s - loss: 0.2977 - accuracy: 0.9276\n",
      "Epoch 17/30\n",
      "210/210 - 0s - loss: 0.2912 - accuracy: 0.9295\n",
      "Epoch 18/30\n",
      "210/210 - 0s - loss: 0.2855 - accuracy: 0.9305\n",
      "Epoch 19/30\n",
      "210/210 - 0s - loss: 0.2807 - accuracy: 0.9305\n",
      "Epoch 20/30\n",
      "210/210 - 0s - loss: 0.2768 - accuracy: 0.9357\n",
      "Epoch 21/30\n",
      "210/210 - 0s - loss: 0.2734 - accuracy: 0.9324\n",
      "Epoch 22/30\n",
      "210/210 - 0s - loss: 0.2705 - accuracy: 0.9333\n",
      "Epoch 23/30\n",
      "210/210 - 0s - loss: 0.2677 - accuracy: 0.9338\n",
      "Epoch 24/30\n",
      "210/210 - 0s - loss: 0.2653 - accuracy: 0.9348\n",
      "Epoch 25/30\n",
      "210/210 - 0s - loss: 0.2632 - accuracy: 0.9338\n",
      "Epoch 26/30\n",
      "210/210 - 0s - loss: 0.2613 - accuracy: 0.9338\n",
      "Epoch 27/30\n",
      "210/210 - 0s - loss: 0.2594 - accuracy: 0.9386\n",
      "Epoch 28/30\n",
      "210/210 - 0s - loss: 0.2579 - accuracy: 0.9429\n",
      "Epoch 29/30\n",
      "210/210 - 0s - loss: 0.2565 - accuracy: 0.9348\n",
      "Epoch 30/30\n",
      "210/210 - 0s - loss: 0.2550 - accuracy: 0.9395\n"
     ]
    },
    {
     "data": {
      "text/plain": [
       "<tensorflow.python.keras.callbacks.History at 0x7fad9864c070>"
      ]
     },
     "execution_count": 19,
     "metadata": {},
     "output_type": "execute_result"
    }
   ],
   "source": [
    "# construct a sequential model\n",
    "model = Sequential([\n",
    "    Dense(units=16, input_shape=(1,), activation='relu'),\n",
    "    Dense(units=32, activation='relu'),\n",
    "    Dense(units=2, activation='softmax'),\n",
    "])\n",
    "\n",
    "# print model summary information\n",
    "model.summary()\n",
    "\n",
    "# compile the above model \n",
    "# optimizer: gradient descent algorithm to approximate the answer with faster mathematical approach\n",
    "# loss: calculate the loss on information, less loss = better model\n",
    "# metrics: evaluation metric\n",
    "model.compile(optimizer=Adam(learning_rate=0.0001), loss='sparse_categorical_crossentropy', metrics=['accuracy'])\n",
    "\n",
    "# fit the data\n",
    "model.fit(x=scaled_train_samples,\n",
    "          y=train_labels, \n",
    "          batch_size=10, # how many sample in one batch at one time it will be passed to network \n",
    "          epochs=30, # model will train all data 30 times\n",
    "          shuffle=True, # shuffle dataset\n",
    "          verbose=2 # 0, 1, 2\n",
    "         )"
   ]
  },
  {
   "cell_type": "markdown",
   "id": "8100b00e-2e38-4ec8-81f0-ffda06fce608",
   "metadata": {},
   "source": [
    "Model with validation set = 0.1"
   ]
  },
  {
   "cell_type": "code",
   "execution_count": 18,
   "id": "dcf9cb41-4789-400f-92c7-08d02833fdf6",
   "metadata": {
    "execution": {
     "iopub.execute_input": "2022-03-11T16:57:03.747447Z",
     "iopub.status.busy": "2022-03-11T16:57:03.747010Z",
     "iopub.status.idle": "2022-03-11T16:57:08.165177Z",
     "shell.execute_reply": "2022-03-11T16:57:08.164386Z",
     "shell.execute_reply.started": "2022-03-11T16:57:03.747415Z"
    },
    "scrolled": true,
    "tags": []
   },
   "outputs": [
    {
     "name": "stdout",
     "output_type": "stream",
     "text": [
      "Model: \"sequential_2\"\n",
      "_________________________________________________________________\n",
      "Layer (type)                 Output Shape              Param #   \n",
      "=================================================================\n",
      "dense_6 (Dense)              (None, 16)                32        \n",
      "_________________________________________________________________\n",
      "dense_7 (Dense)              (None, 32)                544       \n",
      "_________________________________________________________________\n",
      "dense_8 (Dense)              (None, 2)                 66        \n",
      "=================================================================\n",
      "Total params: 642\n",
      "Trainable params: 642\n",
      "Non-trainable params: 0\n",
      "_________________________________________________________________\n",
      "Epoch 1/30\n",
      "189/189 - 1s - loss: 0.7003 - accuracy: 0.4529 - val_loss: 0.6833 - val_accuracy: 0.5762\n",
      "Epoch 2/30\n",
      "189/189 - 0s - loss: 0.6716 - accuracy: 0.5767 - val_loss: 0.6514 - val_accuracy: 0.6429\n",
      "Epoch 3/30\n",
      "189/189 - 0s - loss: 0.6401 - accuracy: 0.6783 - val_loss: 0.6156 - val_accuracy: 0.7190\n",
      "Epoch 4/30\n",
      "189/189 - 0s - loss: 0.6073 - accuracy: 0.7418 - val_loss: 0.5815 - val_accuracy: 0.7714\n",
      "Epoch 5/30\n",
      "189/189 - 0s - loss: 0.5740 - accuracy: 0.7841 - val_loss: 0.5495 - val_accuracy: 0.7952\n",
      "Epoch 6/30\n",
      "189/189 - 0s - loss: 0.5447 - accuracy: 0.8058 - val_loss: 0.5206 - val_accuracy: 0.8190\n",
      "Epoch 7/30\n",
      "189/189 - 0s - loss: 0.5165 - accuracy: 0.8217 - val_loss: 0.4932 - val_accuracy: 0.8381\n",
      "Epoch 8/30\n",
      "189/189 - 0s - loss: 0.4886 - accuracy: 0.8508 - val_loss: 0.4651 - val_accuracy: 0.8381\n",
      "Epoch 9/30\n",
      "189/189 - 0s - loss: 0.4615 - accuracy: 0.8614 - val_loss: 0.4389 - val_accuracy: 0.8667\n",
      "Epoch 10/30\n",
      "189/189 - 0s - loss: 0.4359 - accuracy: 0.8751 - val_loss: 0.4154 - val_accuracy: 0.8857\n",
      "Epoch 11/30\n",
      "189/189 - 0s - loss: 0.4126 - accuracy: 0.8857 - val_loss: 0.3936 - val_accuracy: 0.9048\n",
      "Epoch 12/30\n",
      "189/189 - 0s - loss: 0.3918 - accuracy: 0.8921 - val_loss: 0.3749 - val_accuracy: 0.9143\n",
      "Epoch 13/30\n",
      "189/189 - 0s - loss: 0.3732 - accuracy: 0.9042 - val_loss: 0.3574 - val_accuracy: 0.9143\n",
      "Epoch 14/30\n",
      "189/189 - 0s - loss: 0.3572 - accuracy: 0.9079 - val_loss: 0.3432 - val_accuracy: 0.9286\n",
      "Epoch 15/30\n",
      "189/189 - 0s - loss: 0.3431 - accuracy: 0.9138 - val_loss: 0.3307 - val_accuracy: 0.9143\n",
      "Epoch 16/30\n",
      "189/189 - 0s - loss: 0.3312 - accuracy: 0.9148 - val_loss: 0.3200 - val_accuracy: 0.9286\n",
      "Epoch 17/30\n",
      "189/189 - 0s - loss: 0.3208 - accuracy: 0.9212 - val_loss: 0.3110 - val_accuracy: 0.9381\n",
      "Epoch 18/30\n",
      "189/189 - 0s - loss: 0.3119 - accuracy: 0.9228 - val_loss: 0.3034 - val_accuracy: 0.9286\n",
      "Epoch 19/30\n",
      "189/189 - 0s - loss: 0.3045 - accuracy: 0.9222 - val_loss: 0.2968 - val_accuracy: 0.9381\n",
      "Epoch 20/30\n",
      "189/189 - 0s - loss: 0.2981 - accuracy: 0.9259 - val_loss: 0.2911 - val_accuracy: 0.9381\n",
      "Epoch 21/30\n",
      "189/189 - 0s - loss: 0.2922 - accuracy: 0.9291 - val_loss: 0.2864 - val_accuracy: 0.9381\n",
      "Epoch 22/30\n",
      "189/189 - 0s - loss: 0.2872 - accuracy: 0.9333 - val_loss: 0.2823 - val_accuracy: 0.9381\n",
      "Epoch 23/30\n",
      "189/189 - 0s - loss: 0.2832 - accuracy: 0.9296 - val_loss: 0.2790 - val_accuracy: 0.9381\n",
      "Epoch 24/30\n",
      "189/189 - 0s - loss: 0.2791 - accuracy: 0.9354 - val_loss: 0.2759 - val_accuracy: 0.9381\n",
      "Epoch 25/30\n",
      "189/189 - 0s - loss: 0.2762 - accuracy: 0.9333 - val_loss: 0.2732 - val_accuracy: 0.9381\n",
      "Epoch 26/30\n",
      "189/189 - 0s - loss: 0.2730 - accuracy: 0.9349 - val_loss: 0.2712 - val_accuracy: 0.9476\n",
      "Epoch 27/30\n",
      "189/189 - 0s - loss: 0.2706 - accuracy: 0.9360 - val_loss: 0.2686 - val_accuracy: 0.9381\n",
      "Epoch 28/30\n",
      "189/189 - 0s - loss: 0.2681 - accuracy: 0.9333 - val_loss: 0.2667 - val_accuracy: 0.9381\n",
      "Epoch 29/30\n",
      "189/189 - 0s - loss: 0.2661 - accuracy: 0.9381 - val_loss: 0.2648 - val_accuracy: 0.9476\n",
      "Epoch 30/30\n",
      "189/189 - 0s - loss: 0.2641 - accuracy: 0.9354 - val_loss: 0.2631 - val_accuracy: 0.9476\n"
     ]
    },
    {
     "data": {
      "text/plain": [
       "<tensorflow.python.keras.callbacks.History at 0x7fad986e2790>"
      ]
     },
     "execution_count": 18,
     "metadata": {},
     "output_type": "execute_result"
    }
   ],
   "source": [
    "# construct a sequential model\n",
    "model = Sequential([\n",
    "    Dense(units=16, input_shape=(1,), activation='relu'),\n",
    "    Dense(units=32, activation='relu'),\n",
    "    Dense(units=2, activation='softmax'),\n",
    "])\n",
    "\n",
    "# print model summary information\n",
    "model.summary()\n",
    "\n",
    "# compile the above model \n",
    "# optimizer: gradient descent algorithm to approximate the answer with faster mathematical approach\n",
    "# loss: calculate the loss on information, less loss = better model\n",
    "# metrics: evaluation metric\n",
    "model.compile(optimizer=Adam(learning_rate=0.0001), loss='sparse_categorical_crossentropy', metrics=['accuracy'])\n",
    "\n",
    "# fit the data\n",
    "model.fit(x=scaled_train_samples,\n",
    "          y=train_labels, \n",
    "          validation_split=0.1, # set the proportion for validation, these won't be trained by tensorflow\n",
    "          batch_size=10, # how many sample in one batch at one time it will be passed to network \n",
    "          epochs=30, # model will train all data 30 times\n",
    "          shuffle=True, # shuffle dataset\n",
    "          verbose=2 # 0, 1, 2\n",
    "         )"
   ]
  },
  {
   "cell_type": "markdown",
   "id": "a370d5be-9ce8-4438-82cc-08b1df713c1d",
   "metadata": {},
   "source": [
    "## Neural Network Predictions with TensorFlow's Keras API"
   ]
  },
  {
   "cell_type": "code",
   "execution_count": 20,
   "id": "0979b471-941f-4f67-99a1-24a3c1897d7a",
   "metadata": {
    "execution": {
     "iopub.execute_input": "2022-03-11T16:59:27.812125Z",
     "iopub.status.busy": "2022-03-11T16:59:27.811871Z",
     "iopub.status.idle": "2022-03-11T16:59:27.815941Z",
     "shell.execute_reply": "2022-03-11T16:59:27.815296Z",
     "shell.execute_reply.started": "2022-03-11T16:59:27.812101Z"
    }
   },
   "outputs": [],
   "source": [
    "# import required libraries\n",
    "import tensorflow as tf\n",
    "from tensorflow import keras\n",
    "from tensorflow.keras.models import Sequential\n",
    "from tensorflow.keras.layers import Activation, Dense\n",
    "from tensorflow.keras.optimizers import Adam\n",
    "from tensorflow.keras.metrics import categorical_crossentropy"
   ]
  },
  {
   "cell_type": "code",
   "execution_count": 22,
   "id": "4c3f72c2-8d9f-466b-a285-b7f1ef952e11",
   "metadata": {
    "execution": {
     "iopub.execute_input": "2022-03-11T17:04:45.027272Z",
     "iopub.status.busy": "2022-03-11T17:04:45.026633Z",
     "iopub.status.idle": "2022-03-11T17:04:45.035551Z",
     "shell.execute_reply": "2022-03-11T17:04:45.034244Z",
     "shell.execute_reply.started": "2022-03-11T17:04:45.027240Z"
    },
    "tags": []
   },
   "outputs": [],
   "source": [
    "# define the test variables\n",
    "test_labels, test_samples = [], []\n",
    "\n",
    "for i in range(10):\n",
    "    # the 5% of younger individuals who did experience side effects\n",
    "    random_younger = randint(13, 64)\n",
    "    test_samples.append(random_younger)\n",
    "    test_labels.append(1)\n",
    "    \n",
    "    # the 5% older individuals who did not experience side effects\n",
    "    random_older = randint(65, 100)\n",
    "    test_samples.append(random_older)\n",
    "    test_labels.append(0)\n",
    "    \n",
    "for i in range(200):\n",
    "    # the 95% of younger individuals who did not experience side effects\n",
    "    random_younger = randint(13, 64)\n",
    "    test_samples.append(random_younger)\n",
    "    test_labels.append(0)\n",
    "    \n",
    "    # the 95% of older individuals who did experience side effects\n",
    "    random_older = randint(65, 100)\n",
    "    test_samples.append(random_older)\n",
    "    test_labels.append(1)"
   ]
  },
  {
   "cell_type": "code",
   "execution_count": 23,
   "id": "98f5c317-b2bc-440f-a28e-0025a3a792f7",
   "metadata": {
    "execution": {
     "iopub.execute_input": "2022-03-11T17:05:38.396640Z",
     "iopub.status.busy": "2022-03-11T17:05:38.395868Z",
     "iopub.status.idle": "2022-03-11T17:05:38.402840Z",
     "shell.execute_reply": "2022-03-11T17:05:38.401889Z",
     "shell.execute_reply.started": "2022-03-11T17:05:38.396607Z"
    }
   },
   "outputs": [],
   "source": [
    "# convert data into numpy array and shuffle them\n",
    "test_labels, test_samples = np.array(test_labels), np.array(test_samples)\n",
    "test_labels, test_samples = shuffle(test_labels, test_samples)"
   ]
  },
  {
   "cell_type": "code",
   "execution_count": 24,
   "id": "32b8cfde-d169-404f-b9d2-af254db6b752",
   "metadata": {
    "execution": {
     "iopub.execute_input": "2022-03-11T17:06:23.988087Z",
     "iopub.status.busy": "2022-03-11T17:06:23.987585Z",
     "iopub.status.idle": "2022-03-11T17:06:23.995538Z",
     "shell.execute_reply": "2022-03-11T17:06:23.994566Z",
     "shell.execute_reply.started": "2022-03-11T17:06:23.988054Z"
    }
   },
   "outputs": [],
   "source": [
    "# scale the data with MinMaxScaler\n",
    "scaled_test_samples = scaler.fit_transform(test_samples.reshape(-1, 1))"
   ]
  },
  {
   "cell_type": "code",
   "execution_count": 27,
   "id": "bfac1ff8-d8e7-4687-942c-57269539e445",
   "metadata": {
    "execution": {
     "iopub.execute_input": "2022-03-11T17:07:04.235600Z",
     "iopub.status.busy": "2022-03-11T17:07:04.235151Z",
     "iopub.status.idle": "2022-03-11T17:07:04.328264Z",
     "shell.execute_reply": "2022-03-11T17:07:04.327404Z",
     "shell.execute_reply.started": "2022-03-11T17:07:04.235566Z"
    },
    "tags": []
   },
   "outputs": [
    {
     "name": "stdout",
     "output_type": "stream",
     "text": [
      "42/42 [==============================] - 0s 1ms/step\n"
     ]
    }
   ],
   "source": [
    "# predict based on the above model\n",
    "predictions = model.predict(x=scaled_test_samples,\n",
    "                            batch_size=10,\n",
    "                            verbose=1)"
   ]
  },
  {
   "cell_type": "code",
   "execution_count": 29,
   "id": "6b78e4f6-85c2-40a7-b95d-b4f4fad2331f",
   "metadata": {
    "execution": {
     "iopub.execute_input": "2022-03-11T17:07:15.915280Z",
     "iopub.status.busy": "2022-03-11T17:07:15.914852Z",
     "iopub.status.idle": "2022-03-11T17:07:15.922731Z",
     "shell.execute_reply": "2022-03-11T17:07:15.921750Z",
     "shell.execute_reply.started": "2022-03-11T17:07:15.915249Z"
    },
    "tags": []
   },
   "outputs": [
    {
     "data": {
      "text/plain": [
       "array([[0.2655584 , 0.73444164],\n",
       "       [0.96989477, 0.03010521],\n",
       "       [0.70501405, 0.294986  ],\n",
       "       [0.02103731, 0.9789627 ],\n",
       "       [0.89381665, 0.10618334]], dtype=float32)"
      ]
     },
     "execution_count": 29,
     "metadata": {},
     "output_type": "execute_result"
    }
   ],
   "source": [
    "# visualise prediction set\n",
    "predictions[:5]"
   ]
  },
  {
   "cell_type": "code",
   "execution_count": 31,
   "id": "b93f0c6f-e589-4b9f-aaca-bb6b93b874a2",
   "metadata": {
    "execution": {
     "iopub.execute_input": "2022-03-11T17:07:44.625178Z",
     "iopub.status.busy": "2022-03-11T17:07:44.624834Z",
     "iopub.status.idle": "2022-03-11T17:07:44.631599Z",
     "shell.execute_reply": "2022-03-11T17:07:44.630436Z",
     "shell.execute_reply.started": "2022-03-11T17:07:44.625146Z"
    },
    "tags": []
   },
   "outputs": [
    {
     "data": {
      "text/plain": [
       "array([1, 0, 0, 1, 0])"
      ]
     },
     "execution_count": 31,
     "metadata": {},
     "output_type": "execute_result"
    }
   ],
   "source": [
    "# arg-max\n",
    "rounded_predictions = np.argmax(predictions, axis=-1)\n",
    "rounded_predictions[:5]"
   ]
  },
  {
   "cell_type": "markdown",
   "id": "4b30003c-af43-4037-b902-c6492df5e6c7",
   "metadata": {},
   "source": [
    "## Create a Confusion Metrix for Neural Network Predictions"
   ]
  },
  {
   "cell_type": "code",
   "execution_count": 45,
   "id": "ae03f308-160d-4985-8e90-7ec042892d06",
   "metadata": {
    "execution": {
     "iopub.execute_input": "2022-03-11T17:16:03.095188Z",
     "iopub.status.busy": "2022-03-11T17:16:03.094737Z",
     "iopub.status.idle": "2022-03-11T17:16:03.102056Z",
     "shell.execute_reply": "2022-03-11T17:16:03.100562Z",
     "shell.execute_reply.started": "2022-03-11T17:16:03.095156Z"
    },
    "tags": []
   },
   "outputs": [],
   "source": [
    "# import requied libraries\n",
    "from sklearn.metrics import confusion_matrix\n",
    "from sklearn.metrics import plot_confusion_matrix\n",
    "import itertools\n",
    "import matplotlib.pyplot as plt\n",
    "import seaborn as sns\n",
    "%matplotlib inline"
   ]
  },
  {
   "cell_type": "code",
   "execution_count": 62,
   "id": "852544fe-f8d1-4e6c-acc3-069cb854ecfd",
   "metadata": {
    "execution": {
     "iopub.execute_input": "2022-03-11T17:21:55.127119Z",
     "iopub.status.busy": "2022-03-11T17:21:55.126756Z",
     "iopub.status.idle": "2022-03-11T17:21:55.135127Z",
     "shell.execute_reply": "2022-03-11T17:21:55.134369Z",
     "shell.execute_reply.started": "2022-03-11T17:21:55.127070Z"
    },
    "tags": []
   },
   "outputs": [
    {
     "data": {
      "text/plain": [
       "(196, 14, 10, 200)"
      ]
     },
     "execution_count": 62,
     "metadata": {},
     "output_type": "execute_result"
    }
   ],
   "source": [
    "# construct the confusion matrix\n",
    "cm = confusion_matrix(y_true=test_labels,\n",
    "                         y_pred=rounded_predictions)\n",
    "\n",
    "# not important, evaluate the value of tn, fp, fn, tp from confusion matrix\n",
    "tn, fp, fn, tp = cm.ravel()\n",
    "tn, fp, fn, tp"
   ]
  },
  {
   "cell_type": "code",
   "execution_count": 66,
   "id": "02054575-4f8c-4ea7-87d3-7a4d8c2275ee",
   "metadata": {
    "execution": {
     "iopub.execute_input": "2022-03-11T17:23:29.203735Z",
     "iopub.status.busy": "2022-03-11T17:23:29.203375Z",
     "iopub.status.idle": "2022-03-11T17:23:29.438643Z",
     "shell.execute_reply": "2022-03-11T17:23:29.437903Z",
     "shell.execute_reply.started": "2022-03-11T17:23:29.203699Z"
    },
    "tags": []
   },
   "outputs": [
    {
     "data": {
      "image/png": "[encoded data removed]",
      "text/plain": [
       "<Figure size 432x288 with 2 Axes>"
      ]
     },
     "metadata": {
      "needs_background": "light"
     },
     "output_type": "display_data"
    }
   ],
   "source": [
    "# plot the matrix use searborn heatmap\n",
    "cm_plot_labels = ['no_side_effects', 'had_side_effects']\n",
    "\n",
    "sns.heatmap(data=cm, cmap='YlGnBu', \n",
    "            xticklabels=cm_plot_labels, \n",
    "            yticklabels=cm_plot_labels,\n",
    "            annot=True)\n",
    "plt.show()"
   ]
  },
  {
   "cell_type": "markdown",
   "id": "c5b81ceb-cf36-4236-a248-563de6fd0ad3",
   "metadata": {},
   "source": [
    "## Save and Load a Model with TensorFlow's Keras API"
   ]
  },
  {
   "cell_type": "markdown",
   "id": "895f0a19-a11c-4836-a6e7-fb9f2582b8d4",
   "metadata": {},
   "source": [
    "### Model Save & Load via built-in function "
   ]
  },
  {
   "cell_type": "code",
   "execution_count": 72,
   "id": "d93c3e5e-5a4d-4ef6-9632-9b6050e7afb0",
   "metadata": {
    "execution": {
     "iopub.execute_input": "2022-03-11T17:28:29.171494Z",
     "iopub.status.busy": "2022-03-11T17:28:29.171148Z",
     "iopub.status.idle": "2022-03-11T17:28:29.196305Z",
     "shell.execute_reply": "2022-03-11T17:28:29.195560Z",
     "shell.execute_reply.started": "2022-03-11T17:28:29.171461Z"
    },
    "tags": []
   },
   "outputs": [],
   "source": [
    "# save model via a model.save() function\n",
    "# checkt first to see if file exists already, if not, the model is saved to disk\n",
    "import os.path\n",
    "if os.path.isfile('models/medical_trial_model.h5') is False:\n",
    "    model.save('model/medical_trial_model.h5')"
   ]
  },
  {
   "cell_type": "markdown",
   "id": "6be1cdc2-d03e-4302-9692-c22c90186bc6",
   "metadata": {},
   "source": [
    "This save functions saves:\n",
    "- The architecture of the model, allow to re-create the model\n",
    "- The weights of the model\n",
    "- The training configuration (loss, optimizer)\n",
    "- The state of the optimizer, allowing to resuem training exactly where you left off"
   ]
  },
  {
   "cell_type": "code",
   "execution_count": 73,
   "id": "de292da9-d44f-4630-807e-d451db973c5a",
   "metadata": {
    "execution": {
     "iopub.execute_input": "2022-03-11T17:28:30.941805Z",
     "iopub.status.busy": "2022-03-11T17:28:30.941342Z",
     "iopub.status.idle": "2022-03-11T17:28:31.013697Z",
     "shell.execute_reply": "2022-03-11T17:28:31.012470Z",
     "shell.execute_reply.started": "2022-03-11T17:28:30.941770Z"
    },
    "tags": []
   },
   "outputs": [],
   "source": [
    "# import load module and load the .h5 model file\n",
    "from tensorflow.keras.models import load_model\n",
    "new_model = load_model('model/medical_trial_model.h5')"
   ]
  },
  {
   "cell_type": "code",
   "execution_count": 74,
   "id": "2eda03c7-bfe2-4af3-9d7d-afffdaebcfc4",
   "metadata": {
    "execution": {
     "iopub.execute_input": "2022-03-11T17:29:01.964763Z",
     "iopub.status.busy": "2022-03-11T17:29:01.964418Z",
     "iopub.status.idle": "2022-03-11T17:29:01.971456Z",
     "shell.execute_reply": "2022-03-11T17:29:01.970495Z",
     "shell.execute_reply.started": "2022-03-11T17:29:01.964728Z"
    }
   },
   "outputs": [
    {
     "name": "stdout",
     "output_type": "stream",
     "text": [
      "Model: \"sequential_3\"\n",
      "_________________________________________________________________\n",
      "Layer (type)                 Output Shape              Param #   \n",
      "=================================================================\n",
      "dense_9 (Dense)              (None, 16)                32        \n",
      "_________________________________________________________________\n",
      "dense_10 (Dense)             (None, 32)                544       \n",
      "_________________________________________________________________\n",
      "dense_11 (Dense)             (None, 2)                 66        \n",
      "=================================================================\n",
      "Total params: 642\n",
      "Trainable params: 642\n",
      "Non-trainable params: 0\n",
      "_________________________________________________________________\n"
     ]
    }
   ],
   "source": [
    "# check model\n",
    "new_model.summary() "
   ]
  },
  {
   "cell_type": "code",
   "execution_count": 75,
   "id": "f47ce811-3989-47ee-8f04-2b3e0cf7ac6e",
   "metadata": {
    "execution": {
     "iopub.execute_input": "2022-03-11T17:29:13.571252Z",
     "iopub.status.busy": "2022-03-11T17:29:13.570873Z",
     "iopub.status.idle": "2022-03-11T17:29:13.590404Z",
     "shell.execute_reply": "2022-03-11T17:29:13.589424Z",
     "shell.execute_reply.started": "2022-03-11T17:29:13.571209Z"
    },
    "scrolled": true,
    "tags": []
   },
   "outputs": [
    {
     "data": {
      "text/plain": [
       "[array([[-0.2453197 ,  0.62692946, -0.57432616,  0.5029591 ,  0.5672134 ,\n",
       "         -0.0124665 , -0.00867534,  0.34111133, -0.11166951,  0.35493356,\n",
       "         -0.17245662, -0.39856756, -0.33936626,  0.68436104,  0.48601544,\n",
       "         -0.49799907]], dtype=float32),\n",
       " array([ 0.        , -0.08961309,  0.        , -0.16433328, -0.11553204,\n",
       "         0.22433533,  0.20716096, -0.11276904,  0.        , -0.11971471,\n",
       "         0.        ,  0.        ,  0.        , -0.18014596, -0.12307021,\n",
       "         0.        ], dtype=float32),\n",
       " array([[ 1.23330951e-02, -3.21351916e-01,  2.73087621e-03,\n",
       "          1.09673440e-01,  1.42646670e-01, -1.27048388e-01,\n",
       "         -6.46701157e-02,  6.55634701e-02,  3.32103163e-01,\n",
       "          1.26492560e-01,  1.56111866e-01, -1.18497297e-01,\n",
       "         -3.21724266e-01, -1.62737831e-01,  3.85228097e-02,\n",
       "         -2.21373796e-01, -1.24827921e-02,  2.73079485e-01,\n",
       "         -2.97189653e-01, -1.97446600e-01, -2.39430174e-01,\n",
       "          1.35168225e-01, -2.46646047e-01,  2.52100378e-01,\n",
       "         -2.15512514e-03, -3.13037962e-01, -3.32567722e-01,\n",
       "         -2.64400244e-01, -1.58650428e-01, -1.77420363e-01,\n",
       "         -1.25903502e-01, -2.83062696e-01],\n",
       "        [ 3.99312556e-01, -3.39392535e-02,  4.88131285e-01,\n",
       "          1.36427805e-01,  4.18133140e-01,  1.51794299e-01,\n",
       "         -1.79787830e-01, -1.39108703e-01, -2.87041873e-01,\n",
       "          1.64918944e-01, -1.67249992e-01, -3.79507929e-01,\n",
       "         -6.80080578e-02, -1.57092139e-01,  2.71477103e-01,\n",
       "          2.85900742e-01,  2.66769469e-01,  9.19701159e-02,\n",
       "          3.28146279e-01, -2.94033676e-01,  1.91546097e-01,\n",
       "          3.68301779e-01,  5.69932535e-02,  4.28544849e-01,\n",
       "         -1.52038470e-01,  1.71106070e-01, -4.05657589e-01,\n",
       "          4.10873860e-01, -4.79553640e-02, -1.78814739e-01,\n",
       "         -2.03782886e-01, -1.31401479e-01],\n",
       "        [ 4.38297689e-02, -2.69480884e-01, -2.36659780e-01,\n",
       "          1.99782282e-01,  3.48955601e-01, -2.49781862e-01,\n",
       "          4.70453203e-02,  9.31492448e-02,  3.16786766e-02,\n",
       "          2.79934794e-01, -2.44093716e-01,  1.22872293e-01,\n",
       "         -1.47022277e-01,  3.49209636e-01, -1.43423960e-01,\n",
       "          3.49580973e-01,  1.07376188e-01, -3.78354788e-02,\n",
       "          3.49113733e-01, -2.85722673e-01,  2.01834708e-01,\n",
       "         -2.69563079e-01, -1.54213041e-01, -2.52106339e-01,\n",
       "         -1.02149963e-01, -1.29117712e-01,  2.86961466e-01,\n",
       "          2.28422076e-01, -4.39396501e-03, -3.44765514e-01,\n",
       "          3.38774949e-01,  3.18381816e-01],\n",
       "        [ 4.70462710e-01,  1.59838453e-01, -1.35939255e-01,\n",
       "          8.98279548e-02, -9.42203328e-02, -1.69164643e-01,\n",
       "          1.48953468e-01,  8.82530510e-02, -2.61335254e-01,\n",
       "          2.69000679e-01, -1.35797307e-01, -2.41898283e-01,\n",
       "         -1.90399244e-01,  2.07464486e-01, -3.51957679e-01,\n",
       "         -4.51012999e-01,  5.32550335e-01, -2.18590274e-01,\n",
       "         -2.36094579e-01,  5.72024807e-02,  3.80915552e-01,\n",
       "          2.18031198e-01, -3.40497285e-01,  2.27178652e-02,\n",
       "          1.75168186e-01, -4.03804332e-01, -2.20933005e-01,\n",
       "          3.52112502e-01,  2.13203877e-01, -3.91725868e-01,\n",
       "         -4.21813190e-01, -2.00817883e-02],\n",
       "        [ 2.27452114e-01,  1.99869066e-01,  9.84667689e-02,\n",
       "         -4.67984498e-01,  1.60715967e-01, -1.02628022e-01,\n",
       "         -1.58436149e-01, -1.54398322e-01, -1.92067057e-01,\n",
       "         -9.40320417e-02,  1.41128227e-01,  1.32822141e-01,\n",
       "         -5.32895960e-02, -6.23245258e-03, -2.18999460e-01,\n",
       "         -2.04881206e-01,  4.47309047e-01,  4.29238230e-02,\n",
       "         -2.09781229e-01, -3.41240197e-01,  4.18855608e-01,\n",
       "          8.21951963e-03, -1.54957861e-01,  2.02682316e-01,\n",
       "          4.25171167e-01,  1.42011493e-01,  1.89527988e-01,\n",
       "          3.69090974e-01, -3.34976494e-01, -1.40390009e-01,\n",
       "         -3.09396654e-01,  2.19531953e-02],\n",
       "        [ 2.72260576e-01,  2.86437273e-01, -7.16434345e-02,\n",
       "         -1.50639802e-01,  8.23458806e-02,  5.59969954e-02,\n",
       "         -7.54181668e-02, -1.40548185e-01, -3.44368994e-01,\n",
       "          2.54430212e-02,  8.48130360e-02,  1.59194827e-01,\n",
       "          4.47473563e-02, -2.30658025e-01,  2.17653811e-01,\n",
       "          3.89649391e-01, -1.30549401e-01,  1.15308419e-01,\n",
       "         -1.37656674e-01,  3.56240034e-01, -1.28797621e-01,\n",
       "          1.30788803e-01,  3.58315080e-01, -2.55677551e-01,\n",
       "          5.01702540e-03,  4.74262416e-01,  5.03582478e-01,\n",
       "         -3.52321237e-01, -2.04371154e-01,  3.93543839e-01,\n",
       "          4.48694199e-01, -1.94463536e-01],\n",
       "        [-3.15481335e-01, -1.48996532e-01,  1.41033530e-01,\n",
       "          4.42197084e-01,  2.52541125e-01,  3.78021479e-01,\n",
       "          9.49440524e-02, -2.92307615e-01,  4.16744649e-02,\n",
       "          2.03264635e-02, -1.84820071e-01,  1.95380971e-01,\n",
       "          2.16929227e-01, -5.14950417e-02, -2.75486231e-01,\n",
       "         -3.27071398e-02, -1.86332881e-01,  4.28297102e-01,\n",
       "         -1.31071657e-01,  3.42021018e-01,  4.87443171e-02,\n",
       "          1.50662422e-01,  2.30781421e-01,  3.94496955e-02,\n",
       "         -2.38471087e-02, -8.68090838e-02,  9.07323882e-02,\n",
       "          1.58126101e-01, -1.47596911e-01,  1.22766264e-01,\n",
       "          5.14254510e-01,  5.23896217e-02],\n",
       "        [ 1.81241184e-01, -2.59333730e-01,  4.87757683e-01,\n",
       "          4.84785065e-02,  4.31897193e-01,  5.02619259e-02,\n",
       "         -2.52846479e-02, -3.11660528e-01,  3.11852843e-01,\n",
       "          3.99595976e-01, -1.36766762e-01, -3.47106874e-01,\n",
       "         -2.21346647e-01,  1.72038510e-01,  5.16913161e-02,\n",
       "         -8.59143585e-02, -1.20151661e-01, -3.14215809e-01,\n",
       "         -2.10786834e-01,  8.67578313e-02,  1.69875532e-01,\n",
       "         -4.45806347e-02, -4.16231960e-01,  3.14390153e-01,\n",
       "          5.02631903e-01, -3.06761473e-01,  8.46709684e-02,\n",
       "          5.19140542e-01,  2.66202122e-01, -3.88038933e-01,\n",
       "          3.66223194e-02, -2.96679169e-01],\n",
       "        [-1.86676055e-01,  2.24825710e-01, -4.63228524e-02,\n",
       "          1.27533317e-01,  2.05482215e-01, -8.86914134e-03,\n",
       "         -2.04691052e-01,  2.05131173e-02, -2.38906205e-01,\n",
       "          1.59288794e-01,  1.11311674e-01,  3.21410686e-01,\n",
       "          7.28432536e-02, -4.96533811e-02, -9.25554037e-02,\n",
       "         -3.43509972e-01,  1.62473410e-01, -2.10504621e-01,\n",
       "          2.66010672e-01, -7.18635917e-02,  3.43790561e-01,\n",
       "          1.30799115e-01, -3.26694459e-01,  2.44236499e-01,\n",
       "          2.91318685e-01, -7.14643598e-02,  8.47464502e-02,\n",
       "         -2.06056535e-01, -2.20535994e-01, -2.40323350e-01,\n",
       "         -2.87370205e-01,  5.33826053e-02],\n",
       "        [-1.17127866e-01, -4.44813035e-02,  1.25781491e-01,\n",
       "         -3.26626241e-01,  3.17989290e-01,  1.43363342e-01,\n",
       "         -6.43223226e-02, -6.45402968e-02, -2.72272676e-01,\n",
       "          5.38350403e-01, -8.04602131e-02,  1.80228457e-01,\n",
       "         -3.86202633e-01,  6.64961189e-02, -2.03960296e-02,\n",
       "         -3.34723294e-01, -1.50143847e-01, -4.45977122e-01,\n",
       "         -2.04208598e-01, -4.25342679e-01,  1.43680274e-01,\n",
       "          1.24163017e-01, -3.15479219e-01,  8.83974433e-02,\n",
       "          3.96035582e-01, -3.16151679e-01,  6.22845292e-02,\n",
       "          2.32588427e-04, -8.78736377e-03,  2.13139564e-01,\n",
       "         -2.58629411e-01,  6.12638295e-02],\n",
       "        [-1.56222284e-02, -2.45837569e-02,  1.12015873e-01,\n",
       "          1.09646976e-01,  5.34727871e-02,  5.48642874e-03,\n",
       "         -2.60177732e-01, -2.07532004e-01,  1.97585911e-01,\n",
       "          3.29094529e-02, -1.90225333e-01,  1.92897528e-01,\n",
       "         -2.53092498e-01, -4.40958142e-02,  1.82685286e-01,\n",
       "          1.46137774e-01,  2.65422136e-01, -2.23528251e-01,\n",
       "          1.02389365e-01,  7.34319389e-02,  1.67108446e-01,\n",
       "          2.01813072e-01,  1.66505188e-01, -4.62538004e-02,\n",
       "          3.37322444e-01,  2.18762189e-01, -4.80169058e-02,\n",
       "         -1.31305158e-02, -1.38656974e-01, -2.04501569e-01,\n",
       "          1.37164563e-01,  2.67404467e-01],\n",
       "        [-1.50980636e-01, -2.17336789e-01, -1.63451299e-01,\n",
       "         -2.80207515e-01, -2.75497019e-01, -1.62150815e-01,\n",
       "         -3.42801988e-01,  1.06027722e-01,  1.91493332e-02,\n",
       "          2.46757716e-01, -1.85626432e-01, -3.40085328e-02,\n",
       "         -2.40770191e-01,  2.27909356e-01, -1.20581120e-01,\n",
       "          1.98754936e-01, -3.33032519e-01,  1.86886042e-01,\n",
       "          2.67280042e-02, -1.77807599e-01,  1.35141850e-01,\n",
       "         -1.09633058e-01, -3.53507191e-01, -3.14469010e-01,\n",
       "          9.68881845e-02,  9.41297710e-02,  2.43417412e-01,\n",
       "          2.88624138e-01, -3.00531149e-01, -3.58528793e-02,\n",
       "          2.49380857e-01, -7.55393803e-02],\n",
       "        [ 1.68314278e-02,  1.71660215e-01,  1.23352110e-02,\n",
       "          1.57301575e-01, -6.42837286e-02,  1.68113977e-01,\n",
       "         -4.62851524e-02,  3.25947791e-01,  1.84297293e-01,\n",
       "         -9.44955945e-02, -7.90810585e-02,  1.41554475e-02,\n",
       "          1.69351369e-01, -3.02394867e-01, -1.17982090e-01,\n",
       "         -2.57365406e-02,  3.40967685e-01,  1.03692114e-02,\n",
       "         -1.71831429e-01, -3.05051208e-01,  2.93382198e-01,\n",
       "         -4.20989692e-02, -4.84450161e-02,  1.75614953e-02,\n",
       "         -1.53813958e-02,  1.82431012e-01,  2.46560484e-01,\n",
       "         -3.41688126e-01, -1.03958577e-01, -2.46086925e-01,\n",
       "          3.15660328e-01, -4.13186550e-02],\n",
       "        [-4.90661860e-02,  4.26469604e-03,  1.47025451e-01,\n",
       "         -4.44841921e-01,  5.84940434e-01, -4.19510037e-01,\n",
       "         -1.95089504e-01,  3.30551058e-01, -2.54364908e-01,\n",
       "          2.79098332e-01, -6.14848435e-02,  1.16077885e-01,\n",
       "         -3.09973776e-01,  4.55610901e-02, -1.53588489e-01,\n",
       "         -2.31217980e-01,  4.92878705e-01, -2.37739846e-01,\n",
       "          5.85011654e-02, -2.24887922e-01,  4.77696240e-01,\n",
       "          5.63785493e-01, -4.12323177e-01,  2.05257997e-01,\n",
       "          1.46603435e-01, -2.86288768e-01, -3.77385348e-01,\n",
       "          1.06839970e-01,  7.77654946e-02, -1.30097315e-01,\n",
       "         -4.23939139e-01,  2.59787142e-02],\n",
       "        [ 4.46743041e-01, -2.30659947e-01,  3.03604633e-01,\n",
       "          6.92399591e-02,  3.32928210e-01, -3.37119281e-01,\n",
       "         -1.98492408e-02, -3.31043005e-01, -1.54043019e-01,\n",
       "          2.03111932e-01,  1.68205649e-01, -3.63766074e-01,\n",
       "          2.35021785e-01, -7.22265169e-02,  2.19663028e-02,\n",
       "         -3.67740393e-01, -1.73253611e-01, -3.18486094e-01,\n",
       "          3.15337539e-01,  1.78054944e-02,  3.89990091e-01,\n",
       "          4.33845460e-01,  1.11635059e-01,  3.13613087e-01,\n",
       "          5.42639494e-01, -4.13181365e-01, -3.13694149e-01,\n",
       "          1.53640360e-01, -2.26007670e-01, -1.91120490e-01,\n",
       "          2.15141386e-01, -8.68440866e-02],\n",
       "        [-7.71889091e-02,  5.42724133e-02,  3.49560648e-01,\n",
       "         -1.05323374e-01, -2.14585781e-01,  1.76076323e-01,\n",
       "         -2.21966043e-01, -4.94701862e-02, -2.86404103e-01,\n",
       "         -1.31914660e-01,  5.56409359e-04,  3.53151292e-01,\n",
       "          2.83663899e-01, -1.13762021e-02,  1.13440514e-01,\n",
       "          1.15805447e-01,  2.23928064e-01, -5.86116016e-02,\n",
       "          2.86467403e-01,  2.66361684e-01, -3.34939152e-01,\n",
       "          2.35376149e-01,  3.19761664e-01,  3.94544005e-03,\n",
       "          2.45424122e-01, -1.93872467e-01,  1.43775046e-01,\n",
       "          3.32777709e-01,  7.68240094e-02, -2.65173316e-01,\n",
       "          1.30232245e-01, -2.85219193e-01]], dtype=float32),\n",
       " array([-0.09474561,  0.09191519, -0.09823113,  0.17597026, -0.12874146,\n",
       "         0.10661392, -0.00440563,  0.        ,  0.        , -0.08351093,\n",
       "        -0.00232266,  0.14041245, -0.01247604, -0.00083002, -0.01276781,\n",
       "         0.2045532 , -0.05303107,  0.15493427, -0.00663554,  0.17602463,\n",
       "        -0.08568966, -0.12769037,  0.1992785 , -0.07460565, -0.08145508,\n",
       "         0.17655708,  0.19129403, -0.07995955,  0.        ,  0.19604349,\n",
       "         0.20704839,  0.        ], dtype=float32),\n",
       " array([[-4.38009381e-01,  5.79198778e-01],\n",
       "        [ 1.14275135e-01, -1.62180886e-01],\n",
       "        [-6.13997042e-01,  3.35715652e-01],\n",
       "        [ 8.13394845e-01, -2.50023127e-01],\n",
       "        [-3.77490938e-01,  9.95157436e-02],\n",
       "        [ 4.47693169e-01, -1.65218621e-01],\n",
       "        [ 2.71958262e-01,  3.47205549e-01],\n",
       "        [-1.84178352e-05,  1.51937336e-01],\n",
       "        [ 4.09753174e-01,  3.95734340e-01],\n",
       "        [-3.18303227e-01,  3.81555825e-01],\n",
       "        [ 2.32947245e-01,  3.39630276e-01],\n",
       "        [ 5.00012815e-01, -5.74560881e-01],\n",
       "        [-2.93795049e-01,  2.41252854e-01],\n",
       "        [ 2.66949654e-01,  1.79768860e-01],\n",
       "        [ 2.82932520e-01,  3.16607058e-01],\n",
       "        [ 5.85114181e-01, -8.04992080e-01],\n",
       "        [-2.21524566e-01,  2.06751391e-01],\n",
       "        [ 5.75145364e-01, -6.07921958e-01],\n",
       "        [ 2.96731561e-01,  2.11753055e-01],\n",
       "        [ 7.34144509e-01, -2.75566041e-01],\n",
       "        [-4.32925105e-01,  6.32966876e-01],\n",
       "        [-2.85217166e-01,  2.10810825e-01],\n",
       "        [ 4.53741670e-01, -3.94140422e-01],\n",
       "        [-5.59960008e-01,  2.41070405e-01],\n",
       "        [-1.97544217e-01,  6.11874998e-01],\n",
       "        [ 6.49821401e-01, -3.21909428e-01],\n",
       "        [ 7.64849782e-01, -2.00019315e-01],\n",
       "        [-3.61944914e-01,  2.73904860e-01],\n",
       "        [-4.31798995e-02, -1.95866957e-01],\n",
       "        [ 4.90969718e-01, -7.26047337e-01],\n",
       "        [ 2.40516350e-01, -7.46121883e-01],\n",
       "        [-4.74499166e-02, -3.37742567e-02]], dtype=float32),\n",
       " array([ 0.10043398, -0.10043397], dtype=float32)]"
      ]
     },
     "execution_count": 75,
     "metadata": {},
     "output_type": "execute_result"
    }
   ],
   "source": [
    "# check weights\n",
    "new_model.get_weights()"
   ]
  },
  {
   "cell_type": "code",
   "execution_count": 76,
   "id": "7d75b2fb-2846-434b-87d1-c07a3d0e1993",
   "metadata": {
    "execution": {
     "iopub.execute_input": "2022-03-11T17:29:30.700126Z",
     "iopub.status.busy": "2022-03-11T17:29:30.699439Z",
     "iopub.status.idle": "2022-03-11T17:29:30.705506Z",
     "shell.execute_reply": "2022-03-11T17:29:30.704666Z",
     "shell.execute_reply.started": "2022-03-11T17:29:30.700092Z"
    }
   },
   "outputs": [
    {
     "data": {
      "text/plain": [
       "<tensorflow.python.keras.optimizer_v2.adam.Adam at 0x7fad7e39aaf0>"
      ]
     },
     "execution_count": 76,
     "metadata": {},
     "output_type": "execute_result"
    }
   ],
   "source": [
    "# check optimiser\n",
    "new_model.optimizer"
   ]
  },
  {
   "cell_type": "markdown",
   "id": "ab3eb6b8-7044-4f98-a32c-ec7c18743adf",
   "metadata": {},
   "source": [
    "### Save model architecture via model.to_json()"
   ]
  },
  {
   "cell_type": "markdown",
   "id": "519c07b9-62f2-4317-8c8e-07ede4aa5d5d",
   "metadata": {},
   "source": [
    "If you only need to save the architecture of a model, and not its weights or its training configuration, you can use the following function to save the architecture only."
   ]
  },
  {
   "cell_type": "code",
   "execution_count": 77,
   "id": "1b29a50b-5fb5-44c4-ae15-2d4ceb7ceda6",
   "metadata": {
    "execution": {
     "iopub.execute_input": "2022-03-11T17:32:06.355609Z",
     "iopub.status.busy": "2022-03-11T17:32:06.355114Z",
     "iopub.status.idle": "2022-03-11T17:32:06.369360Z",
     "shell.execute_reply": "2022-03-11T17:32:06.368128Z",
     "shell.execute_reply.started": "2022-03-11T17:32:06.355575Z"
    }
   },
   "outputs": [],
   "source": [
    "# save as JSON\n",
    "json_string = model.to_json()\n",
    "\n",
    "# save as YAML\n",
    "yaml_string = model.to_yaml()"
   ]
  },
  {
   "cell_type": "code",
   "execution_count": 78,
   "id": "39ac5aaa-8cb1-4800-8f90-a2b2ea2150b2",
   "metadata": {
    "execution": {
     "iopub.execute_input": "2022-03-11T17:32:13.508719Z",
     "iopub.status.busy": "2022-03-11T17:32:13.508094Z",
     "iopub.status.idle": "2022-03-11T17:32:13.514661Z",
     "shell.execute_reply": "2022-03-11T17:32:13.513797Z",
     "shell.execute_reply.started": "2022-03-11T17:32:13.508681Z"
    },
    "scrolled": true,
    "tags": []
   },
   "outputs": [
    {
     "data": {
      "text/plain": [
       "('{\"class_name\": \"Sequential\", \"config\": {\"name\": \"sequential_3\", \"layers\": [{\"class_name\": \"InputLayer\", \"config\": {\"batch_input_shape\": [null, 1], \"dtype\": \"float32\", \"sparse\": false, \"ragged\": false, \"name\": \"dense_9_input\"}}, {\"class_name\": \"Dense\", \"config\": {\"name\": \"dense_9\", \"trainable\": true, \"batch_input_shape\": [null, 1], \"dtype\": \"float32\", \"units\": 16, \"activation\": \"relu\", \"use_bias\": true, \"kernel_initializer\": {\"class_name\": \"GlorotUniform\", \"config\": {\"seed\": null}}, \"bias_initializer\": {\"class_name\": \"Zeros\", \"config\": {}}, \"kernel_regularizer\": null, \"bias_regularizer\": null, \"activity_regularizer\": null, \"kernel_constraint\": null, \"bias_constraint\": null}}, {\"class_name\": \"Dense\", \"config\": {\"name\": \"dense_10\", \"trainable\": true, \"dtype\": \"float32\", \"units\": 32, \"activation\": \"relu\", \"use_bias\": true, \"kernel_initializer\": {\"class_name\": \"GlorotUniform\", \"config\": {\"seed\": null}}, \"bias_initializer\": {\"class_name\": \"Zeros\", \"config\": {}}, \"kernel_regularizer\": null, \"bias_regularizer\": null, \"activity_regularizer\": null, \"kernel_constraint\": null, \"bias_constraint\": null}}, {\"class_name\": \"Dense\", \"config\": {\"name\": \"dense_11\", \"trainable\": true, \"dtype\": \"float32\", \"units\": 2, \"activation\": \"softmax\", \"use_bias\": true, \"kernel_initializer\": {\"class_name\": \"GlorotUniform\", \"config\": {\"seed\": null}}, \"bias_initializer\": {\"class_name\": \"Zeros\", \"config\": {}}, \"kernel_regularizer\": null, \"bias_regularizer\": null, \"activity_regularizer\": null, \"kernel_constraint\": null, \"bias_constraint\": null}}]}, \"keras_version\": \"2.5.0\", \"backend\": \"tensorflow\"}',\n",
       " 'backend: tensorflow\\nclass_name: Sequential\\nconfig:\\n  layers:\\n  - class_name: InputLayer\\n    config:\\n      batch_input_shape: !!python/tuple\\n      - null\\n      - 1\\n      dtype: float32\\n      name: dense_9_input\\n      ragged: false\\n      sparse: false\\n  - class_name: Dense\\n    config:\\n      activation: relu\\n      activity_regularizer: null\\n      batch_input_shape: !!python/tuple\\n      - null\\n      - 1\\n      bias_constraint: null\\n      bias_initializer:\\n        class_name: Zeros\\n        config: {}\\n      bias_regularizer: null\\n      dtype: float32\\n      kernel_constraint: null\\n      kernel_initializer:\\n        class_name: GlorotUniform\\n        config:\\n          seed: null\\n      kernel_regularizer: null\\n      name: dense_9\\n      trainable: true\\n      units: 16\\n      use_bias: true\\n  - class_name: Dense\\n    config:\\n      activation: relu\\n      activity_regularizer: null\\n      bias_constraint: null\\n      bias_initializer:\\n        class_name: Zeros\\n        config: {}\\n      bias_regularizer: null\\n      dtype: float32\\n      kernel_constraint: null\\n      kernel_initializer:\\n        class_name: GlorotUniform\\n        config:\\n          seed: null\\n      kernel_regularizer: null\\n      name: dense_10\\n      trainable: true\\n      units: 32\\n      use_bias: true\\n  - class_name: Dense\\n    config:\\n      activation: softmax\\n      activity_regularizer: null\\n      bias_constraint: null\\n      bias_initializer:\\n        class_name: Zeros\\n        config: {}\\n      bias_regularizer: null\\n      dtype: float32\\n      kernel_constraint: null\\n      kernel_initializer:\\n        class_name: GlorotUniform\\n        config:\\n          seed: null\\n      kernel_regularizer: null\\n      name: dense_11\\n      trainable: true\\n      units: 2\\n      use_bias: true\\n  name: sequential_3\\nkeras_version: 2.5.0\\n')"
      ]
     },
     "execution_count": 78,
     "metadata": {},
     "output_type": "execute_result"
    }
   ],
   "source": [
    "json_string, yaml_string"
   ]
  },
  {
   "cell_type": "code",
   "execution_count": 79,
   "id": "bd38b644-dbeb-4d05-b5f3-d842a4dfceb5",
   "metadata": {
    "execution": {
     "iopub.execute_input": "2022-03-11T17:33:49.808316Z",
     "iopub.status.busy": "2022-03-11T17:33:49.807849Z",
     "iopub.status.idle": "2022-03-11T17:33:49.892655Z",
     "shell.execute_reply": "2022-03-11T17:33:49.891745Z",
     "shell.execute_reply.started": "2022-03-11T17:33:49.808282Z"
    }
   },
   "outputs": [
    {
     "name": "stdout",
     "output_type": "stream",
     "text": [
      "Model: \"sequential_3\"\n",
      "_________________________________________________________________\n",
      "Layer (type)                 Output Shape              Param #   \n",
      "=================================================================\n",
      "dense_9 (Dense)              (None, 16)                32        \n",
      "_________________________________________________________________\n",
      "dense_10 (Dense)             (None, 32)                544       \n",
      "_________________________________________________________________\n",
      "dense_11 (Dense)             (None, 2)                 66        \n",
      "=================================================================\n",
      "Total params: 642\n",
      "Trainable params: 642\n",
      "Non-trainable params: 0\n",
      "_________________________________________________________________\n",
      "Model: \"sequential_3\"\n",
      "_________________________________________________________________\n",
      "Layer (type)                 Output Shape              Param #   \n",
      "=================================================================\n",
      "dense_9 (Dense)              (None, 16)                32        \n",
      "_________________________________________________________________\n",
      "dense_10 (Dense)             (None, 32)                544       \n",
      "_________________________________________________________________\n",
      "dense_11 (Dense)             (None, 2)                 66        \n",
      "=================================================================\n",
      "Total params: 642\n",
      "Trainable params: 642\n",
      "Non-trainable params: 0\n",
      "_________________________________________________________________\n"
     ]
    },
    {
     "data": {
      "text/plain": [
       "(None, None)"
      ]
     },
     "execution_count": 79,
     "metadata": {},
     "output_type": "execute_result"
    }
   ],
   "source": [
    "# load and reconstruction from JSON and YAML\n",
    "from tensorflow.keras.models import model_from_json\n",
    "from tensorflow.keras.models import model_from_yaml\n",
    "\n",
    "model_architecture_json = model_from_json(json_string)\n",
    "model_architecture_yaml = model_from_yaml(json_string)\n",
    "\n",
    "model_architecture_json.summary(), model_architecture_yaml.summary()"
   ]
  },
  {
   "cell_type": "markdown",
   "id": "df5bc317-16f2-4187-8074-446872f359b3",
   "metadata": {},
   "source": [
    "### model.save_weights\n",
    "If you only need to save the weights of a model, you can use the following function save the weights only."
   ]
  },
  {
   "cell_type": "code",
   "execution_count": 80,
   "id": "d6b0835d-5314-402c-a035-19df5d995e31",
   "metadata": {
    "execution": {
     "iopub.execute_input": "2022-03-11T17:35:51.809057Z",
     "iopub.status.busy": "2022-03-11T17:35:51.808763Z",
     "iopub.status.idle": "2022-03-11T17:35:51.820045Z",
     "shell.execute_reply": "2022-03-11T17:35:51.819296Z",
     "shell.execute_reply.started": "2022-03-11T17:35:51.809034Z"
    }
   },
   "outputs": [],
   "source": [
    "# checks first to see if the exists already\n",
    "# if not, the weights are saved to disk\n",
    "import os.path\n",
    "if os.path.isfile('model/my_model_weights.h5') is False:\n",
    "    model.save_weights('model/my_model_weights.h5')"
   ]
  },
  {
   "cell_type": "code",
   "execution_count": 86,
   "id": "7a3d2698-f10f-4027-8a77-a8a20ca6d8fa",
   "metadata": {
    "execution": {
     "iopub.execute_input": "2022-03-11T17:37:59.106510Z",
     "iopub.status.busy": "2022-03-11T17:37:59.106218Z",
     "iopub.status.idle": "2022-03-11T17:37:59.133413Z",
     "shell.execute_reply": "2022-03-11T17:37:59.132740Z",
     "shell.execute_reply.started": "2022-03-11T17:37:59.106484Z"
    },
    "tags": []
   },
   "outputs": [],
   "source": [
    "# create a new model to load the exist weights\n",
    "model2 = Sequential([\n",
    "    Dense(units=16, input_shape=(1,), activation='relu'),\n",
    "    Dense(units=32, activation='relu'),\n",
    "    Dense(units=2, activation='softmax')\n",
    "])"
   ]
  },
  {
   "cell_type": "code",
   "execution_count": 87,
   "id": "34a109f8-e99f-4339-b5ad-747bf7685d12",
   "metadata": {
    "execution": {
     "iopub.execute_input": "2022-03-11T17:37:59.274803Z",
     "iopub.status.busy": "2022-03-11T17:37:59.274532Z",
     "iopub.status.idle": "2022-03-11T17:37:59.284902Z",
     "shell.execute_reply": "2022-03-11T17:37:59.284032Z",
     "shell.execute_reply.started": "2022-03-11T17:37:59.274775Z"
    },
    "tags": []
   },
   "outputs": [],
   "source": [
    "model2.load_weights('model/my_model_weights.h5')"
   ]
  },
  {
   "cell_type": "code",
   "execution_count": 88,
   "id": "462bbce5-6eb0-4cf1-b220-b1b0c961f084",
   "metadata": {
    "execution": {
     "iopub.execute_input": "2022-03-11T17:37:59.486695Z",
     "iopub.status.busy": "2022-03-11T17:37:59.486403Z",
     "iopub.status.idle": "2022-03-11T17:37:59.501898Z",
     "shell.execute_reply": "2022-03-11T17:37:59.501107Z",
     "shell.execute_reply.started": "2022-03-11T17:37:59.486670Z"
    },
    "scrolled": true,
    "tags": []
   },
   "outputs": [
    {
     "data": {
      "text/plain": [
       "[array([[-0.2453197 ,  0.62692946, -0.57432616,  0.5029591 ,  0.5672134 ,\n",
       "         -0.0124665 , -0.00867534,  0.34111133, -0.11166951,  0.35493356,\n",
       "         -0.17245662, -0.39856756, -0.33936626,  0.68436104,  0.48601544,\n",
       "         -0.49799907]], dtype=float32),\n",
       " array([ 0.        , -0.08961309,  0.        , -0.16433328, -0.11553204,\n",
       "         0.22433533,  0.20716096, -0.11276904,  0.        , -0.11971471,\n",
       "         0.        ,  0.        ,  0.        , -0.18014596, -0.12307021,\n",
       "         0.        ], dtype=float32),\n",
       " array([[ 1.23330951e-02, -3.21351916e-01,  2.73087621e-03,\n",
       "          1.09673440e-01,  1.42646670e-01, -1.27048388e-01,\n",
       "         -6.46701157e-02,  6.55634701e-02,  3.32103163e-01,\n",
       "          1.26492560e-01,  1.56111866e-01, -1.18497297e-01,\n",
       "         -3.21724266e-01, -1.62737831e-01,  3.85228097e-02,\n",
       "         -2.21373796e-01, -1.24827921e-02,  2.73079485e-01,\n",
       "         -2.97189653e-01, -1.97446600e-01, -2.39430174e-01,\n",
       "          1.35168225e-01, -2.46646047e-01,  2.52100378e-01,\n",
       "         -2.15512514e-03, -3.13037962e-01, -3.32567722e-01,\n",
       "         -2.64400244e-01, -1.58650428e-01, -1.77420363e-01,\n",
       "         -1.25903502e-01, -2.83062696e-01],\n",
       "        [ 3.99312556e-01, -3.39392535e-02,  4.88131285e-01,\n",
       "          1.36427805e-01,  4.18133140e-01,  1.51794299e-01,\n",
       "         -1.79787830e-01, -1.39108703e-01, -2.87041873e-01,\n",
       "          1.64918944e-01, -1.67249992e-01, -3.79507929e-01,\n",
       "         -6.80080578e-02, -1.57092139e-01,  2.71477103e-01,\n",
       "          2.85900742e-01,  2.66769469e-01,  9.19701159e-02,\n",
       "          3.28146279e-01, -2.94033676e-01,  1.91546097e-01,\n",
       "          3.68301779e-01,  5.69932535e-02,  4.28544849e-01,\n",
       "         -1.52038470e-01,  1.71106070e-01, -4.05657589e-01,\n",
       "          4.10873860e-01, -4.79553640e-02, -1.78814739e-01,\n",
       "         -2.03782886e-01, -1.31401479e-01],\n",
       "        [ 4.38297689e-02, -2.69480884e-01, -2.36659780e-01,\n",
       "          1.99782282e-01,  3.48955601e-01, -2.49781862e-01,\n",
       "          4.70453203e-02,  9.31492448e-02,  3.16786766e-02,\n",
       "          2.79934794e-01, -2.44093716e-01,  1.22872293e-01,\n",
       "         -1.47022277e-01,  3.49209636e-01, -1.43423960e-01,\n",
       "          3.49580973e-01,  1.07376188e-01, -3.78354788e-02,\n",
       "          3.49113733e-01, -2.85722673e-01,  2.01834708e-01,\n",
       "         -2.69563079e-01, -1.54213041e-01, -2.52106339e-01,\n",
       "         -1.02149963e-01, -1.29117712e-01,  2.86961466e-01,\n",
       "          2.28422076e-01, -4.39396501e-03, -3.44765514e-01,\n",
       "          3.38774949e-01,  3.18381816e-01],\n",
       "        [ 4.70462710e-01,  1.59838453e-01, -1.35939255e-01,\n",
       "          8.98279548e-02, -9.42203328e-02, -1.69164643e-01,\n",
       "          1.48953468e-01,  8.82530510e-02, -2.61335254e-01,\n",
       "          2.69000679e-01, -1.35797307e-01, -2.41898283e-01,\n",
       "         -1.90399244e-01,  2.07464486e-01, -3.51957679e-01,\n",
       "         -4.51012999e-01,  5.32550335e-01, -2.18590274e-01,\n",
       "         -2.36094579e-01,  5.72024807e-02,  3.80915552e-01,\n",
       "          2.18031198e-01, -3.40497285e-01,  2.27178652e-02,\n",
       "          1.75168186e-01, -4.03804332e-01, -2.20933005e-01,\n",
       "          3.52112502e-01,  2.13203877e-01, -3.91725868e-01,\n",
       "         -4.21813190e-01, -2.00817883e-02],\n",
       "        [ 2.27452114e-01,  1.99869066e-01,  9.84667689e-02,\n",
       "         -4.67984498e-01,  1.60715967e-01, -1.02628022e-01,\n",
       "         -1.58436149e-01, -1.54398322e-01, -1.92067057e-01,\n",
       "         -9.40320417e-02,  1.41128227e-01,  1.32822141e-01,\n",
       "         -5.32895960e-02, -6.23245258e-03, -2.18999460e-01,\n",
       "         -2.04881206e-01,  4.47309047e-01,  4.29238230e-02,\n",
       "         -2.09781229e-01, -3.41240197e-01,  4.18855608e-01,\n",
       "          8.21951963e-03, -1.54957861e-01,  2.02682316e-01,\n",
       "          4.25171167e-01,  1.42011493e-01,  1.89527988e-01,\n",
       "          3.69090974e-01, -3.34976494e-01, -1.40390009e-01,\n",
       "         -3.09396654e-01,  2.19531953e-02],\n",
       "        [ 2.72260576e-01,  2.86437273e-01, -7.16434345e-02,\n",
       "         -1.50639802e-01,  8.23458806e-02,  5.59969954e-02,\n",
       "         -7.54181668e-02, -1.40548185e-01, -3.44368994e-01,\n",
       "          2.54430212e-02,  8.48130360e-02,  1.59194827e-01,\n",
       "          4.47473563e-02, -2.30658025e-01,  2.17653811e-01,\n",
       "          3.89649391e-01, -1.30549401e-01,  1.15308419e-01,\n",
       "         -1.37656674e-01,  3.56240034e-01, -1.28797621e-01,\n",
       "          1.30788803e-01,  3.58315080e-01, -2.55677551e-01,\n",
       "          5.01702540e-03,  4.74262416e-01,  5.03582478e-01,\n",
       "         -3.52321237e-01, -2.04371154e-01,  3.93543839e-01,\n",
       "          4.48694199e-01, -1.94463536e-01],\n",
       "        [-3.15481335e-01, -1.48996532e-01,  1.41033530e-01,\n",
       "          4.42197084e-01,  2.52541125e-01,  3.78021479e-01,\n",
       "          9.49440524e-02, -2.92307615e-01,  4.16744649e-02,\n",
       "          2.03264635e-02, -1.84820071e-01,  1.95380971e-01,\n",
       "          2.16929227e-01, -5.14950417e-02, -2.75486231e-01,\n",
       "         -3.27071398e-02, -1.86332881e-01,  4.28297102e-01,\n",
       "         -1.31071657e-01,  3.42021018e-01,  4.87443171e-02,\n",
       "          1.50662422e-01,  2.30781421e-01,  3.94496955e-02,\n",
       "         -2.38471087e-02, -8.68090838e-02,  9.07323882e-02,\n",
       "          1.58126101e-01, -1.47596911e-01,  1.22766264e-01,\n",
       "          5.14254510e-01,  5.23896217e-02],\n",
       "        [ 1.81241184e-01, -2.59333730e-01,  4.87757683e-01,\n",
       "          4.84785065e-02,  4.31897193e-01,  5.02619259e-02,\n",
       "         -2.52846479e-02, -3.11660528e-01,  3.11852843e-01,\n",
       "          3.99595976e-01, -1.36766762e-01, -3.47106874e-01,\n",
       "         -2.21346647e-01,  1.72038510e-01,  5.16913161e-02,\n",
       "         -8.59143585e-02, -1.20151661e-01, -3.14215809e-01,\n",
       "         -2.10786834e-01,  8.67578313e-02,  1.69875532e-01,\n",
       "         -4.45806347e-02, -4.16231960e-01,  3.14390153e-01,\n",
       "          5.02631903e-01, -3.06761473e-01,  8.46709684e-02,\n",
       "          5.19140542e-01,  2.66202122e-01, -3.88038933e-01,\n",
       "          3.66223194e-02, -2.96679169e-01],\n",
       "        [-1.86676055e-01,  2.24825710e-01, -4.63228524e-02,\n",
       "          1.27533317e-01,  2.05482215e-01, -8.86914134e-03,\n",
       "         -2.04691052e-01,  2.05131173e-02, -2.38906205e-01,\n",
       "          1.59288794e-01,  1.11311674e-01,  3.21410686e-01,\n",
       "          7.28432536e-02, -4.96533811e-02, -9.25554037e-02,\n",
       "         -3.43509972e-01,  1.62473410e-01, -2.10504621e-01,\n",
       "          2.66010672e-01, -7.18635917e-02,  3.43790561e-01,\n",
       "          1.30799115e-01, -3.26694459e-01,  2.44236499e-01,\n",
       "          2.91318685e-01, -7.14643598e-02,  8.47464502e-02,\n",
       "         -2.06056535e-01, -2.20535994e-01, -2.40323350e-01,\n",
       "         -2.87370205e-01,  5.33826053e-02],\n",
       "        [-1.17127866e-01, -4.44813035e-02,  1.25781491e-01,\n",
       "         -3.26626241e-01,  3.17989290e-01,  1.43363342e-01,\n",
       "         -6.43223226e-02, -6.45402968e-02, -2.72272676e-01,\n",
       "          5.38350403e-01, -8.04602131e-02,  1.80228457e-01,\n",
       "         -3.86202633e-01,  6.64961189e-02, -2.03960296e-02,\n",
       "         -3.34723294e-01, -1.50143847e-01, -4.45977122e-01,\n",
       "         -2.04208598e-01, -4.25342679e-01,  1.43680274e-01,\n",
       "          1.24163017e-01, -3.15479219e-01,  8.83974433e-02,\n",
       "          3.96035582e-01, -3.16151679e-01,  6.22845292e-02,\n",
       "          2.32588427e-04, -8.78736377e-03,  2.13139564e-01,\n",
       "         -2.58629411e-01,  6.12638295e-02],\n",
       "        [-1.56222284e-02, -2.45837569e-02,  1.12015873e-01,\n",
       "          1.09646976e-01,  5.34727871e-02,  5.48642874e-03,\n",
       "         -2.60177732e-01, -2.07532004e-01,  1.97585911e-01,\n",
       "          3.29094529e-02, -1.90225333e-01,  1.92897528e-01,\n",
       "         -2.53092498e-01, -4.40958142e-02,  1.82685286e-01,\n",
       "          1.46137774e-01,  2.65422136e-01, -2.23528251e-01,\n",
       "          1.02389365e-01,  7.34319389e-02,  1.67108446e-01,\n",
       "          2.01813072e-01,  1.66505188e-01, -4.62538004e-02,\n",
       "          3.37322444e-01,  2.18762189e-01, -4.80169058e-02,\n",
       "         -1.31305158e-02, -1.38656974e-01, -2.04501569e-01,\n",
       "          1.37164563e-01,  2.67404467e-01],\n",
       "        [-1.50980636e-01, -2.17336789e-01, -1.63451299e-01,\n",
       "         -2.80207515e-01, -2.75497019e-01, -1.62150815e-01,\n",
       "         -3.42801988e-01,  1.06027722e-01,  1.91493332e-02,\n",
       "          2.46757716e-01, -1.85626432e-01, -3.40085328e-02,\n",
       "         -2.40770191e-01,  2.27909356e-01, -1.20581120e-01,\n",
       "          1.98754936e-01, -3.33032519e-01,  1.86886042e-01,\n",
       "          2.67280042e-02, -1.77807599e-01,  1.35141850e-01,\n",
       "         -1.09633058e-01, -3.53507191e-01, -3.14469010e-01,\n",
       "          9.68881845e-02,  9.41297710e-02,  2.43417412e-01,\n",
       "          2.88624138e-01, -3.00531149e-01, -3.58528793e-02,\n",
       "          2.49380857e-01, -7.55393803e-02],\n",
       "        [ 1.68314278e-02,  1.71660215e-01,  1.23352110e-02,\n",
       "          1.57301575e-01, -6.42837286e-02,  1.68113977e-01,\n",
       "         -4.62851524e-02,  3.25947791e-01,  1.84297293e-01,\n",
       "         -9.44955945e-02, -7.90810585e-02,  1.41554475e-02,\n",
       "          1.69351369e-01, -3.02394867e-01, -1.17982090e-01,\n",
       "         -2.57365406e-02,  3.40967685e-01,  1.03692114e-02,\n",
       "         -1.71831429e-01, -3.05051208e-01,  2.93382198e-01,\n",
       "         -4.20989692e-02, -4.84450161e-02,  1.75614953e-02,\n",
       "         -1.53813958e-02,  1.82431012e-01,  2.46560484e-01,\n",
       "         -3.41688126e-01, -1.03958577e-01, -2.46086925e-01,\n",
       "          3.15660328e-01, -4.13186550e-02],\n",
       "        [-4.90661860e-02,  4.26469604e-03,  1.47025451e-01,\n",
       "         -4.44841921e-01,  5.84940434e-01, -4.19510037e-01,\n",
       "         -1.95089504e-01,  3.30551058e-01, -2.54364908e-01,\n",
       "          2.79098332e-01, -6.14848435e-02,  1.16077885e-01,\n",
       "         -3.09973776e-01,  4.55610901e-02, -1.53588489e-01,\n",
       "         -2.31217980e-01,  4.92878705e-01, -2.37739846e-01,\n",
       "          5.85011654e-02, -2.24887922e-01,  4.77696240e-01,\n",
       "          5.63785493e-01, -4.12323177e-01,  2.05257997e-01,\n",
       "          1.46603435e-01, -2.86288768e-01, -3.77385348e-01,\n",
       "          1.06839970e-01,  7.77654946e-02, -1.30097315e-01,\n",
       "         -4.23939139e-01,  2.59787142e-02],\n",
       "        [ 4.46743041e-01, -2.30659947e-01,  3.03604633e-01,\n",
       "          6.92399591e-02,  3.32928210e-01, -3.37119281e-01,\n",
       "         -1.98492408e-02, -3.31043005e-01, -1.54043019e-01,\n",
       "          2.03111932e-01,  1.68205649e-01, -3.63766074e-01,\n",
       "          2.35021785e-01, -7.22265169e-02,  2.19663028e-02,\n",
       "         -3.67740393e-01, -1.73253611e-01, -3.18486094e-01,\n",
       "          3.15337539e-01,  1.78054944e-02,  3.89990091e-01,\n",
       "          4.33845460e-01,  1.11635059e-01,  3.13613087e-01,\n",
       "          5.42639494e-01, -4.13181365e-01, -3.13694149e-01,\n",
       "          1.53640360e-01, -2.26007670e-01, -1.91120490e-01,\n",
       "          2.15141386e-01, -8.68440866e-02],\n",
       "        [-7.71889091e-02,  5.42724133e-02,  3.49560648e-01,\n",
       "         -1.05323374e-01, -2.14585781e-01,  1.76076323e-01,\n",
       "         -2.21966043e-01, -4.94701862e-02, -2.86404103e-01,\n",
       "         -1.31914660e-01,  5.56409359e-04,  3.53151292e-01,\n",
       "          2.83663899e-01, -1.13762021e-02,  1.13440514e-01,\n",
       "          1.15805447e-01,  2.23928064e-01, -5.86116016e-02,\n",
       "          2.86467403e-01,  2.66361684e-01, -3.34939152e-01,\n",
       "          2.35376149e-01,  3.19761664e-01,  3.94544005e-03,\n",
       "          2.45424122e-01, -1.93872467e-01,  1.43775046e-01,\n",
       "          3.32777709e-01,  7.68240094e-02, -2.65173316e-01,\n",
       "          1.30232245e-01, -2.85219193e-01]], dtype=float32),\n",
       " array([-0.09474561,  0.09191519, -0.09823113,  0.17597026, -0.12874146,\n",
       "         0.10661392, -0.00440563,  0.        ,  0.        , -0.08351093,\n",
       "        -0.00232266,  0.14041245, -0.01247604, -0.00083002, -0.01276781,\n",
       "         0.2045532 , -0.05303107,  0.15493427, -0.00663554,  0.17602463,\n",
       "        -0.08568966, -0.12769037,  0.1992785 , -0.07460565, -0.08145508,\n",
       "         0.17655708,  0.19129403, -0.07995955,  0.        ,  0.19604349,\n",
       "         0.20704839,  0.        ], dtype=float32),\n",
       " array([[-4.38009381e-01,  5.79198778e-01],\n",
       "        [ 1.14275135e-01, -1.62180886e-01],\n",
       "        [-6.13997042e-01,  3.35715652e-01],\n",
       "        [ 8.13394845e-01, -2.50023127e-01],\n",
       "        [-3.77490938e-01,  9.95157436e-02],\n",
       "        [ 4.47693169e-01, -1.65218621e-01],\n",
       "        [ 2.71958262e-01,  3.47205549e-01],\n",
       "        [-1.84178352e-05,  1.51937336e-01],\n",
       "        [ 4.09753174e-01,  3.95734340e-01],\n",
       "        [-3.18303227e-01,  3.81555825e-01],\n",
       "        [ 2.32947245e-01,  3.39630276e-01],\n",
       "        [ 5.00012815e-01, -5.74560881e-01],\n",
       "        [-2.93795049e-01,  2.41252854e-01],\n",
       "        [ 2.66949654e-01,  1.79768860e-01],\n",
       "        [ 2.82932520e-01,  3.16607058e-01],\n",
       "        [ 5.85114181e-01, -8.04992080e-01],\n",
       "        [-2.21524566e-01,  2.06751391e-01],\n",
       "        [ 5.75145364e-01, -6.07921958e-01],\n",
       "        [ 2.96731561e-01,  2.11753055e-01],\n",
       "        [ 7.34144509e-01, -2.75566041e-01],\n",
       "        [-4.32925105e-01,  6.32966876e-01],\n",
       "        [-2.85217166e-01,  2.10810825e-01],\n",
       "        [ 4.53741670e-01, -3.94140422e-01],\n",
       "        [-5.59960008e-01,  2.41070405e-01],\n",
       "        [-1.97544217e-01,  6.11874998e-01],\n",
       "        [ 6.49821401e-01, -3.21909428e-01],\n",
       "        [ 7.64849782e-01, -2.00019315e-01],\n",
       "        [-3.61944914e-01,  2.73904860e-01],\n",
       "        [-4.31798995e-02, -1.95866957e-01],\n",
       "        [ 4.90969718e-01, -7.26047337e-01],\n",
       "        [ 2.40516350e-01, -7.46121883e-01],\n",
       "        [-4.74499166e-02, -3.37742567e-02]], dtype=float32),\n",
       " array([ 0.10043398, -0.10043397], dtype=float32)]"
      ]
     },
     "execution_count": 88,
     "metadata": {},
     "output_type": "execute_result"
    }
   ],
   "source": [
    "model2.get_weights()"
   ]
  },
  {
   "cell_type": "markdown",
   "id": "82d216e0-42df-4510-91ec-45bae36eb699",
   "metadata": {},
   "source": [
    "## Image Preparation for CNNs with TensorFlow's Keras API\n",
    "\n",
    "Data is downloaded from https://www.kaggle.com/c/dogs-vs-cats/data?select=test1.zip"
   ]
  },
  {
   "cell_type": "code",
   "execution_count": 24,
   "id": "416993d6-20bb-4ffc-b38f-df351e38847d",
   "metadata": {
    "execution": {
     "iopub.execute_input": "2022-03-12T05:06:33.887742Z",
     "iopub.status.busy": "2022-03-12T05:06:33.887154Z",
     "iopub.status.idle": "2022-03-12T05:06:33.896771Z",
     "shell.execute_reply": "2022-03-12T05:06:33.895934Z",
     "shell.execute_reply.started": "2022-03-12T05:06:33.887712Z"
    },
    "tags": []
   },
   "outputs": [],
   "source": [
    "# import required libraries\n",
    "import numpy as np\n",
    "import tensorflow as tf\n",
    "\n",
    "from tensorflow.keras.models import Sequential\n",
    "from tensorflow.keras.layers import Activation, Dense, Flatten, BatchNormalization, Conv2D, MaxPool2D\n",
    "from tensorflow.keras.optimizers import Adam\n",
    "from tensorflow.keras.metrics import categorical_crossentropy\n",
    "from tensorflow.keras.preprocessing.image import ImageDataGenerator\n",
    "from sklearn.metrics import confusion_matrix\n",
    "\n",
    "import os\n",
    "import shutil\n",
    "import random\n",
    "import glob\n",
    "\n",
    "import matplotlib.pyplot as plt\n",
    "import warnings\n",
    "\n",
    "warnings.simplefilter(action='ignore', category=FutureWarning)\n",
    "%matplotlib inline"
   ]
  },
  {
   "cell_type": "code",
   "execution_count": 2,
   "id": "d849da02-824a-4b66-b3e1-57ee2de2f9ae",
   "metadata": {
    "execution": {
     "iopub.execute_input": "2022-03-12T04:38:52.633425Z",
     "iopub.status.busy": "2022-03-12T04:38:52.633143Z",
     "iopub.status.idle": "2022-03-12T04:38:53.417006Z",
     "shell.execute_reply": "2022-03-12T04:38:53.416276Z",
     "shell.execute_reply.started": "2022-03-12T04:38:52.633396Z"
    },
    "tags": []
   },
   "outputs": [],
   "source": [
    "# organize data into train, valid, test directories\n",
    "os.chdir('dogs_vs_cats')\n",
    "\n",
    "if os.path.isdir('trian/dog') is False:\n",
    "    os.makedirs('train/dog')\n",
    "    os.makedirs('train/cat')\n",
    "    os.makedirs('valid/dog')\n",
    "    os.makedirs('valid/cat')  \n",
    "    os.makedirs('test/dog')\n",
    "    os.makedirs('test/cat')\n",
    "    \n",
    "    for c in random.sample(glob.glob('cat*'), 500):\n",
    "        shutil.move(c, 'train/cat')\n",
    "    for c in random.sample(glob.glob('dog*'), 500):\n",
    "        shutil.move(c, 'train/dog')\n",
    "    for c in random.sample(glob.glob('cat*'), 100):\n",
    "        shutil.move(c, 'valid/cat')\n",
    "    for c in random.sample(glob.glob('dog*'), 100):\n",
    "        shutil.move(c, 'valid/dog')\n",
    "    for c in random.sample(glob.glob('cat*'), 50):\n",
    "        shutil.move(c, 'test/cat')\n",
    "    for c in random.sample(glob.glob('dog*'), 50):\n",
    "        shutil.move(c, 'test/dog')\n",
    "        \n",
    "os.chdir('../')"
   ]
  },
  {
   "cell_type": "code",
   "execution_count": 13,
   "id": "ac54d7c8-051a-42eb-91bf-dc279f6fa5c0",
   "metadata": {
    "execution": {
     "iopub.execute_input": "2022-03-12T04:59:39.276160Z",
     "iopub.status.busy": "2022-03-12T04:59:39.275813Z",
     "iopub.status.idle": "2022-03-12T04:59:39.280626Z",
     "shell.execute_reply": "2022-03-12T04:59:39.279529Z",
     "shell.execute_reply.started": "2022-03-12T04:59:39.276125Z"
    },
    "tags": []
   },
   "outputs": [],
   "source": [
    "# define the train test valid path\n",
    "train_path = 'dogs_vs_cats/train'\n",
    "valid_path = 'dogs_vs_cats/valid'\n",
    "test_path = 'dogs_vs_cats/test'"
   ]
  },
  {
   "cell_type": "code",
   "execution_count": 14,
   "id": "a311b513-4bd6-45a7-9866-5b40add81854",
   "metadata": {
    "execution": {
     "iopub.execute_input": "2022-03-12T04:59:39.495687Z",
     "iopub.status.busy": "2022-03-12T04:59:39.495225Z",
     "iopub.status.idle": "2022-03-12T04:59:39.584882Z",
     "shell.execute_reply": "2022-03-12T04:59:39.583617Z",
     "shell.execute_reply.started": "2022-03-12T04:59:39.495649Z"
    },
    "tags": []
   },
   "outputs": [
    {
     "name": "stdout",
     "output_type": "stream",
     "text": [
      "Found 1000 images belonging to 2 classes.\n"
     ]
    }
   ],
   "source": [
    "train_batches = ImageDataGenerator(preprocessing_function=tf.keras.applications.vgg16.preprocess_input).flow_from_directory(directory=train_path, target_size=(224, 224), classes=['cat', 'dog'], batch_size=10)"
   ]
  },
  {
   "cell_type": "code",
   "execution_count": 15,
   "id": "e0bf4665-d218-404f-a49f-6ae394176bbb",
   "metadata": {
    "execution": {
     "iopub.execute_input": "2022-03-12T04:59:40.031125Z",
     "iopub.status.busy": "2022-03-12T04:59:40.030535Z",
     "iopub.status.idle": "2022-03-12T04:59:40.061780Z",
     "shell.execute_reply": "2022-03-12T04:59:40.058811Z",
     "shell.execute_reply.started": "2022-03-12T04:59:40.031103Z"
    }
   },
   "outputs": [
    {
     "name": "stdout",
     "output_type": "stream",
     "text": [
      "Found 200 images belonging to 2 classes.\n"
     ]
    }
   ],
   "source": [
    "valid_batches = ImageDataGenerator(preprocessing_function=tf.keras.applications.vgg16.preprocess_input).flow_from_directory(directory=valid_path, target_size=(224, 224), classes=['cat', 'dog'], batch_size=10)"
   ]
  },
  {
   "cell_type": "code",
   "execution_count": 18,
   "id": "3131b4aa-dbe0-40fd-9e3a-fa8f03496bbe",
   "metadata": {
    "execution": {
     "iopub.execute_input": "2022-03-12T05:02:21.016561Z",
     "iopub.status.busy": "2022-03-12T05:02:21.016235Z",
     "iopub.status.idle": "2022-03-12T05:02:21.032760Z",
     "shell.execute_reply": "2022-03-12T05:02:21.032111Z",
     "shell.execute_reply.started": "2022-03-12T05:02:21.016535Z"
    },
    "tags": []
   },
   "outputs": [
    {
     "name": "stdout",
     "output_type": "stream",
     "text": [
      "Found 100 images belonging to 2 classes.\n"
     ]
    }
   ],
   "source": [
    "test_batches = ImageDataGenerator(preprocessing_function=tf.keras.applications.vgg16.preprocess_input).flow_from_directory(directory=test_path, target_size=(224, 224), classes=['cat', 'dog'], batch_size=10, shuffle=False)"
   ]
  },
  {
   "cell_type": "code",
   "execution_count": 20,
   "id": "551b1b17-01ec-47c7-9a42-9b78f06cf3d8",
   "metadata": {
    "execution": {
     "iopub.execute_input": "2022-03-12T05:04:42.467844Z",
     "iopub.status.busy": "2022-03-12T05:04:42.467407Z",
     "iopub.status.idle": "2022-03-12T05:04:42.472086Z",
     "shell.execute_reply": "2022-03-12T05:04:42.471288Z",
     "shell.execute_reply.started": "2022-03-12T05:04:42.467812Z"
    },
    "tags": []
   },
   "outputs": [],
   "source": [
    "assert train_batches.n == 1000\n",
    "assert valid_batches.n == 200\n",
    "assert test_batches.n == 100\n",
    "assert train_batches.num_classes == valid_batches.num_classes == test_batches.num_classes == 2"
   ]
  },
  {
   "cell_type": "code",
   "execution_count": 21,
   "id": "759956d3-b85f-4141-8e35-43b957166b2a",
   "metadata": {
    "execution": {
     "iopub.execute_input": "2022-03-12T05:04:55.299858Z",
     "iopub.status.busy": "2022-03-12T05:04:55.299601Z",
     "iopub.status.idle": "2022-03-12T05:04:55.350986Z",
     "shell.execute_reply": "2022-03-12T05:04:55.350400Z",
     "shell.execute_reply.started": "2022-03-12T05:04:55.299833Z"
    }
   },
   "outputs": [],
   "source": [
    "imgs, labels = next(train_batches)"
   ]
  },
  {
   "cell_type": "code",
   "execution_count": 25,
   "id": "307a7eab-5482-4602-8845-558efe43ce96",
   "metadata": {
    "execution": {
     "iopub.execute_input": "2022-03-12T05:06:37.029019Z",
     "iopub.status.busy": "2022-03-12T05:06:37.028538Z",
     "iopub.status.idle": "2022-03-12T05:06:37.035766Z",
     "shell.execute_reply": "2022-03-12T05:06:37.034412Z",
     "shell.execute_reply.started": "2022-03-12T05:06:37.028960Z"
    },
    "tags": []
   },
   "outputs": [],
   "source": [
    "def plotImages(images_arr):\n",
    "    fig, axes = plt.subplots(1, 10, figsize=(20, 20))\n",
    "    axes = axes.flatten()\n",
    "    \n",
    "    for img, ax in zip(images_arr, axes):\n",
    "        ax.imshow(img)\n",
    "        ax.axis('off')\n",
    "    \n",
    "    plt.tight_layout()\n",
    "    plt.show()"
   ]
  },
  {
   "cell_type": "code",
   "execution_count": 26,
   "id": "370454ed-1c4c-4026-ad96-79dba119cd88",
   "metadata": {
    "execution": {
     "iopub.execute_input": "2022-03-12T05:06:37.356034Z",
     "iopub.status.busy": "2022-03-12T05:06:37.355738Z",
     "iopub.status.idle": "2022-03-12T05:06:38.027359Z",
     "shell.execute_reply": "2022-03-12T05:06:38.026632Z",
     "shell.execute_reply.started": "2022-03-12T05:06:37.356003Z"
    },
    "tags": []
   },
   "outputs": [
    {
     "name": "stderr",
     "output_type": "stream",
     "text": [
      "Clipping input data to the valid range for imshow with RGB data ([0..1] for floats or [0..255] for integers).\n",
      "Clipping input data to the valid range for imshow with RGB data ([0..1] for floats or [0..255] for integers).\n",
      "Clipping input data to the valid range for imshow with RGB data ([0..1] for floats or [0..255] for integers).\n",
      "Clipping input data to the valid range for imshow with RGB data ([0..1] for floats or [0..255] for integers).\n",
      "Clipping input data to the valid range for imshow with RGB data ([0..1] for floats or [0..255] for integers).\n",
      "Clipping input data to the valid range for imshow with RGB data ([0..1] for floats or [0..255] for integers).\n",
      "Clipping input data to the valid range for imshow with RGB data ([0..1] for floats or [0..255] for integers).\n",
      "Clipping input data to the valid range for imshow with RGB data ([0..1] for floats or [0..255] for integers).\n",
      "Clipping input data to the valid range for imshow with RGB data ([0..1] for floats or [0..255] for integers).\n",
      "Clipping input data to the valid range for imshow with RGB data ([0..1] for floats or [0..255] for integers).\n"
     ]
    },
    {
     "data": {
      "image/png": "[encoded data removed]",
      "text/plain": [
       "<Figure size 1440x1440 with 10 Axes>"
      ]
     },
     "metadata": {
      "needs_background": "light"
     },
     "output_type": "display_data"
    },
    {
     "name": "stdout",
     "output_type": "stream",
     "text": [
      "[[1. 0.]\n",
      " [1. 0.]\n",
      " [0. 1.]\n",
      " [1. 0.]\n",
      " [0. 1.]\n",
      " [0. 1.]\n",
      " [0. 1.]\n",
      " [1. 0.]\n",
      " [1. 0.]\n",
      " [1. 0.]]\n"
     ]
    }
   ],
   "source": [
    "plotImages(imgs)\n",
    "print(labels)"
   ]
  },
  {
   "cell_type": "markdown",
   "id": "819c2d1a-ebb9-4b00-b47b-e1d0f1671e26",
   "metadata": {},
   "source": [
    "## Build and Train a CNN with TensorFlow's Keras API"
   ]
  },
  {
   "cell_type": "code",
   "execution_count": 31,
   "id": "68224449-85bf-4cb1-b5ed-39d431fbb81b",
   "metadata": {
    "execution": {
     "iopub.execute_input": "2022-03-12T05:10:58.303287Z",
     "iopub.status.busy": "2022-03-12T05:10:58.302924Z",
     "iopub.status.idle": "2022-03-12T05:10:58.349824Z",
     "shell.execute_reply": "2022-03-12T05:10:58.347945Z",
     "shell.execute_reply.started": "2022-03-12T05:10:58.303252Z"
    },
    "tags": []
   },
   "outputs": [
    {
     "ename": "ValueError",
     "evalue": "Input 0 of layer conv2d_7 is incompatible with the layer: : expected min_ndim=4, found ndim=3. Full shape received: (None, 224, 224)",
     "output_type": "error",
     "traceback": [
      "\u001b[0;31m---------------------------------------------------------------------------\u001b[0m",
      "\u001b[0;31mValueError\u001b[0m                                Traceback (most recent call last)",
      "\u001b[0;32m/var/folders/zq/9h3tvlbn68nd_zjmj39zc0xc0000gn/T/ipykernel_8471/852881718.py\u001b[0m in \u001b[0;36m<module>\u001b[0;34m\u001b[0m\n\u001b[0;32m----> 1\u001b[0;31m model = Sequential([\n\u001b[0m\u001b[1;32m      2\u001b[0m     Conv2D(filters=32, kernel_size=(3, 3), activation='relu', \n\u001b[1;32m      3\u001b[0m            padding='same', input_shape=(224, 224)),\n\u001b[1;32m      4\u001b[0m \u001b[0;34m\u001b[0m\u001b[0m\n\u001b[1;32m      5\u001b[0m     \u001b[0mFlatten\u001b[0m\u001b[0;34m(\u001b[0m\u001b[0;34m)\u001b[0m\u001b[0;34m,\u001b[0m\u001b[0;34m\u001b[0m\u001b[0;34m\u001b[0m\u001b[0m\n",
      "\u001b[0;32m/Library/Frameworks/Python.framework/Versions/3.9/lib/python3.9/site-packages/tensorflow/python/training/tracking/base.py\u001b[0m in \u001b[0;36m_method_wrapper\u001b[0;34m(self, *args, **kwargs)\u001b[0m\n\u001b[1;32m    520\u001b[0m     \u001b[0mself\u001b[0m\u001b[0;34m.\u001b[0m\u001b[0m_self_setattr_tracking\u001b[0m \u001b[0;34m=\u001b[0m \u001b[0;32mFalse\u001b[0m  \u001b[0;31m# pylint: disable=protected-access\u001b[0m\u001b[0;34m\u001b[0m\u001b[0;34m\u001b[0m\u001b[0m\n\u001b[1;32m    521\u001b[0m     \u001b[0;32mtry\u001b[0m\u001b[0;34m:\u001b[0m\u001b[0;34m\u001b[0m\u001b[0;34m\u001b[0m\u001b[0m\n\u001b[0;32m--> 522\u001b[0;31m       \u001b[0mresult\u001b[0m \u001b[0;34m=\u001b[0m \u001b[0mmethod\u001b[0m\u001b[0;34m(\u001b[0m\u001b[0mself\u001b[0m\u001b[0;34m,\u001b[0m \u001b[0;34m*\u001b[0m\u001b[0margs\u001b[0m\u001b[0;34m,\u001b[0m \u001b[0;34m**\u001b[0m\u001b[0mkwargs\u001b[0m\u001b[0;34m)\u001b[0m\u001b[0;34m\u001b[0m\u001b[0;34m\u001b[0m\u001b[0m\n\u001b[0m\u001b[1;32m    523\u001b[0m     \u001b[0;32mfinally\u001b[0m\u001b[0;34m:\u001b[0m\u001b[0;34m\u001b[0m\u001b[0;34m\u001b[0m\u001b[0m\n\u001b[1;32m    524\u001b[0m       \u001b[0mself\u001b[0m\u001b[0;34m.\u001b[0m\u001b[0m_self_setattr_tracking\u001b[0m \u001b[0;34m=\u001b[0m \u001b[0mprevious_value\u001b[0m  \u001b[0;31m# pylint: disable=protected-access\u001b[0m\u001b[0;34m\u001b[0m\u001b[0;34m\u001b[0m\u001b[0m\n",
      "\u001b[0;32m/Library/Frameworks/Python.framework/Versions/3.9/lib/python3.9/site-packages/tensorflow/python/keras/engine/sequential.py\u001b[0m in \u001b[0;36m__init__\u001b[0;34m(self, layers, name)\u001b[0m\n\u001b[1;32m    139\u001b[0m         \u001b[0mlayers\u001b[0m \u001b[0;34m=\u001b[0m \u001b[0;34m[\u001b[0m\u001b[0mlayers\u001b[0m\u001b[0;34m]\u001b[0m\u001b[0;34m\u001b[0m\u001b[0;34m\u001b[0m\u001b[0m\n\u001b[1;32m    140\u001b[0m       \u001b[0;32mfor\u001b[0m \u001b[0mlayer\u001b[0m \u001b[0;32min\u001b[0m \u001b[0mlayers\u001b[0m\u001b[0;34m:\u001b[0m\u001b[0;34m\u001b[0m\u001b[0;34m\u001b[0m\u001b[0m\n\u001b[0;32m--> 141\u001b[0;31m         \u001b[0mself\u001b[0m\u001b[0;34m.\u001b[0m\u001b[0madd\u001b[0m\u001b[0;34m(\u001b[0m\u001b[0mlayer\u001b[0m\u001b[0;34m)\u001b[0m\u001b[0;34m\u001b[0m\u001b[0;34m\u001b[0m\u001b[0m\n\u001b[0m\u001b[1;32m    142\u001b[0m \u001b[0;34m\u001b[0m\u001b[0m\n\u001b[1;32m    143\u001b[0m   \u001b[0;34m@\u001b[0m\u001b[0mproperty\u001b[0m\u001b[0;34m\u001b[0m\u001b[0;34m\u001b[0m\u001b[0m\n",
      "\u001b[0;32m/Library/Frameworks/Python.framework/Versions/3.9/lib/python3.9/site-packages/tensorflow/python/training/tracking/base.py\u001b[0m in \u001b[0;36m_method_wrapper\u001b[0;34m(self, *args, **kwargs)\u001b[0m\n\u001b[1;32m    520\u001b[0m     \u001b[0mself\u001b[0m\u001b[0;34m.\u001b[0m\u001b[0m_self_setattr_tracking\u001b[0m \u001b[0;34m=\u001b[0m \u001b[0;32mFalse\u001b[0m  \u001b[0;31m# pylint: disable=protected-access\u001b[0m\u001b[0;34m\u001b[0m\u001b[0;34m\u001b[0m\u001b[0m\n\u001b[1;32m    521\u001b[0m     \u001b[0;32mtry\u001b[0m\u001b[0;34m:\u001b[0m\u001b[0;34m\u001b[0m\u001b[0;34m\u001b[0m\u001b[0m\n\u001b[0;32m--> 522\u001b[0;31m       \u001b[0mresult\u001b[0m \u001b[0;34m=\u001b[0m \u001b[0mmethod\u001b[0m\u001b[0;34m(\u001b[0m\u001b[0mself\u001b[0m\u001b[0;34m,\u001b[0m \u001b[0;34m*\u001b[0m\u001b[0margs\u001b[0m\u001b[0;34m,\u001b[0m \u001b[0;34m**\u001b[0m\u001b[0mkwargs\u001b[0m\u001b[0;34m)\u001b[0m\u001b[0;34m\u001b[0m\u001b[0;34m\u001b[0m\u001b[0m\n\u001b[0m\u001b[1;32m    523\u001b[0m     \u001b[0;32mfinally\u001b[0m\u001b[0;34m:\u001b[0m\u001b[0;34m\u001b[0m\u001b[0;34m\u001b[0m\u001b[0m\n\u001b[1;32m    524\u001b[0m       \u001b[0mself\u001b[0m\u001b[0;34m.\u001b[0m\u001b[0m_self_setattr_tracking\u001b[0m \u001b[0;34m=\u001b[0m \u001b[0mprevious_value\u001b[0m  \u001b[0;31m# pylint: disable=protected-access\u001b[0m\u001b[0;34m\u001b[0m\u001b[0;34m\u001b[0m\u001b[0m\n",
      "\u001b[0;32m/Library/Frameworks/Python.framework/Versions/3.9/lib/python3.9/site-packages/tensorflow/python/keras/engine/sequential.py\u001b[0m in \u001b[0;36madd\u001b[0;34m(self, layer)\u001b[0m\n\u001b[1;32m    211\u001b[0m           \u001b[0;31m# and create the node connecting the current layer\u001b[0m\u001b[0;34m\u001b[0m\u001b[0;34m\u001b[0m\u001b[0;34m\u001b[0m\u001b[0m\n\u001b[1;32m    212\u001b[0m           \u001b[0;31m# to the input layer we just created.\u001b[0m\u001b[0;34m\u001b[0m\u001b[0;34m\u001b[0m\u001b[0;34m\u001b[0m\u001b[0m\n\u001b[0;32m--> 213\u001b[0;31m           \u001b[0mlayer\u001b[0m\u001b[0;34m(\u001b[0m\u001b[0mx\u001b[0m\u001b[0;34m)\u001b[0m\u001b[0;34m\u001b[0m\u001b[0;34m\u001b[0m\u001b[0m\n\u001b[0m\u001b[1;32m    214\u001b[0m           \u001b[0mset_inputs\u001b[0m \u001b[0;34m=\u001b[0m \u001b[0;32mTrue\u001b[0m\u001b[0;34m\u001b[0m\u001b[0;34m\u001b[0m\u001b[0m\n\u001b[1;32m    215\u001b[0m \u001b[0;34m\u001b[0m\u001b[0m\n",
      "\u001b[0;32m/Library/Frameworks/Python.framework/Versions/3.9/lib/python3.9/site-packages/tensorflow/python/keras/engine/base_layer.py\u001b[0m in \u001b[0;36m__call__\u001b[0;34m(self, *args, **kwargs)\u001b[0m\n\u001b[1;32m    967\u001b[0m     \u001b[0;31m# >> model = tf.keras.Model(inputs, outputs)\u001b[0m\u001b[0;34m\u001b[0m\u001b[0;34m\u001b[0m\u001b[0;34m\u001b[0m\u001b[0m\n\u001b[1;32m    968\u001b[0m     \u001b[0;32mif\u001b[0m \u001b[0m_in_functional_construction_mode\u001b[0m\u001b[0;34m(\u001b[0m\u001b[0mself\u001b[0m\u001b[0;34m,\u001b[0m \u001b[0minputs\u001b[0m\u001b[0;34m,\u001b[0m \u001b[0margs\u001b[0m\u001b[0;34m,\u001b[0m \u001b[0mkwargs\u001b[0m\u001b[0;34m,\u001b[0m \u001b[0minput_list\u001b[0m\u001b[0;34m)\u001b[0m\u001b[0;34m:\u001b[0m\u001b[0;34m\u001b[0m\u001b[0;34m\u001b[0m\u001b[0m\n\u001b[0;32m--> 969\u001b[0;31m       return self._functional_construction_call(inputs, args, kwargs,\n\u001b[0m\u001b[1;32m    970\u001b[0m                                                 input_list)\n\u001b[1;32m    971\u001b[0m \u001b[0;34m\u001b[0m\u001b[0m\n",
      "\u001b[0;32m/Library/Frameworks/Python.framework/Versions/3.9/lib/python3.9/site-packages/tensorflow/python/keras/engine/base_layer.py\u001b[0m in \u001b[0;36m_functional_construction_call\u001b[0;34m(self, inputs, args, kwargs, input_list)\u001b[0m\n\u001b[1;32m   1105\u001b[0m         layer=self, inputs=inputs, build_graph=True, training=training_value):\n\u001b[1;32m   1106\u001b[0m       \u001b[0;31m# Check input assumptions set after layer building, e.g. input shape.\u001b[0m\u001b[0;34m\u001b[0m\u001b[0;34m\u001b[0m\u001b[0;34m\u001b[0m\u001b[0m\n\u001b[0;32m-> 1107\u001b[0;31m       outputs = self._keras_tensor_symbolic_call(\n\u001b[0m\u001b[1;32m   1108\u001b[0m           inputs, input_masks, args, kwargs)\n\u001b[1;32m   1109\u001b[0m \u001b[0;34m\u001b[0m\u001b[0m\n",
      "\u001b[0;32m/Library/Frameworks/Python.framework/Versions/3.9/lib/python3.9/site-packages/tensorflow/python/keras/engine/base_layer.py\u001b[0m in \u001b[0;36m_keras_tensor_symbolic_call\u001b[0;34m(self, inputs, input_masks, args, kwargs)\u001b[0m\n\u001b[1;32m    838\u001b[0m       \u001b[0;32mreturn\u001b[0m \u001b[0mnest\u001b[0m\u001b[0;34m.\u001b[0m\u001b[0mmap_structure\u001b[0m\u001b[0;34m(\u001b[0m\u001b[0mkeras_tensor\u001b[0m\u001b[0;34m.\u001b[0m\u001b[0mKerasTensor\u001b[0m\u001b[0;34m,\u001b[0m \u001b[0moutput_signature\u001b[0m\u001b[0;34m)\u001b[0m\u001b[0;34m\u001b[0m\u001b[0;34m\u001b[0m\u001b[0m\n\u001b[1;32m    839\u001b[0m     \u001b[0;32melse\u001b[0m\u001b[0;34m:\u001b[0m\u001b[0;34m\u001b[0m\u001b[0;34m\u001b[0m\u001b[0m\n\u001b[0;32m--> 840\u001b[0;31m       \u001b[0;32mreturn\u001b[0m \u001b[0mself\u001b[0m\u001b[0;34m.\u001b[0m\u001b[0m_infer_output_signature\u001b[0m\u001b[0;34m(\u001b[0m\u001b[0minputs\u001b[0m\u001b[0;34m,\u001b[0m \u001b[0margs\u001b[0m\u001b[0;34m,\u001b[0m \u001b[0mkwargs\u001b[0m\u001b[0;34m,\u001b[0m \u001b[0minput_masks\u001b[0m\u001b[0;34m)\u001b[0m\u001b[0;34m\u001b[0m\u001b[0;34m\u001b[0m\u001b[0m\n\u001b[0m\u001b[1;32m    841\u001b[0m \u001b[0;34m\u001b[0m\u001b[0m\n\u001b[1;32m    842\u001b[0m   \u001b[0;32mdef\u001b[0m \u001b[0m_infer_output_signature\u001b[0m\u001b[0;34m(\u001b[0m\u001b[0mself\u001b[0m\u001b[0;34m,\u001b[0m \u001b[0minputs\u001b[0m\u001b[0;34m,\u001b[0m \u001b[0margs\u001b[0m\u001b[0;34m,\u001b[0m \u001b[0mkwargs\u001b[0m\u001b[0;34m,\u001b[0m \u001b[0minput_masks\u001b[0m\u001b[0;34m)\u001b[0m\u001b[0;34m:\u001b[0m\u001b[0;34m\u001b[0m\u001b[0;34m\u001b[0m\u001b[0m\n",
      "\u001b[0;32m/Library/Frameworks/Python.framework/Versions/3.9/lib/python3.9/site-packages/tensorflow/python/keras/engine/base_layer.py\u001b[0m in \u001b[0;36m_infer_output_signature\u001b[0;34m(self, inputs, args, kwargs, input_masks)\u001b[0m\n\u001b[1;32m    876\u001b[0m           \u001b[0;31m# overridden).\u001b[0m\u001b[0;34m\u001b[0m\u001b[0;34m\u001b[0m\u001b[0;34m\u001b[0m\u001b[0m\n\u001b[1;32m    877\u001b[0m           \u001b[0;31m# TODO(kaftan): do we maybe_build here, or have we already done it?\u001b[0m\u001b[0;34m\u001b[0m\u001b[0;34m\u001b[0m\u001b[0;34m\u001b[0m\u001b[0m\n\u001b[0;32m--> 878\u001b[0;31m           \u001b[0mself\u001b[0m\u001b[0;34m.\u001b[0m\u001b[0m_maybe_build\u001b[0m\u001b[0;34m(\u001b[0m\u001b[0minputs\u001b[0m\u001b[0;34m)\u001b[0m\u001b[0;34m\u001b[0m\u001b[0;34m\u001b[0m\u001b[0m\n\u001b[0m\u001b[1;32m    879\u001b[0m           \u001b[0minputs\u001b[0m \u001b[0;34m=\u001b[0m \u001b[0mself\u001b[0m\u001b[0;34m.\u001b[0m\u001b[0m_maybe_cast_inputs\u001b[0m\u001b[0;34m(\u001b[0m\u001b[0minputs\u001b[0m\u001b[0;34m)\u001b[0m\u001b[0;34m\u001b[0m\u001b[0;34m\u001b[0m\u001b[0m\n\u001b[1;32m    880\u001b[0m           \u001b[0moutputs\u001b[0m \u001b[0;34m=\u001b[0m \u001b[0mcall_fn\u001b[0m\u001b[0;34m(\u001b[0m\u001b[0minputs\u001b[0m\u001b[0;34m,\u001b[0m \u001b[0;34m*\u001b[0m\u001b[0margs\u001b[0m\u001b[0;34m,\u001b[0m \u001b[0;34m**\u001b[0m\u001b[0mkwargs\u001b[0m\u001b[0;34m)\u001b[0m\u001b[0;34m\u001b[0m\u001b[0;34m\u001b[0m\u001b[0m\n",
      "\u001b[0;32m/Library/Frameworks/Python.framework/Versions/3.9/lib/python3.9/site-packages/tensorflow/python/keras/engine/base_layer.py\u001b[0m in \u001b[0;36m_maybe_build\u001b[0;34m(self, inputs)\u001b[0m\n\u001b[1;32m   2597\u001b[0m     \u001b[0;31m# Check input assumptions set before layer building, e.g. input rank.\u001b[0m\u001b[0;34m\u001b[0m\u001b[0;34m\u001b[0m\u001b[0;34m\u001b[0m\u001b[0m\n\u001b[1;32m   2598\u001b[0m     \u001b[0;32mif\u001b[0m \u001b[0;32mnot\u001b[0m \u001b[0mself\u001b[0m\u001b[0;34m.\u001b[0m\u001b[0mbuilt\u001b[0m\u001b[0;34m:\u001b[0m\u001b[0;34m\u001b[0m\u001b[0;34m\u001b[0m\u001b[0m\n\u001b[0;32m-> 2599\u001b[0;31m       input_spec.assert_input_compatibility(\n\u001b[0m\u001b[1;32m   2600\u001b[0m           self.input_spec, inputs, self.name)\n\u001b[1;32m   2601\u001b[0m       \u001b[0minput_list\u001b[0m \u001b[0;34m=\u001b[0m \u001b[0mnest\u001b[0m\u001b[0;34m.\u001b[0m\u001b[0mflatten\u001b[0m\u001b[0;34m(\u001b[0m\u001b[0minputs\u001b[0m\u001b[0;34m)\u001b[0m\u001b[0;34m\u001b[0m\u001b[0;34m\u001b[0m\u001b[0m\n",
      "\u001b[0;32m/Library/Frameworks/Python.framework/Versions/3.9/lib/python3.9/site-packages/tensorflow/python/keras/engine/input_spec.py\u001b[0m in \u001b[0;36massert_input_compatibility\u001b[0;34m(input_spec, inputs, layer_name)\u001b[0m\n\u001b[1;32m    228\u001b[0m       \u001b[0mndim\u001b[0m \u001b[0;34m=\u001b[0m \u001b[0mx\u001b[0m\u001b[0;34m.\u001b[0m\u001b[0mshape\u001b[0m\u001b[0;34m.\u001b[0m\u001b[0mrank\u001b[0m\u001b[0;34m\u001b[0m\u001b[0;34m\u001b[0m\u001b[0m\n\u001b[1;32m    229\u001b[0m       \u001b[0;32mif\u001b[0m \u001b[0mndim\u001b[0m \u001b[0;32mis\u001b[0m \u001b[0;32mnot\u001b[0m \u001b[0;32mNone\u001b[0m \u001b[0;32mand\u001b[0m \u001b[0mndim\u001b[0m \u001b[0;34m<\u001b[0m \u001b[0mspec\u001b[0m\u001b[0;34m.\u001b[0m\u001b[0mmin_ndim\u001b[0m\u001b[0;34m:\u001b[0m\u001b[0;34m\u001b[0m\u001b[0;34m\u001b[0m\u001b[0m\n\u001b[0;32m--> 230\u001b[0;31m         raise ValueError('Input ' + str(input_index) + ' of layer ' +\n\u001b[0m\u001b[1;32m    231\u001b[0m                          \u001b[0mlayer_name\u001b[0m \u001b[0;34m+\u001b[0m \u001b[0;34m' is incompatible with the layer: '\u001b[0m\u001b[0;34m\u001b[0m\u001b[0;34m\u001b[0m\u001b[0m\n\u001b[1;32m    232\u001b[0m                          \u001b[0;34m': expected min_ndim='\u001b[0m \u001b[0;34m+\u001b[0m \u001b[0mstr\u001b[0m\u001b[0;34m(\u001b[0m\u001b[0mspec\u001b[0m\u001b[0;34m.\u001b[0m\u001b[0mmin_ndim\u001b[0m\u001b[0;34m)\u001b[0m \u001b[0;34m+\u001b[0m\u001b[0;34m\u001b[0m\u001b[0;34m\u001b[0m\u001b[0m\n",
      "\u001b[0;31mValueError\u001b[0m: Input 0 of layer conv2d_7 is incompatible with the layer: : expected min_ndim=4, found ndim=3. Full shape received: (None, 224, 224)"
     ]
    }
   ],
   "source": [
    "model = Sequential([\n",
    "    Conv2D(filters=32, kernel_size=(3, 3), activation='relu', \n",
    "           padding='same', input_shape=(224, 224, 3)),\n",
    "    # MaxPool2D(pool_size=(2, 2), strides=2),\n",
    "    # Conv2D(filters=64, kernel_size=(3, 3), activation='relu', \n",
    "    #        padding='same'),\n",
    "    # MaxPool2D(pool_size=(2, 2), strides=2),\n",
    "    Flatten(),\n",
    "    Dense(units=2, activation='softmax')\n",
    "])\n",
    "\n",
    "model.summary()"
   ]
  },
  {
   "cell_type": "code",
   "execution_count": null,
   "id": "5cf89c29-6a0f-4e1c-8695-fce0fa1e7a6d",
   "metadata": {},
   "outputs": [],
   "source": []
  }
 ],
 "metadata": {
  "kernelspec": {
   "display_name": "PyPy3",
   "language": "python",
   "name": "pypy3"
  },
  "language_info": {
   "codemirror_mode": {
    "name": "ipython",
    "version": 3
   },
   "file_extension": ".py",
   "mimetype": "text/x-python",
   "name": "python",
   "nbconvert_exporter": "python",
   "pygments_lexer": "ipython3",
   "version": "3.9.2"
  },
  "widgets": {
   "application/vnd.jupyter.widget-state+json": {
    "state": {},
    "version_major": 2,
    "version_minor": 0
   }
  }
 },
 "nbformat": 4,
 "nbformat_minor": 5
}
